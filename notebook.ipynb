{
 "cells": [
  {
   "cell_type": "code",
   "execution_count": 39,
   "metadata": {},
   "outputs": [],
   "source": [
    "import numpy as np\n",
    "import pandas as pd\n",
    "\n",
    "import seaborn as sns\n",
    "\n",
    "import sklearn.linear_model\n",
    "import sklearn.metrics\n",
    "import sklearn.neighbors\n",
    "from matplotlib import pyplot as plt\n",
    "import sklearn.preprocessing\n",
    "from sklearn.preprocessing import OrdinalEncoder\n",
    "from sklearn.model_selection import train_test_split\n",
    "from scipy.spatial import distance\n",
    "from IPython.display import display\n",
    "from sklearn.ensemble import RandomForestRegressor\n",
    "\n",
    "from sklearn.linear_model import LinearRegression\n",
    "from sklearn.metrics import mean_squared_error\n",
    "import lightgbm as lgb"
   ]
  },
  {
   "cell_type": "markdown",
   "metadata": {},
   "source": [
    "## Preparación de datos"
   ]
  },
  {
   "cell_type": "code",
   "execution_count": 40,
   "metadata": {},
   "outputs": [],
   "source": [
    "data = pd.read_csv('car_data.csv')"
   ]
  },
  {
   "cell_type": "code",
   "execution_count": 41,
   "metadata": {},
   "outputs": [],
   "source": [
    "# ajustamos a un mejor formato\n",
    "columns_dict = {\"DateCrawled\": \"datecrawled\", \"Price\": \"price\", \"VehicleType\": \"vehicletype\", \"RegistrationYear\": \"registrationyear\", \"Gearbox\": \"gearbox\", \"Power\": \"power\", \"Model\": \"model\", \"Mileage\": \"mileage\", \"RegistrationMonth\": \"registrationmonth\", \"FuelType\": \"fueltype\", \"Brand\": \"brand\", \"NotRepaired\": \"notrepaired\", \"DateCreated\": \"datecreated\", \"NumberOfPictures\": \"numberofpictures\", \"PostalCode\": \"postalcode\", \"LastSeen\": \"lastseen\"}\n",
    "data = data.rename(columns = columns_dict)"
   ]
  },
  {
   "cell_type": "code",
   "execution_count": 42,
   "metadata": {
    "scrolled": true
   },
   "outputs": [
    {
     "data": {
      "text/html": [
       "<div>\n",
       "<style scoped>\n",
       "    .dataframe tbody tr th:only-of-type {\n",
       "        vertical-align: middle;\n",
       "    }\n",
       "\n",
       "    .dataframe tbody tr th {\n",
       "        vertical-align: top;\n",
       "    }\n",
       "\n",
       "    .dataframe thead th {\n",
       "        text-align: right;\n",
       "    }\n",
       "</style>\n",
       "<table border=\"1\" class=\"dataframe\">\n",
       "  <thead>\n",
       "    <tr style=\"text-align: right;\">\n",
       "      <th></th>\n",
       "      <th>datecrawled</th>\n",
       "      <th>price</th>\n",
       "      <th>vehicletype</th>\n",
       "      <th>registrationyear</th>\n",
       "      <th>gearbox</th>\n",
       "      <th>power</th>\n",
       "      <th>model</th>\n",
       "      <th>mileage</th>\n",
       "      <th>registrationmonth</th>\n",
       "      <th>fueltype</th>\n",
       "      <th>brand</th>\n",
       "      <th>notrepaired</th>\n",
       "      <th>datecreated</th>\n",
       "      <th>numberofpictures</th>\n",
       "      <th>postalcode</th>\n",
       "      <th>lastseen</th>\n",
       "    </tr>\n",
       "  </thead>\n",
       "  <tbody>\n",
       "    <tr>\n",
       "      <th>351500</th>\n",
       "      <td>09/03/2016 18:43</td>\n",
       "      <td>17500</td>\n",
       "      <td>bus</td>\n",
       "      <td>2007</td>\n",
       "      <td>manual</td>\n",
       "      <td>128</td>\n",
       "      <td>transporter</td>\n",
       "      <td>125000</td>\n",
       "      <td>4</td>\n",
       "      <td>NaN</td>\n",
       "      <td>volkswagen</td>\n",
       "      <td>no</td>\n",
       "      <td>09/03/2016 00:00</td>\n",
       "      <td>0</td>\n",
       "      <td>99425</td>\n",
       "      <td>10/03/2016 14:45</td>\n",
       "    </tr>\n",
       "    <tr>\n",
       "      <th>29864</th>\n",
       "      <td>14/03/2016 21:41</td>\n",
       "      <td>1100</td>\n",
       "      <td>sedan</td>\n",
       "      <td>2001</td>\n",
       "      <td>manual</td>\n",
       "      <td>109</td>\n",
       "      <td>3_reihe</td>\n",
       "      <td>150000</td>\n",
       "      <td>10</td>\n",
       "      <td>petrol</td>\n",
       "      <td>peugeot</td>\n",
       "      <td>yes</td>\n",
       "      <td>14/03/2016 00:00</td>\n",
       "      <td>0</td>\n",
       "      <td>78532</td>\n",
       "      <td>19/03/2016 11:16</td>\n",
       "    </tr>\n",
       "    <tr>\n",
       "      <th>24066</th>\n",
       "      <td>28/03/2016 15:58</td>\n",
       "      <td>3500</td>\n",
       "      <td>small</td>\n",
       "      <td>2008</td>\n",
       "      <td>manual</td>\n",
       "      <td>60</td>\n",
       "      <td>polo</td>\n",
       "      <td>100000</td>\n",
       "      <td>6</td>\n",
       "      <td>petrol</td>\n",
       "      <td>volkswagen</td>\n",
       "      <td>no</td>\n",
       "      <td>28/03/2016 00:00</td>\n",
       "      <td>0</td>\n",
       "      <td>19406</td>\n",
       "      <td>06/04/2016 21:44</td>\n",
       "    </tr>\n",
       "    <tr>\n",
       "      <th>18966</th>\n",
       "      <td>31/03/2016 15:50</td>\n",
       "      <td>3490</td>\n",
       "      <td>sedan</td>\n",
       "      <td>2001</td>\n",
       "      <td>auto</td>\n",
       "      <td>197</td>\n",
       "      <td>s_klasse</td>\n",
       "      <td>150000</td>\n",
       "      <td>12</td>\n",
       "      <td>gasoline</td>\n",
       "      <td>mercedes_benz</td>\n",
       "      <td>no</td>\n",
       "      <td>31/03/2016 00:00</td>\n",
       "      <td>0</td>\n",
       "      <td>37308</td>\n",
       "      <td>06/04/2016 09:44</td>\n",
       "    </tr>\n",
       "    <tr>\n",
       "      <th>164807</th>\n",
       "      <td>11/03/2016 19:57</td>\n",
       "      <td>4900</td>\n",
       "      <td>wagon</td>\n",
       "      <td>2008</td>\n",
       "      <td>manual</td>\n",
       "      <td>115</td>\n",
       "      <td>astra</td>\n",
       "      <td>125000</td>\n",
       "      <td>9</td>\n",
       "      <td>petrol</td>\n",
       "      <td>opel</td>\n",
       "      <td>yes</td>\n",
       "      <td>11/03/2016 00:00</td>\n",
       "      <td>0</td>\n",
       "      <td>9326</td>\n",
       "      <td>16/03/2016 09:15</td>\n",
       "    </tr>\n",
       "  </tbody>\n",
       "</table>\n",
       "</div>"
      ],
      "text/plain": [
       "             datecrawled  price vehicletype  registrationyear gearbox  power  \\\n",
       "351500  09/03/2016 18:43  17500         bus              2007  manual    128   \n",
       "29864   14/03/2016 21:41   1100       sedan              2001  manual    109   \n",
       "24066   28/03/2016 15:58   3500       small              2008  manual     60   \n",
       "18966   31/03/2016 15:50   3490       sedan              2001    auto    197   \n",
       "164807  11/03/2016 19:57   4900       wagon              2008  manual    115   \n",
       "\n",
       "              model  mileage  registrationmonth  fueltype          brand  \\\n",
       "351500  transporter   125000                  4       NaN     volkswagen   \n",
       "29864       3_reihe   150000                 10    petrol        peugeot   \n",
       "24066          polo   100000                  6    petrol     volkswagen   \n",
       "18966      s_klasse   150000                 12  gasoline  mercedes_benz   \n",
       "164807        astra   125000                  9    petrol           opel   \n",
       "\n",
       "       notrepaired       datecreated  numberofpictures  postalcode  \\\n",
       "351500          no  09/03/2016 00:00                 0       99425   \n",
       "29864          yes  14/03/2016 00:00                 0       78532   \n",
       "24066           no  28/03/2016 00:00                 0       19406   \n",
       "18966           no  31/03/2016 00:00                 0       37308   \n",
       "164807         yes  11/03/2016 00:00                 0        9326   \n",
       "\n",
       "                lastseen  \n",
       "351500  10/03/2016 14:45  \n",
       "29864   19/03/2016 11:16  \n",
       "24066   06/04/2016 21:44  \n",
       "18966   06/04/2016 09:44  \n",
       "164807  16/03/2016 09:15  "
      ]
     },
     "execution_count": 42,
     "metadata": {},
     "output_type": "execute_result"
    }
   ],
   "source": [
    "data.sample(5)"
   ]
  },
  {
   "cell_type": "code",
   "execution_count": 43,
   "metadata": {},
   "outputs": [
    {
     "name": "stdout",
     "output_type": "stream",
     "text": [
      "<class 'pandas.core.frame.DataFrame'>\n",
      "RangeIndex: 354369 entries, 0 to 354368\n",
      "Data columns (total 16 columns):\n",
      " #   Column             Non-Null Count   Dtype \n",
      "---  ------             --------------   ----- \n",
      " 0   datecrawled        354369 non-null  object\n",
      " 1   price              354369 non-null  int64 \n",
      " 2   vehicletype        316879 non-null  object\n",
      " 3   registrationyear   354369 non-null  int64 \n",
      " 4   gearbox            334536 non-null  object\n",
      " 5   power              354369 non-null  int64 \n",
      " 6   model              334664 non-null  object\n",
      " 7   mileage            354369 non-null  int64 \n",
      " 8   registrationmonth  354369 non-null  int64 \n",
      " 9   fueltype           321474 non-null  object\n",
      " 10  brand              354369 non-null  object\n",
      " 11  notrepaired        283215 non-null  object\n",
      " 12  datecreated        354369 non-null  object\n",
      " 13  numberofpictures   354369 non-null  int64 \n",
      " 14  postalcode         354369 non-null  int64 \n",
      " 15  lastseen           354369 non-null  object\n",
      "dtypes: int64(7), object(9)\n",
      "memory usage: 43.3+ MB\n"
     ]
    }
   ],
   "source": [
    "data.info()"
   ]
  },
  {
   "cell_type": "code",
   "execution_count": 44,
   "metadata": {},
   "outputs": [
    {
     "data": {
      "text/html": [
       "<div>\n",
       "<style scoped>\n",
       "    .dataframe tbody tr th:only-of-type {\n",
       "        vertical-align: middle;\n",
       "    }\n",
       "\n",
       "    .dataframe tbody tr th {\n",
       "        vertical-align: top;\n",
       "    }\n",
       "\n",
       "    .dataframe thead th {\n",
       "        text-align: right;\n",
       "    }\n",
       "</style>\n",
       "<table border=\"1\" class=\"dataframe\">\n",
       "  <thead>\n",
       "    <tr style=\"text-align: right;\">\n",
       "      <th></th>\n",
       "      <th>price</th>\n",
       "      <th>registrationyear</th>\n",
       "      <th>power</th>\n",
       "      <th>mileage</th>\n",
       "      <th>registrationmonth</th>\n",
       "      <th>numberofpictures</th>\n",
       "      <th>postalcode</th>\n",
       "    </tr>\n",
       "  </thead>\n",
       "  <tbody>\n",
       "    <tr>\n",
       "      <th>count</th>\n",
       "      <td>354369.000000</td>\n",
       "      <td>354369.000000</td>\n",
       "      <td>354369.000000</td>\n",
       "      <td>354369.000000</td>\n",
       "      <td>354369.000000</td>\n",
       "      <td>354369.0</td>\n",
       "      <td>354369.000000</td>\n",
       "    </tr>\n",
       "    <tr>\n",
       "      <th>mean</th>\n",
       "      <td>4416.656776</td>\n",
       "      <td>2004.234448</td>\n",
       "      <td>110.094337</td>\n",
       "      <td>128211.172535</td>\n",
       "      <td>5.714645</td>\n",
       "      <td>0.0</td>\n",
       "      <td>50508.689087</td>\n",
       "    </tr>\n",
       "    <tr>\n",
       "      <th>std</th>\n",
       "      <td>4514.158514</td>\n",
       "      <td>90.227958</td>\n",
       "      <td>189.850405</td>\n",
       "      <td>37905.341530</td>\n",
       "      <td>3.726421</td>\n",
       "      <td>0.0</td>\n",
       "      <td>25783.096248</td>\n",
       "    </tr>\n",
       "    <tr>\n",
       "      <th>min</th>\n",
       "      <td>0.000000</td>\n",
       "      <td>1000.000000</td>\n",
       "      <td>0.000000</td>\n",
       "      <td>5000.000000</td>\n",
       "      <td>0.000000</td>\n",
       "      <td>0.0</td>\n",
       "      <td>1067.000000</td>\n",
       "    </tr>\n",
       "    <tr>\n",
       "      <th>25%</th>\n",
       "      <td>1050.000000</td>\n",
       "      <td>1999.000000</td>\n",
       "      <td>69.000000</td>\n",
       "      <td>125000.000000</td>\n",
       "      <td>3.000000</td>\n",
       "      <td>0.0</td>\n",
       "      <td>30165.000000</td>\n",
       "    </tr>\n",
       "    <tr>\n",
       "      <th>50%</th>\n",
       "      <td>2700.000000</td>\n",
       "      <td>2003.000000</td>\n",
       "      <td>105.000000</td>\n",
       "      <td>150000.000000</td>\n",
       "      <td>6.000000</td>\n",
       "      <td>0.0</td>\n",
       "      <td>49413.000000</td>\n",
       "    </tr>\n",
       "    <tr>\n",
       "      <th>75%</th>\n",
       "      <td>6400.000000</td>\n",
       "      <td>2008.000000</td>\n",
       "      <td>143.000000</td>\n",
       "      <td>150000.000000</td>\n",
       "      <td>9.000000</td>\n",
       "      <td>0.0</td>\n",
       "      <td>71083.000000</td>\n",
       "    </tr>\n",
       "    <tr>\n",
       "      <th>max</th>\n",
       "      <td>20000.000000</td>\n",
       "      <td>9999.000000</td>\n",
       "      <td>20000.000000</td>\n",
       "      <td>150000.000000</td>\n",
       "      <td>12.000000</td>\n",
       "      <td>0.0</td>\n",
       "      <td>99998.000000</td>\n",
       "    </tr>\n",
       "  </tbody>\n",
       "</table>\n",
       "</div>"
      ],
      "text/plain": [
       "               price  registrationyear          power        mileage  \\\n",
       "count  354369.000000     354369.000000  354369.000000  354369.000000   \n",
       "mean     4416.656776       2004.234448     110.094337  128211.172535   \n",
       "std      4514.158514         90.227958     189.850405   37905.341530   \n",
       "min         0.000000       1000.000000       0.000000    5000.000000   \n",
       "25%      1050.000000       1999.000000      69.000000  125000.000000   \n",
       "50%      2700.000000       2003.000000     105.000000  150000.000000   \n",
       "75%      6400.000000       2008.000000     143.000000  150000.000000   \n",
       "max     20000.000000       9999.000000   20000.000000  150000.000000   \n",
       "\n",
       "       registrationmonth  numberofpictures     postalcode  \n",
       "count      354369.000000          354369.0  354369.000000  \n",
       "mean            5.714645               0.0   50508.689087  \n",
       "std             3.726421               0.0   25783.096248  \n",
       "min             0.000000               0.0    1067.000000  \n",
       "25%             3.000000               0.0   30165.000000  \n",
       "50%             6.000000               0.0   49413.000000  \n",
       "75%             9.000000               0.0   71083.000000  \n",
       "max            12.000000               0.0   99998.000000  "
      ]
     },
     "execution_count": 44,
     "metadata": {},
     "output_type": "execute_result"
    }
   ],
   "source": [
    "data.describe()"
   ]
  },
  {
   "cell_type": "markdown",
   "metadata": {},
   "source": [
    "1. Price (Precio):\n",
    "  - Media (mean): 4416.66\n",
    "  - Desviación estándar (std): 4514.16\n",
    "  - Mínimo (min): 0\n",
    "  - Máximo (max): 20,000\n",
    "  \n",
    "Observaciones:\n",
    "\n",
    "   - El precio tiene una gran variabilidad, con valores que van desde 0 hasta 20,000. El hecho de que el valor mínimo sea 0 podría indicar errores en los datos (por ejemplo, coches con precio no definido) o vehículos extremadamente baratos.\n",
    "   - La diferencia entre la media y el máximo sugiere que existen precios muy altos que están alejados de la mayoría de los datos."
   ]
  },
  {
   "cell_type": "markdown",
   "metadata": {},
   "source": [
    "2. RegistrationYear (Año de matriculación)\n",
    " - Media (mean): 2004.23\n",
    " - Desviación estándar (std): 90.23\n",
    " - Mínimo (min): 1000 (posiblemente un error)\n",
    " - Máximo (max): 9999 (posiblemente un error)\n",
    "\n",
    "\n",
    "   Observaciones:\n",
    "\n",
    "   - Los valores \"1000\" y \"9999\" son claramente incorrectos o errores en los datos. Un año de matriculación debe estar entre valores razonables (por ejemplo, entre 1900 y 2020).\n",
    "\n",
    "   - La media de 2004 es razonable, pero la desviación estándar es alta, lo que podría reflejar una gran diversidad en la edad de los vehículos.\n"
   ]
  },
  {
   "cell_type": "markdown",
   "metadata": {},
   "source": [
    "3. NumberOfPictures (Número de fotos)\n",
    "\n",
    "    Todos los valores son 0, lo que sugiere que no se están proporcionando fotos de los vehículos en el conjunto de datos, o que hay un problema con esa columna.\n"
   ]
  },
  {
   "cell_type": "markdown",
   "metadata": {},
   "source": [
    "4. Power (Potencia)\n",
    "\n",
    "    Observaciones:\n",
    "\n",
    "    El valor mínimo de 0 puede ser un error, ya que no es posible que un vehículo tenga 0 caballos de fuerza.\n",
    "    La potencia tiene una gran dispersión (desviación estándar alta), lo que puede indicar que existen vehículos   con potencias muy altas o errores en los datos. Además no existe 20 000 cv. Un rango aceptable no pasa de 800 cv en vehiculos especiales.\n"
   ]
  },
  {
   "cell_type": "code",
   "execution_count": 45,
   "metadata": {},
   "outputs": [],
   "source": [
    "# Colocamos un rango de años razonable \n",
    "data = data[(data['registrationyear']>1990) & (data['registrationyear']<=2020)]"
   ]
  },
  {
   "cell_type": "code",
   "execution_count": 46,
   "metadata": {},
   "outputs": [],
   "source": [
    "# Eliminamos una columna innecesaria\n",
    "data = data.drop('numberofpictures',axis=1)"
   ]
  },
  {
   "cell_type": "code",
   "execution_count": 47,
   "metadata": {},
   "outputs": [
    {
     "data": {
      "text/plain": [
       "0       36956\n",
       "75      23536\n",
       "60      15604\n",
       "150     14443\n",
       "101     13220\n",
       "        ...  \n",
       "1054        1\n",
       "851         1\n",
       "1339        1\n",
       "375         1\n",
       "1241        1\n",
       "Name: power, Length: 698, dtype: int64"
      ]
     },
     "execution_count": 47,
     "metadata": {},
     "output_type": "execute_result"
    }
   ],
   "source": [
    "# Veamos cuantos datos tiene potencia 0 o un valor fuera de lo normal \n",
    "data['power'].value_counts()"
   ]
  },
  {
   "cell_type": "code",
   "execution_count": 48,
   "metadata": {},
   "outputs": [
    {
     "data": {
      "text/html": [
       "<div>\n",
       "<style scoped>\n",
       "    .dataframe tbody tr th:only-of-type {\n",
       "        vertical-align: middle;\n",
       "    }\n",
       "\n",
       "    .dataframe tbody tr th {\n",
       "        vertical-align: top;\n",
       "    }\n",
       "\n",
       "    .dataframe thead th {\n",
       "        text-align: right;\n",
       "    }\n",
       "</style>\n",
       "<table border=\"1\" class=\"dataframe\">\n",
       "  <thead>\n",
       "    <tr style=\"text-align: right;\">\n",
       "      <th></th>\n",
       "      <th>datecrawled</th>\n",
       "      <th>price</th>\n",
       "      <th>vehicletype</th>\n",
       "      <th>registrationyear</th>\n",
       "      <th>gearbox</th>\n",
       "      <th>power</th>\n",
       "      <th>model</th>\n",
       "      <th>mileage</th>\n",
       "      <th>registrationmonth</th>\n",
       "      <th>fueltype</th>\n",
       "      <th>brand</th>\n",
       "      <th>notrepaired</th>\n",
       "      <th>datecreated</th>\n",
       "      <th>postalcode</th>\n",
       "      <th>lastseen</th>\n",
       "    </tr>\n",
       "  </thead>\n",
       "  <tbody>\n",
       "    <tr>\n",
       "      <th>0</th>\n",
       "      <td>24/03/2016 11:52</td>\n",
       "      <td>480</td>\n",
       "      <td>NaN</td>\n",
       "      <td>1993</td>\n",
       "      <td>manual</td>\n",
       "      <td>0</td>\n",
       "      <td>golf</td>\n",
       "      <td>150000</td>\n",
       "      <td>0</td>\n",
       "      <td>petrol</td>\n",
       "      <td>volkswagen</td>\n",
       "      <td>NaN</td>\n",
       "      <td>24/03/2016 00:00</td>\n",
       "      <td>70435</td>\n",
       "      <td>07/04/2016 03:16</td>\n",
       "    </tr>\n",
       "    <tr>\n",
       "      <th>32</th>\n",
       "      <td>15/03/2016 20:59</td>\n",
       "      <td>245</td>\n",
       "      <td>sedan</td>\n",
       "      <td>1994</td>\n",
       "      <td>NaN</td>\n",
       "      <td>0</td>\n",
       "      <td>golf</td>\n",
       "      <td>150000</td>\n",
       "      <td>2</td>\n",
       "      <td>petrol</td>\n",
       "      <td>volkswagen</td>\n",
       "      <td>no</td>\n",
       "      <td>15/03/2016 00:00</td>\n",
       "      <td>44145</td>\n",
       "      <td>17/03/2016 18:17</td>\n",
       "    </tr>\n",
       "    <tr>\n",
       "      <th>37</th>\n",
       "      <td>28/03/2016 17:50</td>\n",
       "      <td>1500</td>\n",
       "      <td>NaN</td>\n",
       "      <td>2016</td>\n",
       "      <td>NaN</td>\n",
       "      <td>0</td>\n",
       "      <td>kangoo</td>\n",
       "      <td>150000</td>\n",
       "      <td>1</td>\n",
       "      <td>gasoline</td>\n",
       "      <td>renault</td>\n",
       "      <td>no</td>\n",
       "      <td>28/03/2016 00:00</td>\n",
       "      <td>46483</td>\n",
       "      <td>30/03/2016 09:18</td>\n",
       "    </tr>\n",
       "    <tr>\n",
       "      <th>54</th>\n",
       "      <td>17/03/2016 07:56</td>\n",
       "      <td>4700</td>\n",
       "      <td>wagon</td>\n",
       "      <td>2005</td>\n",
       "      <td>manual</td>\n",
       "      <td>0</td>\n",
       "      <td>signum</td>\n",
       "      <td>150000</td>\n",
       "      <td>0</td>\n",
       "      <td>NaN</td>\n",
       "      <td>opel</td>\n",
       "      <td>no</td>\n",
       "      <td>17/03/2016 00:00</td>\n",
       "      <td>88433</td>\n",
       "      <td>04/04/2016 04:17</td>\n",
       "    </tr>\n",
       "    <tr>\n",
       "      <th>55</th>\n",
       "      <td>26/03/2016 10:39</td>\n",
       "      <td>550</td>\n",
       "      <td>wagon</td>\n",
       "      <td>1999</td>\n",
       "      <td>manual</td>\n",
       "      <td>0</td>\n",
       "      <td>astra</td>\n",
       "      <td>150000</td>\n",
       "      <td>8</td>\n",
       "      <td>gasoline</td>\n",
       "      <td>opel</td>\n",
       "      <td>yes</td>\n",
       "      <td>26/03/2016 00:00</td>\n",
       "      <td>56759</td>\n",
       "      <td>01/04/2016 23:17</td>\n",
       "    </tr>\n",
       "    <tr>\n",
       "      <th>...</th>\n",
       "      <td>...</td>\n",
       "      <td>...</td>\n",
       "      <td>...</td>\n",
       "      <td>...</td>\n",
       "      <td>...</td>\n",
       "      <td>...</td>\n",
       "      <td>...</td>\n",
       "      <td>...</td>\n",
       "      <td>...</td>\n",
       "      <td>...</td>\n",
       "      <td>...</td>\n",
       "      <td>...</td>\n",
       "      <td>...</td>\n",
       "      <td>...</td>\n",
       "      <td>...</td>\n",
       "    </tr>\n",
       "    <tr>\n",
       "      <th>354338</th>\n",
       "      <td>31/03/2016 19:52</td>\n",
       "      <td>180</td>\n",
       "      <td>NaN</td>\n",
       "      <td>1995</td>\n",
       "      <td>NaN</td>\n",
       "      <td>0</td>\n",
       "      <td>NaN</td>\n",
       "      <td>125000</td>\n",
       "      <td>3</td>\n",
       "      <td>petrol</td>\n",
       "      <td>opel</td>\n",
       "      <td>NaN</td>\n",
       "      <td>31/03/2016 00:00</td>\n",
       "      <td>41470</td>\n",
       "      <td>06/04/2016 14:18</td>\n",
       "    </tr>\n",
       "    <tr>\n",
       "      <th>354346</th>\n",
       "      <td>07/03/2016 17:06</td>\n",
       "      <td>2600</td>\n",
       "      <td>NaN</td>\n",
       "      <td>2005</td>\n",
       "      <td>auto</td>\n",
       "      <td>0</td>\n",
       "      <td>c_klasse</td>\n",
       "      <td>150000</td>\n",
       "      <td>9</td>\n",
       "      <td>NaN</td>\n",
       "      <td>mercedes_benz</td>\n",
       "      <td>NaN</td>\n",
       "      <td>07/03/2016 00:00</td>\n",
       "      <td>61169</td>\n",
       "      <td>08/03/2016 21:28</td>\n",
       "    </tr>\n",
       "    <tr>\n",
       "      <th>354363</th>\n",
       "      <td>27/03/2016 20:36</td>\n",
       "      <td>1150</td>\n",
       "      <td>bus</td>\n",
       "      <td>2000</td>\n",
       "      <td>manual</td>\n",
       "      <td>0</td>\n",
       "      <td>zafira</td>\n",
       "      <td>150000</td>\n",
       "      <td>3</td>\n",
       "      <td>petrol</td>\n",
       "      <td>opel</td>\n",
       "      <td>no</td>\n",
       "      <td>27/03/2016 00:00</td>\n",
       "      <td>26624</td>\n",
       "      <td>29/03/2016 10:17</td>\n",
       "    </tr>\n",
       "    <tr>\n",
       "      <th>354364</th>\n",
       "      <td>21/03/2016 09:50</td>\n",
       "      <td>0</td>\n",
       "      <td>NaN</td>\n",
       "      <td>2005</td>\n",
       "      <td>manual</td>\n",
       "      <td>0</td>\n",
       "      <td>colt</td>\n",
       "      <td>150000</td>\n",
       "      <td>7</td>\n",
       "      <td>petrol</td>\n",
       "      <td>mitsubishi</td>\n",
       "      <td>yes</td>\n",
       "      <td>21/03/2016 00:00</td>\n",
       "      <td>2694</td>\n",
       "      <td>21/03/2016 10:42</td>\n",
       "    </tr>\n",
       "    <tr>\n",
       "      <th>354365</th>\n",
       "      <td>14/03/2016 17:48</td>\n",
       "      <td>2200</td>\n",
       "      <td>NaN</td>\n",
       "      <td>2005</td>\n",
       "      <td>NaN</td>\n",
       "      <td>0</td>\n",
       "      <td>NaN</td>\n",
       "      <td>20000</td>\n",
       "      <td>1</td>\n",
       "      <td>NaN</td>\n",
       "      <td>sonstige_autos</td>\n",
       "      <td>NaN</td>\n",
       "      <td>14/03/2016 00:00</td>\n",
       "      <td>39576</td>\n",
       "      <td>06/04/2016 00:46</td>\n",
       "    </tr>\n",
       "  </tbody>\n",
       "</table>\n",
       "<p>36956 rows × 15 columns</p>\n",
       "</div>"
      ],
      "text/plain": [
       "             datecrawled  price vehicletype  registrationyear gearbox  power  \\\n",
       "0       24/03/2016 11:52    480         NaN              1993  manual      0   \n",
       "32      15/03/2016 20:59    245       sedan              1994     NaN      0   \n",
       "37      28/03/2016 17:50   1500         NaN              2016     NaN      0   \n",
       "54      17/03/2016 07:56   4700       wagon              2005  manual      0   \n",
       "55      26/03/2016 10:39    550       wagon              1999  manual      0   \n",
       "...                  ...    ...         ...               ...     ...    ...   \n",
       "354338  31/03/2016 19:52    180         NaN              1995     NaN      0   \n",
       "354346  07/03/2016 17:06   2600         NaN              2005    auto      0   \n",
       "354363  27/03/2016 20:36   1150         bus              2000  manual      0   \n",
       "354364  21/03/2016 09:50      0         NaN              2005  manual      0   \n",
       "354365  14/03/2016 17:48   2200         NaN              2005     NaN      0   \n",
       "\n",
       "           model  mileage  registrationmonth  fueltype           brand  \\\n",
       "0           golf   150000                  0    petrol      volkswagen   \n",
       "32          golf   150000                  2    petrol      volkswagen   \n",
       "37        kangoo   150000                  1  gasoline         renault   \n",
       "54        signum   150000                  0       NaN            opel   \n",
       "55         astra   150000                  8  gasoline            opel   \n",
       "...          ...      ...                ...       ...             ...   \n",
       "354338       NaN   125000                  3    petrol            opel   \n",
       "354346  c_klasse   150000                  9       NaN   mercedes_benz   \n",
       "354363    zafira   150000                  3    petrol            opel   \n",
       "354364      colt   150000                  7    petrol      mitsubishi   \n",
       "354365       NaN    20000                  1       NaN  sonstige_autos   \n",
       "\n",
       "       notrepaired       datecreated  postalcode          lastseen  \n",
       "0              NaN  24/03/2016 00:00       70435  07/04/2016 03:16  \n",
       "32              no  15/03/2016 00:00       44145  17/03/2016 18:17  \n",
       "37              no  28/03/2016 00:00       46483  30/03/2016 09:18  \n",
       "54              no  17/03/2016 00:00       88433  04/04/2016 04:17  \n",
       "55             yes  26/03/2016 00:00       56759  01/04/2016 23:17  \n",
       "...            ...               ...         ...               ...  \n",
       "354338         NaN  31/03/2016 00:00       41470  06/04/2016 14:18  \n",
       "354346         NaN  07/03/2016 00:00       61169  08/03/2016 21:28  \n",
       "354363          no  27/03/2016 00:00       26624  29/03/2016 10:17  \n",
       "354364         yes  21/03/2016 00:00        2694  21/03/2016 10:42  \n",
       "354365         NaN  14/03/2016 00:00       39576  06/04/2016 00:46  \n",
       "\n",
       "[36956 rows x 15 columns]"
      ]
     },
     "execution_count": 48,
     "metadata": {},
     "output_type": "execute_result"
    }
   ],
   "source": [
    "data[data['power'] == 0]"
   ]
  },
  {
   "cell_type": "markdown",
   "metadata": {},
   "source": [
    "Son 32288 entradas de un total de 354369 aprox, que no contiene como dato power (medidos en CV). Represetan < 10% de entradas de nuestros datos, hay que tomar en consideracion que estas entradas van afectar al modelo de ML (siendo este campo relevante para la prediccion).Dada la naturaleza del proyecto que es recomendar el precio del mercado de los vehiculos que suben los usuarios es obvio que estos campos como (potencia) deben ser rellenados con obligatoriedad por lo que en consecuencia para nuestro modelo de ML debemos considerar carros cuyos campos contengan estos datos asi que bajo esta premisa decidiré quitar estos campos. "
   ]
  },
  {
   "cell_type": "code",
   "execution_count": 49,
   "metadata": {},
   "outputs": [],
   "source": [
    "# Excluimos estas entradas \n",
    "data = data[data['power'] != 0]"
   ]
  },
  {
   "cell_type": "code",
   "execution_count": 50,
   "metadata": {},
   "outputs": [
    {
     "data": {
      "text/plain": [
       "<Axes: xlabel='power'>"
      ]
     },
     "execution_count": 50,
     "metadata": {},
     "output_type": "execute_result"
    },
    {
     "data": {
      "image/png": "[encoded data removed]",
      "text/plain": [
       "<Figure size 640x480 with 1 Axes>"
      ]
     },
     "metadata": {},
     "output_type": "display_data"
    }
   ],
   "source": [
    "sns.boxplot(x='power', data=data)"
   ]
  },
  {
   "cell_type": "code",
   "execution_count": 51,
   "metadata": {},
   "outputs": [
    {
     "name": "stdout",
     "output_type": "stream",
     "text": [
      "Rango aceptable: -37.5 a 262.5 CV\n"
     ]
    }
   ],
   "source": [
    "Q1 = data['power'].quantile(0.25)\n",
    "Q3 = data['power'].quantile(0.75)\n",
    "IQR = Q3 - Q1\n",
    "\n",
    "lower_bound = Q1 - 1.5 * IQR  # Umbral inferior\n",
    "upper_bound = Q3 + 1.5 * IQR  # Umbral superior\n",
    "\n",
    "print(f\"Rango aceptable: {lower_bound} a {upper_bound} CV\")"
   ]
  },
  {
   "cell_type": "code",
   "execution_count": 52,
   "metadata": {
    "scrolled": false
   },
   "outputs": [
    {
     "data": {
      "text/html": [
       "<div>\n",
       "<style scoped>\n",
       "    .dataframe tbody tr th:only-of-type {\n",
       "        vertical-align: middle;\n",
       "    }\n",
       "\n",
       "    .dataframe tbody tr th {\n",
       "        vertical-align: top;\n",
       "    }\n",
       "\n",
       "    .dataframe thead th {\n",
       "        text-align: right;\n",
       "    }\n",
       "</style>\n",
       "<table border=\"1\" class=\"dataframe\">\n",
       "  <thead>\n",
       "    <tr style=\"text-align: right;\">\n",
       "      <th></th>\n",
       "      <th>datecrawled</th>\n",
       "      <th>price</th>\n",
       "      <th>vehicletype</th>\n",
       "      <th>registrationyear</th>\n",
       "      <th>gearbox</th>\n",
       "      <th>power</th>\n",
       "      <th>model</th>\n",
       "      <th>mileage</th>\n",
       "      <th>registrationmonth</th>\n",
       "      <th>fueltype</th>\n",
       "      <th>brand</th>\n",
       "      <th>notrepaired</th>\n",
       "      <th>datecreated</th>\n",
       "      <th>postalcode</th>\n",
       "      <th>lastseen</th>\n",
       "    </tr>\n",
       "  </thead>\n",
       "  <tbody>\n",
       "    <tr>\n",
       "      <th>266811</th>\n",
       "      <td>21/03/2016 18:44</td>\n",
       "      <td>1100</td>\n",
       "      <td>sedan</td>\n",
       "      <td>2001</td>\n",
       "      <td>auto</td>\n",
       "      <td>2792</td>\n",
       "      <td>other</td>\n",
       "      <td>150000</td>\n",
       "      <td>3</td>\n",
       "      <td>lpg</td>\n",
       "      <td>volvo</td>\n",
       "      <td>NaN</td>\n",
       "      <td>21/03/2016 00:00</td>\n",
       "      <td>33102</td>\n",
       "      <td>24/03/2016 08:15</td>\n",
       "    </tr>\n",
       "    <tr>\n",
       "      <th>123019</th>\n",
       "      <td>10/03/2016 17:37</td>\n",
       "      <td>950</td>\n",
       "      <td>small</td>\n",
       "      <td>1998</td>\n",
       "      <td>manual</td>\n",
       "      <td>7508</td>\n",
       "      <td>astra</td>\n",
       "      <td>150000</td>\n",
       "      <td>0</td>\n",
       "      <td>NaN</td>\n",
       "      <td>opel</td>\n",
       "      <td>no</td>\n",
       "      <td>10/03/2016 00:00</td>\n",
       "      <td>58730</td>\n",
       "      <td>20/03/2016 02:45</td>\n",
       "    </tr>\n",
       "    <tr>\n",
       "      <th>227634</th>\n",
       "      <td>30/03/2016 16:38</td>\n",
       "      <td>15499</td>\n",
       "      <td>wagon</td>\n",
       "      <td>2012</td>\n",
       "      <td>manual</td>\n",
       "      <td>13636</td>\n",
       "      <td>c_klasse</td>\n",
       "      <td>125000</td>\n",
       "      <td>4</td>\n",
       "      <td>gasoline</td>\n",
       "      <td>mercedes_benz</td>\n",
       "      <td>no</td>\n",
       "      <td>30/03/2016 00:00</td>\n",
       "      <td>24983</td>\n",
       "      <td>07/04/2016 07:15</td>\n",
       "    </tr>\n",
       "    <tr>\n",
       "      <th>150676</th>\n",
       "      <td>09/03/2016 18:57</td>\n",
       "      <td>1700</td>\n",
       "      <td>wagon</td>\n",
       "      <td>1995</td>\n",
       "      <td>manual</td>\n",
       "      <td>17410</td>\n",
       "      <td>80</td>\n",
       "      <td>5000</td>\n",
       "      <td>0</td>\n",
       "      <td>petrol</td>\n",
       "      <td>audi</td>\n",
       "      <td>yes</td>\n",
       "      <td>09/03/2016 00:00</td>\n",
       "      <td>23562</td>\n",
       "      <td>15/03/2016 07:17</td>\n",
       "    </tr>\n",
       "    <tr>\n",
       "      <th>92226</th>\n",
       "      <td>03/04/2016 14:45</td>\n",
       "      <td>950</td>\n",
       "      <td>small</td>\n",
       "      <td>2001</td>\n",
       "      <td>manual</td>\n",
       "      <td>8404</td>\n",
       "      <td>other</td>\n",
       "      <td>125000</td>\n",
       "      <td>7</td>\n",
       "      <td>petrol</td>\n",
       "      <td>suzuki</td>\n",
       "      <td>NaN</td>\n",
       "      <td>03/04/2016 00:00</td>\n",
       "      <td>1594</td>\n",
       "      <td>05/04/2016 13:45</td>\n",
       "    </tr>\n",
       "  </tbody>\n",
       "</table>\n",
       "</div>"
      ],
      "text/plain": [
       "             datecrawled  price vehicletype  registrationyear gearbox  power  \\\n",
       "266811  21/03/2016 18:44   1100       sedan              2001    auto   2792   \n",
       "123019  10/03/2016 17:37    950       small              1998  manual   7508   \n",
       "227634  30/03/2016 16:38  15499       wagon              2012  manual  13636   \n",
       "150676  09/03/2016 18:57   1700       wagon              1995  manual  17410   \n",
       "92226   03/04/2016 14:45    950       small              2001  manual   8404   \n",
       "\n",
       "           model  mileage  registrationmonth  fueltype          brand  \\\n",
       "266811     other   150000                  3       lpg          volvo   \n",
       "123019     astra   150000                  0       NaN           opel   \n",
       "227634  c_klasse   125000                  4  gasoline  mercedes_benz   \n",
       "150676        80     5000                  0    petrol           audi   \n",
       "92226      other   125000                  7    petrol         suzuki   \n",
       "\n",
       "       notrepaired       datecreated  postalcode          lastseen  \n",
       "266811         NaN  21/03/2016 00:00       33102  24/03/2016 08:15  \n",
       "123019          no  10/03/2016 00:00       58730  20/03/2016 02:45  \n",
       "227634          no  30/03/2016 00:00       24983  07/04/2016 07:15  \n",
       "150676         yes  09/03/2016 00:00       23562  15/03/2016 07:17  \n",
       "92226          NaN  03/04/2016 00:00        1594  05/04/2016 13:45  "
      ]
     },
     "execution_count": 52,
     "metadata": {},
     "output_type": "execute_result"
    }
   ],
   "source": [
    "data[data['power'] > 1000].sample(n=5, random_state=54321)"
   ]
  },
  {
   "cell_type": "markdown",
   "metadata": {},
   "source": [
    "Como vemos no se trata de vehiculos que cuenten con estas caracteristicas por lo que se procede a quitar."
   ]
  },
  {
   "cell_type": "code",
   "execution_count": 53,
   "metadata": {},
   "outputs": [],
   "source": [
    "# Eliminamos algunos valores atipicos \n",
    "data = data[data['power']<1000]"
   ]
  },
  {
   "cell_type": "code",
   "execution_count": 54,
   "metadata": {},
   "outputs": [
    {
     "data": {
      "text/plain": [
       "<Axes: xlabel='power'>"
      ]
     },
     "execution_count": 54,
     "metadata": {},
     "output_type": "execute_result"
    },
    {
     "data": {
      "image/png": "[encoded data removed]",
      "text/plain": [
       "<Figure size 640x480 with 1 Axes>"
      ]
     },
     "metadata": {},
     "output_type": "display_data"
    }
   ],
   "source": [
    "sns.boxplot(x='power', data=data)"
   ]
  },
  {
   "cell_type": "code",
   "execution_count": 55,
   "metadata": {},
   "outputs": [
    {
     "data": {
      "text/plain": [
       "count    304545.000000\n",
       "mean        120.758075\n",
       "std          54.570656\n",
       "min           1.000000\n",
       "25%          75.000000\n",
       "50%         110.000000\n",
       "75%         150.000000\n",
       "max         999.000000\n",
       "Name: power, dtype: float64"
      ]
     },
     "execution_count": 55,
     "metadata": {},
     "output_type": "execute_result"
    }
   ],
   "source": [
    "data['power'].describe()"
   ]
  },
  {
   "cell_type": "code",
   "execution_count": 56,
   "metadata": {},
   "outputs": [
    {
     "data": {
      "text/plain": [
       "1       30\n",
       "2        8\n",
       "3        7\n",
       "4       26\n",
       "5      101\n",
       "      ... \n",
       "952      1\n",
       "953      1\n",
       "960      1\n",
       "998      1\n",
       "999      4\n",
       "Name: power, Length: 482, dtype: int64"
      ]
     },
     "execution_count": 56,
     "metadata": {},
     "output_type": "execute_result"
    }
   ],
   "source": [
    "data['power'].value_counts().sort_index()"
   ]
  },
  {
   "cell_type": "markdown",
   "metadata": {},
   "source": [
    "Por otro lado tener valores muy bajos en potencia (CV / caballos de vapor) no parece corresponder a la realidad, valores como 1,2,3,...,4. Por tanto estableceremos un umbral de 30 cv, lo cual parece razonable. "
   ]
  },
  {
   "cell_type": "code",
   "execution_count": 57,
   "metadata": {},
   "outputs": [],
   "source": [
    "data = data[data['power']>30]"
   ]
  },
  {
   "cell_type": "markdown",
   "metadata": {},
   "source": [
    "Veamos los precios: "
   ]
  },
  {
   "cell_type": "code",
   "execution_count": 58,
   "metadata": {},
   "outputs": [
    {
     "data": {
      "text/plain": [
       "6433"
      ]
     },
     "execution_count": 58,
     "metadata": {},
     "output_type": "execute_result"
    }
   ],
   "source": [
    "# Numero de entradas cuyos precios indican 0 \n",
    "data[data['price']== 0].shape[0]"
   ]
  },
  {
   "cell_type": "markdown",
   "metadata": {},
   "source": [
    "Existe 10000 entradas cuyo precio es cero lo cual nos hace indicar un error dado que no podemos solucionar este problema rellenando con valores como la media o la mediana ya que podria afectar a nuestro modelo ML, la mejor opcion sería excluir estas entradas. "
   ]
  },
  {
   "cell_type": "code",
   "execution_count": 59,
   "metadata": {},
   "outputs": [],
   "source": [
    "data = data[data['price']>0]"
   ]
  },
  {
   "cell_type": "code",
   "execution_count": 60,
   "metadata": {},
   "outputs": [
    {
     "data": {
      "text/plain": [
       "count    297742.000000\n",
       "mean       4811.517394\n",
       "std        4585.245588\n",
       "min           1.000000\n",
       "25%        1300.000000\n",
       "50%        3100.000000\n",
       "75%        6950.000000\n",
       "max       20000.000000\n",
       "Name: price, dtype: float64"
      ]
     },
     "execution_count": 60,
     "metadata": {},
     "output_type": "execute_result"
    }
   ],
   "source": [
    "data['price'].describe()"
   ]
  },
  {
   "cell_type": "markdown",
   "metadata": {},
   "source": [
    "Vemos que existen coches de !1 euro!, veamos: "
   ]
  },
  {
   "cell_type": "code",
   "execution_count": 61,
   "metadata": {
    "scrolled": false
   },
   "outputs": [
    {
     "data": {
      "text/html": [
       "<div>\n",
       "<style scoped>\n",
       "    .dataframe tbody tr th:only-of-type {\n",
       "        vertical-align: middle;\n",
       "    }\n",
       "\n",
       "    .dataframe tbody tr th {\n",
       "        vertical-align: top;\n",
       "    }\n",
       "\n",
       "    .dataframe thead th {\n",
       "        text-align: right;\n",
       "    }\n",
       "</style>\n",
       "<table border=\"1\" class=\"dataframe\">\n",
       "  <thead>\n",
       "    <tr style=\"text-align: right;\">\n",
       "      <th></th>\n",
       "      <th>datecrawled</th>\n",
       "      <th>price</th>\n",
       "      <th>vehicletype</th>\n",
       "      <th>registrationyear</th>\n",
       "      <th>gearbox</th>\n",
       "      <th>power</th>\n",
       "      <th>model</th>\n",
       "      <th>mileage</th>\n",
       "      <th>registrationmonth</th>\n",
       "      <th>fueltype</th>\n",
       "      <th>brand</th>\n",
       "      <th>notrepaired</th>\n",
       "      <th>datecreated</th>\n",
       "      <th>postalcode</th>\n",
       "      <th>lastseen</th>\n",
       "    </tr>\n",
       "  </thead>\n",
       "  <tbody>\n",
       "    <tr>\n",
       "      <th>173306</th>\n",
       "      <td>29/03/2016 06:03</td>\n",
       "      <td>1</td>\n",
       "      <td>small</td>\n",
       "      <td>2000</td>\n",
       "      <td>manual</td>\n",
       "      <td>75</td>\n",
       "      <td>polo</td>\n",
       "      <td>150000</td>\n",
       "      <td>0</td>\n",
       "      <td>NaN</td>\n",
       "      <td>volkswagen</td>\n",
       "      <td>NaN</td>\n",
       "      <td>29/03/2016 00:00</td>\n",
       "      <td>6184</td>\n",
       "      <td>05/04/2016 14:47</td>\n",
       "    </tr>\n",
       "    <tr>\n",
       "      <th>158359</th>\n",
       "      <td>31/03/2016 22:56</td>\n",
       "      <td>1</td>\n",
       "      <td>wagon</td>\n",
       "      <td>2006</td>\n",
       "      <td>NaN</td>\n",
       "      <td>150</td>\n",
       "      <td>vectra</td>\n",
       "      <td>150000</td>\n",
       "      <td>0</td>\n",
       "      <td>NaN</td>\n",
       "      <td>opel</td>\n",
       "      <td>NaN</td>\n",
       "      <td>31/03/2016 00:00</td>\n",
       "      <td>19294</td>\n",
       "      <td>06/04/2016 20:18</td>\n",
       "    </tr>\n",
       "    <tr>\n",
       "      <th>317686</th>\n",
       "      <td>26/03/2016 08:56</td>\n",
       "      <td>1</td>\n",
       "      <td>NaN</td>\n",
       "      <td>2017</td>\n",
       "      <td>manual</td>\n",
       "      <td>131</td>\n",
       "      <td>galaxy</td>\n",
       "      <td>150000</td>\n",
       "      <td>9</td>\n",
       "      <td>gasoline</td>\n",
       "      <td>ford</td>\n",
       "      <td>NaN</td>\n",
       "      <td>26/03/2016 00:00</td>\n",
       "      <td>26553</td>\n",
       "      <td>31/03/2016 02:18</td>\n",
       "    </tr>\n",
       "    <tr>\n",
       "      <th>78756</th>\n",
       "      <td>14/03/2016 15:53</td>\n",
       "      <td>1</td>\n",
       "      <td>small</td>\n",
       "      <td>2005</td>\n",
       "      <td>manual</td>\n",
       "      <td>60</td>\n",
       "      <td>other</td>\n",
       "      <td>80000</td>\n",
       "      <td>3</td>\n",
       "      <td>petrol</td>\n",
       "      <td>peugeot</td>\n",
       "      <td>no</td>\n",
       "      <td>14/03/2016 00:00</td>\n",
       "      <td>25474</td>\n",
       "      <td>14/03/2016 15:53</td>\n",
       "    </tr>\n",
       "    <tr>\n",
       "      <th>211729</th>\n",
       "      <td>27/03/2016 19:49</td>\n",
       "      <td>1</td>\n",
       "      <td>NaN</td>\n",
       "      <td>2005</td>\n",
       "      <td>manual</td>\n",
       "      <td>55</td>\n",
       "      <td>corsa</td>\n",
       "      <td>150000</td>\n",
       "      <td>2</td>\n",
       "      <td>petrol</td>\n",
       "      <td>opel</td>\n",
       "      <td>yes</td>\n",
       "      <td>27/03/2016 00:00</td>\n",
       "      <td>44793</td>\n",
       "      <td>05/04/2016 18:15</td>\n",
       "    </tr>\n",
       "    <tr>\n",
       "      <th>...</th>\n",
       "      <td>...</td>\n",
       "      <td>...</td>\n",
       "      <td>...</td>\n",
       "      <td>...</td>\n",
       "      <td>...</td>\n",
       "      <td>...</td>\n",
       "      <td>...</td>\n",
       "      <td>...</td>\n",
       "      <td>...</td>\n",
       "      <td>...</td>\n",
       "      <td>...</td>\n",
       "      <td>...</td>\n",
       "      <td>...</td>\n",
       "      <td>...</td>\n",
       "      <td>...</td>\n",
       "    </tr>\n",
       "    <tr>\n",
       "      <th>174050</th>\n",
       "      <td>02/04/2016 14:58</td>\n",
       "      <td>999</td>\n",
       "      <td>sedan</td>\n",
       "      <td>1996</td>\n",
       "      <td>manual</td>\n",
       "      <td>75</td>\n",
       "      <td>golf</td>\n",
       "      <td>150000</td>\n",
       "      <td>1</td>\n",
       "      <td>petrol</td>\n",
       "      <td>volkswagen</td>\n",
       "      <td>no</td>\n",
       "      <td>02/04/2016 00:00</td>\n",
       "      <td>38889</td>\n",
       "      <td>06/04/2016 13:44</td>\n",
       "    </tr>\n",
       "    <tr>\n",
       "      <th>56469</th>\n",
       "      <td>28/03/2016 17:40</td>\n",
       "      <td>999</td>\n",
       "      <td>wagon</td>\n",
       "      <td>1992</td>\n",
       "      <td>manual</td>\n",
       "      <td>133</td>\n",
       "      <td>100</td>\n",
       "      <td>150000</td>\n",
       "      <td>3</td>\n",
       "      <td>petrol</td>\n",
       "      <td>audi</td>\n",
       "      <td>no</td>\n",
       "      <td>28/03/2016 00:00</td>\n",
       "      <td>24879</td>\n",
       "      <td>30/03/2016 08:46</td>\n",
       "    </tr>\n",
       "    <tr>\n",
       "      <th>56388</th>\n",
       "      <td>02/04/2016 16:57</td>\n",
       "      <td>999</td>\n",
       "      <td>sedan</td>\n",
       "      <td>1998</td>\n",
       "      <td>auto</td>\n",
       "      <td>170</td>\n",
       "      <td>5er</td>\n",
       "      <td>150000</td>\n",
       "      <td>8</td>\n",
       "      <td>petrol</td>\n",
       "      <td>bmw</td>\n",
       "      <td>yes</td>\n",
       "      <td>02/04/2016 00:00</td>\n",
       "      <td>26180</td>\n",
       "      <td>06/04/2016 16:16</td>\n",
       "    </tr>\n",
       "    <tr>\n",
       "      <th>328843</th>\n",
       "      <td>20/03/2016 15:43</td>\n",
       "      <td>999</td>\n",
       "      <td>small</td>\n",
       "      <td>1998</td>\n",
       "      <td>manual</td>\n",
       "      <td>58</td>\n",
       "      <td>clio</td>\n",
       "      <td>150000</td>\n",
       "      <td>10</td>\n",
       "      <td>petrol</td>\n",
       "      <td>renault</td>\n",
       "      <td>no</td>\n",
       "      <td>20/03/2016 00:00</td>\n",
       "      <td>45731</td>\n",
       "      <td>06/04/2016 19:46</td>\n",
       "    </tr>\n",
       "    <tr>\n",
       "      <th>354356</th>\n",
       "      <td>04/04/2016 11:45</td>\n",
       "      <td>999</td>\n",
       "      <td>convertible</td>\n",
       "      <td>2000</td>\n",
       "      <td>manual</td>\n",
       "      <td>95</td>\n",
       "      <td>megane</td>\n",
       "      <td>150000</td>\n",
       "      <td>4</td>\n",
       "      <td>petrol</td>\n",
       "      <td>renault</td>\n",
       "      <td>NaN</td>\n",
       "      <td>04/04/2016 00:00</td>\n",
       "      <td>88477</td>\n",
       "      <td>06/04/2016 12:44</td>\n",
       "    </tr>\n",
       "  </tbody>\n",
       "</table>\n",
       "<p>55344 rows × 15 columns</p>\n",
       "</div>"
      ],
      "text/plain": [
       "             datecrawled  price  vehicletype  registrationyear gearbox  power  \\\n",
       "173306  29/03/2016 06:03      1        small              2000  manual     75   \n",
       "158359  31/03/2016 22:56      1        wagon              2006     NaN    150   \n",
       "317686  26/03/2016 08:56      1          NaN              2017  manual    131   \n",
       "78756   14/03/2016 15:53      1        small              2005  manual     60   \n",
       "211729  27/03/2016 19:49      1          NaN              2005  manual     55   \n",
       "...                  ...    ...          ...               ...     ...    ...   \n",
       "174050  02/04/2016 14:58    999        sedan              1996  manual     75   \n",
       "56469   28/03/2016 17:40    999        wagon              1992  manual    133   \n",
       "56388   02/04/2016 16:57    999        sedan              1998    auto    170   \n",
       "328843  20/03/2016 15:43    999        small              1998  manual     58   \n",
       "354356  04/04/2016 11:45    999  convertible              2000  manual     95   \n",
       "\n",
       "         model  mileage  registrationmonth  fueltype       brand notrepaired  \\\n",
       "173306    polo   150000                  0       NaN  volkswagen         NaN   \n",
       "158359  vectra   150000                  0       NaN        opel         NaN   \n",
       "317686  galaxy   150000                  9  gasoline        ford         NaN   \n",
       "78756    other    80000                  3    petrol     peugeot          no   \n",
       "211729   corsa   150000                  2    petrol        opel         yes   \n",
       "...        ...      ...                ...       ...         ...         ...   \n",
       "174050    golf   150000                  1    petrol  volkswagen          no   \n",
       "56469      100   150000                  3    petrol        audi          no   \n",
       "56388      5er   150000                  8    petrol         bmw         yes   \n",
       "328843    clio   150000                 10    petrol     renault          no   \n",
       "354356  megane   150000                  4    petrol     renault         NaN   \n",
       "\n",
       "             datecreated  postalcode          lastseen  \n",
       "173306  29/03/2016 00:00        6184  05/04/2016 14:47  \n",
       "158359  31/03/2016 00:00       19294  06/04/2016 20:18  \n",
       "317686  26/03/2016 00:00       26553  31/03/2016 02:18  \n",
       "78756   14/03/2016 00:00       25474  14/03/2016 15:53  \n",
       "211729  27/03/2016 00:00       44793  05/04/2016 18:15  \n",
       "...                  ...         ...               ...  \n",
       "174050  02/04/2016 00:00       38889  06/04/2016 13:44  \n",
       "56469   28/03/2016 00:00       24879  30/03/2016 08:46  \n",
       "56388   02/04/2016 00:00       26180  06/04/2016 16:16  \n",
       "328843  20/03/2016 00:00       45731  06/04/2016 19:46  \n",
       "354356  04/04/2016 00:00       88477  06/04/2016 12:44  \n",
       "\n",
       "[55344 rows x 15 columns]"
      ]
     },
     "execution_count": 61,
     "metadata": {},
     "output_type": "execute_result"
    }
   ],
   "source": [
    "data_excluida = data[data['price']<1000]\n",
    "data_excluida.sort_values(by = 'price')"
   ]
  },
  {
   "cell_type": "markdown",
   "metadata": {},
   "source": [
    "Vemos que existen carros que valen 1 euro. Sabemos que esto es imposible, se trata de un error. Se puede explicar que los usuarios no deseen colocar el precio real de su coche en venta y desean mas privacidad en este aspecto para que resulte más negociable, por tanto para nuestro modelo ML estos datos pueden afectar el modelo por tanto lo mejor es separar estas entradas. "
   ]
  },
  {
   "cell_type": "markdown",
   "metadata": {},
   "source": [
    "Como segundo punto importante filtramos los carros menores a 1000 euros para observar bien que sean precios acordes a lo publicado por el usuario, vemos que precios que rodan a los 900 euros son coches cuyo modelo son muy antiguos y que por tanto parece ser un precio razonable, ya que tambien cuentan con valores altos de kilometrajes. "
   ]
  },
  {
   "cell_type": "markdown",
   "metadata": {},
   "source": [
    "Precios de Autos Matriculados Antes del Año 2000:\n",
    "  Autos matriculados antes del año 2000 suelen ser vehículos antiguos:\n",
    "   - Mayor depreciación: Debido a la antigüedad y el desgaste mecánico.\n",
    "   - Tecnología menos eficiente: No cumplen estándares actuales de emisiones ni cuentan con características modernas.\n",
    "   \n",
    "Rango de Precios Razonables:\n",
    "300 a 1,000 euros: Para autos en condiciones básicas, con alto kilometraje y posibles reparaciones pendientes.\n",
    "\n",
    "Es importante decir que precios menores a estos podrian tratarse de autos chatarras (autos sin funcionamiento), o errores de usuarios. Para determinar eliminar estos valores veamos las siguientes secciones. "
   ]
  },
  {
   "cell_type": "code",
   "execution_count": 62,
   "metadata": {},
   "outputs": [
    {
     "data": {
      "text/html": [
       "<div>\n",
       "<style scoped>\n",
       "    .dataframe tbody tr th:only-of-type {\n",
       "        vertical-align: middle;\n",
       "    }\n",
       "\n",
       "    .dataframe tbody tr th {\n",
       "        vertical-align: top;\n",
       "    }\n",
       "\n",
       "    .dataframe thead th {\n",
       "        text-align: right;\n",
       "    }\n",
       "</style>\n",
       "<table border=\"1\" class=\"dataframe\">\n",
       "  <thead>\n",
       "    <tr style=\"text-align: right;\">\n",
       "      <th></th>\n",
       "      <th>datecrawled</th>\n",
       "      <th>price</th>\n",
       "      <th>vehicletype</th>\n",
       "      <th>registrationyear</th>\n",
       "      <th>gearbox</th>\n",
       "      <th>power</th>\n",
       "      <th>model</th>\n",
       "      <th>mileage</th>\n",
       "      <th>registrationmonth</th>\n",
       "      <th>fueltype</th>\n",
       "      <th>brand</th>\n",
       "      <th>notrepaired</th>\n",
       "      <th>datecreated</th>\n",
       "      <th>postalcode</th>\n",
       "      <th>lastseen</th>\n",
       "    </tr>\n",
       "  </thead>\n",
       "  <tbody>\n",
       "    <tr>\n",
       "      <th>943</th>\n",
       "      <td>03/04/2016 14:39</td>\n",
       "      <td>98</td>\n",
       "      <td>small</td>\n",
       "      <td>1997</td>\n",
       "      <td>manual</td>\n",
       "      <td>53</td>\n",
       "      <td>swift</td>\n",
       "      <td>150000</td>\n",
       "      <td>7</td>\n",
       "      <td>petrol</td>\n",
       "      <td>suzuki</td>\n",
       "      <td>no</td>\n",
       "      <td>03/04/2016 00:00</td>\n",
       "      <td>14542</td>\n",
       "      <td>05/04/2016 13:18</td>\n",
       "    </tr>\n",
       "    <tr>\n",
       "      <th>2702</th>\n",
       "      <td>21/03/2016 02:37</td>\n",
       "      <td>80</td>\n",
       "      <td>small</td>\n",
       "      <td>2001</td>\n",
       "      <td>manual</td>\n",
       "      <td>98</td>\n",
       "      <td>rio</td>\n",
       "      <td>150000</td>\n",
       "      <td>2</td>\n",
       "      <td>petrol</td>\n",
       "      <td>kia</td>\n",
       "      <td>NaN</td>\n",
       "      <td>21/03/2016 00:00</td>\n",
       "      <td>39240</td>\n",
       "      <td>22/03/2016 12:17</td>\n",
       "    </tr>\n",
       "    <tr>\n",
       "      <th>3071</th>\n",
       "      <td>24/03/2016 19:57</td>\n",
       "      <td>30</td>\n",
       "      <td>sedan</td>\n",
       "      <td>1995</td>\n",
       "      <td>manual</td>\n",
       "      <td>75</td>\n",
       "      <td>polo</td>\n",
       "      <td>150000</td>\n",
       "      <td>0</td>\n",
       "      <td>petrol</td>\n",
       "      <td>volkswagen</td>\n",
       "      <td>no</td>\n",
       "      <td>24/03/2016 00:00</td>\n",
       "      <td>59067</td>\n",
       "      <td>05/04/2016 13:16</td>\n",
       "    </tr>\n",
       "    <tr>\n",
       "      <th>3460</th>\n",
       "      <td>04/04/2016 19:41</td>\n",
       "      <td>99</td>\n",
       "      <td>wagon</td>\n",
       "      <td>1999</td>\n",
       "      <td>manual</td>\n",
       "      <td>90</td>\n",
       "      <td>3_reihe</td>\n",
       "      <td>150000</td>\n",
       "      <td>1</td>\n",
       "      <td>NaN</td>\n",
       "      <td>peugeot</td>\n",
       "      <td>NaN</td>\n",
       "      <td>04/04/2016 00:00</td>\n",
       "      <td>31039</td>\n",
       "      <td>06/04/2016 21:45</td>\n",
       "    </tr>\n",
       "    <tr>\n",
       "      <th>3553</th>\n",
       "      <td>10/03/2016 17:37</td>\n",
       "      <td>75</td>\n",
       "      <td>small</td>\n",
       "      <td>1997</td>\n",
       "      <td>manual</td>\n",
       "      <td>45</td>\n",
       "      <td>corsa</td>\n",
       "      <td>150000</td>\n",
       "      <td>6</td>\n",
       "      <td>petrol</td>\n",
       "      <td>opel</td>\n",
       "      <td>NaN</td>\n",
       "      <td>10/03/2016 00:00</td>\n",
       "      <td>87772</td>\n",
       "      <td>12/03/2016 07:45</td>\n",
       "    </tr>\n",
       "    <tr>\n",
       "      <th>...</th>\n",
       "      <td>...</td>\n",
       "      <td>...</td>\n",
       "      <td>...</td>\n",
       "      <td>...</td>\n",
       "      <td>...</td>\n",
       "      <td>...</td>\n",
       "      <td>...</td>\n",
       "      <td>...</td>\n",
       "      <td>...</td>\n",
       "      <td>...</td>\n",
       "      <td>...</td>\n",
       "      <td>...</td>\n",
       "      <td>...</td>\n",
       "      <td>...</td>\n",
       "      <td>...</td>\n",
       "    </tr>\n",
       "    <tr>\n",
       "      <th>348228</th>\n",
       "      <td>30/03/2016 12:50</td>\n",
       "      <td>90</td>\n",
       "      <td>small</td>\n",
       "      <td>1997</td>\n",
       "      <td>manual</td>\n",
       "      <td>60</td>\n",
       "      <td>NaN</td>\n",
       "      <td>150000</td>\n",
       "      <td>0</td>\n",
       "      <td>petrol</td>\n",
       "      <td>opel</td>\n",
       "      <td>yes</td>\n",
       "      <td>30/03/2016 00:00</td>\n",
       "      <td>95145</td>\n",
       "      <td>30/03/2016 12:50</td>\n",
       "    </tr>\n",
       "    <tr>\n",
       "      <th>348813</th>\n",
       "      <td>12/03/2016 09:58</td>\n",
       "      <td>70</td>\n",
       "      <td>small</td>\n",
       "      <td>1998</td>\n",
       "      <td>manual</td>\n",
       "      <td>80</td>\n",
       "      <td>NaN</td>\n",
       "      <td>150000</td>\n",
       "      <td>0</td>\n",
       "      <td>petrol</td>\n",
       "      <td>kia</td>\n",
       "      <td>no</td>\n",
       "      <td>12/03/2016 00:00</td>\n",
       "      <td>26506</td>\n",
       "      <td>29/03/2016 15:15</td>\n",
       "    </tr>\n",
       "    <tr>\n",
       "      <th>353015</th>\n",
       "      <td>26/03/2016 12:37</td>\n",
       "      <td>30</td>\n",
       "      <td>NaN</td>\n",
       "      <td>2016</td>\n",
       "      <td>manual</td>\n",
       "      <td>75</td>\n",
       "      <td>golf</td>\n",
       "      <td>150000</td>\n",
       "      <td>10</td>\n",
       "      <td>petrol</td>\n",
       "      <td>volkswagen</td>\n",
       "      <td>yes</td>\n",
       "      <td>26/03/2016 00:00</td>\n",
       "      <td>84048</td>\n",
       "      <td>05/04/2016 23:46</td>\n",
       "    </tr>\n",
       "    <tr>\n",
       "      <th>353673</th>\n",
       "      <td>24/03/2016 11:55</td>\n",
       "      <td>90</td>\n",
       "      <td>small</td>\n",
       "      <td>1998</td>\n",
       "      <td>manual</td>\n",
       "      <td>60</td>\n",
       "      <td>other</td>\n",
       "      <td>150000</td>\n",
       "      <td>8</td>\n",
       "      <td>petrol</td>\n",
       "      <td>citroen</td>\n",
       "      <td>yes</td>\n",
       "      <td>24/03/2016 00:00</td>\n",
       "      <td>55278</td>\n",
       "      <td>27/03/2016 08:16</td>\n",
       "    </tr>\n",
       "    <tr>\n",
       "      <th>354309</th>\n",
       "      <td>09/03/2016 22:37</td>\n",
       "      <td>99</td>\n",
       "      <td>small</td>\n",
       "      <td>1999</td>\n",
       "      <td>manual</td>\n",
       "      <td>60</td>\n",
       "      <td>arosa</td>\n",
       "      <td>150000</td>\n",
       "      <td>1</td>\n",
       "      <td>petrol</td>\n",
       "      <td>seat</td>\n",
       "      <td>yes</td>\n",
       "      <td>09/03/2016 00:00</td>\n",
       "      <td>91301</td>\n",
       "      <td>06/04/2016 22:15</td>\n",
       "    </tr>\n",
       "  </tbody>\n",
       "</table>\n",
       "<p>456 rows × 15 columns</p>\n",
       "</div>"
      ],
      "text/plain": [
       "             datecrawled  price vehicletype  registrationyear gearbox  power  \\\n",
       "943     03/04/2016 14:39     98       small              1997  manual     53   \n",
       "2702    21/03/2016 02:37     80       small              2001  manual     98   \n",
       "3071    24/03/2016 19:57     30       sedan              1995  manual     75   \n",
       "3460    04/04/2016 19:41     99       wagon              1999  manual     90   \n",
       "3553    10/03/2016 17:37     75       small              1997  manual     45   \n",
       "...                  ...    ...         ...               ...     ...    ...   \n",
       "348228  30/03/2016 12:50     90       small              1997  manual     60   \n",
       "348813  12/03/2016 09:58     70       small              1998  manual     80   \n",
       "353015  26/03/2016 12:37     30         NaN              2016  manual     75   \n",
       "353673  24/03/2016 11:55     90       small              1998  manual     60   \n",
       "354309  09/03/2016 22:37     99       small              1999  manual     60   \n",
       "\n",
       "          model  mileage  registrationmonth fueltype       brand notrepaired  \\\n",
       "943       swift   150000                  7   petrol      suzuki          no   \n",
       "2702        rio   150000                  2   petrol         kia         NaN   \n",
       "3071       polo   150000                  0   petrol  volkswagen          no   \n",
       "3460    3_reihe   150000                  1      NaN     peugeot         NaN   \n",
       "3553      corsa   150000                  6   petrol        opel         NaN   \n",
       "...         ...      ...                ...      ...         ...         ...   \n",
       "348228      NaN   150000                  0   petrol        opel         yes   \n",
       "348813      NaN   150000                  0   petrol         kia          no   \n",
       "353015     golf   150000                 10   petrol  volkswagen         yes   \n",
       "353673    other   150000                  8   petrol     citroen         yes   \n",
       "354309    arosa   150000                  1   petrol        seat         yes   \n",
       "\n",
       "             datecreated  postalcode          lastseen  \n",
       "943     03/04/2016 00:00       14542  05/04/2016 13:18  \n",
       "2702    21/03/2016 00:00       39240  22/03/2016 12:17  \n",
       "3071    24/03/2016 00:00       59067  05/04/2016 13:16  \n",
       "3460    04/04/2016 00:00       31039  06/04/2016 21:45  \n",
       "3553    10/03/2016 00:00       87772  12/03/2016 07:45  \n",
       "...                  ...         ...               ...  \n",
       "348228  30/03/2016 00:00       95145  30/03/2016 12:50  \n",
       "348813  12/03/2016 00:00       26506  29/03/2016 15:15  \n",
       "353015  26/03/2016 00:00       84048  05/04/2016 23:46  \n",
       "353673  24/03/2016 00:00       55278  27/03/2016 08:16  \n",
       "354309  09/03/2016 00:00       91301  06/04/2016 22:15  \n",
       "\n",
       "[456 rows x 15 columns]"
      ]
     },
     "execution_count": 62,
     "metadata": {},
     "output_type": "execute_result"
    }
   ],
   "source": [
    "# Excluimos precios absurdos \n",
    "data_excluida = data_excluida[data_excluida['price']>10]\n",
    "# Mostramos coches menores 100 euros \n",
    "data_excluida[data_excluida['price']<100]"
   ]
  },
  {
   "cell_type": "markdown",
   "metadata": {},
   "source": [
    "Nos encontramos con verios elementos cuyos años son actuales y con precios absurdos por lo que podria tratarse de erres de los mismos usuarios. Sim embargo al establecer este umbral de 100 euros tambien podriamos tener datos de posibles autos que esten inservibles y se esten vendiendo como chatarra simplemente (es decir no funcionales). Dado que la app nos queremos centrar en venta de autos que funciones y que muestren una cotizacion adecuada, excluir estas entradas es razonable para nuestro modelo de ML."
   ]
  },
  {
   "cell_type": "code",
   "execution_count": 63,
   "metadata": {},
   "outputs": [
    {
     "data": {
      "text/plain": [
       "<Axes: ylabel='Frequency'>"
      ]
     },
     "execution_count": 63,
     "metadata": {},
     "output_type": "execute_result"
    },
    {
     "data": {
      "image/png": "[encoded data removed]",
      "text/plain": [
       "<Figure size 640x480 with 1 Axes>"
      ]
     },
     "metadata": {},
     "output_type": "display_data"
    }
   ],
   "source": [
    "data_excluida['price'].plot(kind='hist',bins = 30)"
   ]
  },
  {
   "cell_type": "markdown",
   "metadata": {},
   "source": [
    "Vemos tambien que a partir de los 200 euros encontramos mayores frecuencias de autos, entonces seria desde una perspectiva de cubrir mayor cantidad de usuarios que deseen vender vehiculos ya antiguos seria una buena opción escoger el umbral en este punto. Decidí escoger el umbral de 100 euros para no eliminar tantas entradas y cuyo proposito también poder excluir valores absurdos para carros más actuales."
   ]
  },
  {
   "cell_type": "code",
   "execution_count": 64,
   "metadata": {},
   "outputs": [],
   "source": [
    "# eliminamos de nuestros datos estos valores \n",
    "data = data[data['price']>100]"
   ]
  },
  {
   "cell_type": "code",
   "execution_count": 65,
   "metadata": {
    "scrolled": false
   },
   "outputs": [
    {
     "data": {
      "text/plain": [
       "<Axes: ylabel='Frequency'>"
      ]
     },
     "execution_count": 65,
     "metadata": {},
     "output_type": "execute_result"
    },
    {
     "data": {
      "image/png": "[encoded data removed]",
      "text/plain": [
       "<Figure size 640x480 with 1 Axes>"
      ]
     },
     "metadata": {},
     "output_type": "display_data"
    }
   ],
   "source": [
    "data['price'].plot(kind='hist',bins = 100)"
   ]
  },
  {
   "cell_type": "markdown",
   "metadata": {},
   "source": [
    "Vemos una distribución con una clara asimetria positiva, y con muchos valores atipicos (outiliters).Esta distribución se debe a que existen coches de segunda con precios muy bajos, asi como coches que pueden haber tenido poco tiempo de uso o poco kilometraje y un año de registro más actual. "
   ]
  },
  {
   "cell_type": "markdown",
   "metadata": {},
   "source": [
    "Ahora para la parte de entrenamiento, es necesario quitar las columnas innecesarias que no ayudaran a nuestra prediccion: "
   ]
  },
  {
   "cell_type": "code",
   "execution_count": 66,
   "metadata": {},
   "outputs": [],
   "source": [
    "data = data[['price','vehicletype','registrationyear','gearbox','power','model','mileage','fueltype','brand','notrepaired']]"
   ]
  },
  {
   "cell_type": "code",
   "execution_count": 67,
   "metadata": {},
   "outputs": [
    {
     "data": {
      "text/html": [
       "<div>\n",
       "<style scoped>\n",
       "    .dataframe tbody tr th:only-of-type {\n",
       "        vertical-align: middle;\n",
       "    }\n",
       "\n",
       "    .dataframe tbody tr th {\n",
       "        vertical-align: top;\n",
       "    }\n",
       "\n",
       "    .dataframe thead th {\n",
       "        text-align: right;\n",
       "    }\n",
       "</style>\n",
       "<table border=\"1\" class=\"dataframe\">\n",
       "  <thead>\n",
       "    <tr style=\"text-align: right;\">\n",
       "      <th></th>\n",
       "      <th>price</th>\n",
       "      <th>vehicletype</th>\n",
       "      <th>registrationyear</th>\n",
       "      <th>gearbox</th>\n",
       "      <th>power</th>\n",
       "      <th>model</th>\n",
       "      <th>mileage</th>\n",
       "      <th>fueltype</th>\n",
       "      <th>brand</th>\n",
       "      <th>notrepaired</th>\n",
       "    </tr>\n",
       "  </thead>\n",
       "  <tbody>\n",
       "    <tr>\n",
       "      <th>1</th>\n",
       "      <td>18300</td>\n",
       "      <td>coupe</td>\n",
       "      <td>2011</td>\n",
       "      <td>manual</td>\n",
       "      <td>190</td>\n",
       "      <td>NaN</td>\n",
       "      <td>125000</td>\n",
       "      <td>gasoline</td>\n",
       "      <td>audi</td>\n",
       "      <td>yes</td>\n",
       "    </tr>\n",
       "    <tr>\n",
       "      <th>2</th>\n",
       "      <td>9800</td>\n",
       "      <td>suv</td>\n",
       "      <td>2004</td>\n",
       "      <td>auto</td>\n",
       "      <td>163</td>\n",
       "      <td>grand</td>\n",
       "      <td>125000</td>\n",
       "      <td>gasoline</td>\n",
       "      <td>jeep</td>\n",
       "      <td>NaN</td>\n",
       "    </tr>\n",
       "    <tr>\n",
       "      <th>3</th>\n",
       "      <td>1500</td>\n",
       "      <td>small</td>\n",
       "      <td>2001</td>\n",
       "      <td>manual</td>\n",
       "      <td>75</td>\n",
       "      <td>golf</td>\n",
       "      <td>150000</td>\n",
       "      <td>petrol</td>\n",
       "      <td>volkswagen</td>\n",
       "      <td>no</td>\n",
       "    </tr>\n",
       "    <tr>\n",
       "      <th>4</th>\n",
       "      <td>3600</td>\n",
       "      <td>small</td>\n",
       "      <td>2008</td>\n",
       "      <td>manual</td>\n",
       "      <td>69</td>\n",
       "      <td>fabia</td>\n",
       "      <td>90000</td>\n",
       "      <td>gasoline</td>\n",
       "      <td>skoda</td>\n",
       "      <td>no</td>\n",
       "    </tr>\n",
       "    <tr>\n",
       "      <th>5</th>\n",
       "      <td>650</td>\n",
       "      <td>sedan</td>\n",
       "      <td>1995</td>\n",
       "      <td>manual</td>\n",
       "      <td>102</td>\n",
       "      <td>3er</td>\n",
       "      <td>150000</td>\n",
       "      <td>petrol</td>\n",
       "      <td>bmw</td>\n",
       "      <td>yes</td>\n",
       "    </tr>\n",
       "    <tr>\n",
       "      <th>6</th>\n",
       "      <td>2200</td>\n",
       "      <td>convertible</td>\n",
       "      <td>2004</td>\n",
       "      <td>manual</td>\n",
       "      <td>109</td>\n",
       "      <td>2_reihe</td>\n",
       "      <td>150000</td>\n",
       "      <td>petrol</td>\n",
       "      <td>peugeot</td>\n",
       "      <td>no</td>\n",
       "    </tr>\n",
       "    <tr>\n",
       "      <th>8</th>\n",
       "      <td>14500</td>\n",
       "      <td>bus</td>\n",
       "      <td>2014</td>\n",
       "      <td>manual</td>\n",
       "      <td>125</td>\n",
       "      <td>c_max</td>\n",
       "      <td>30000</td>\n",
       "      <td>petrol</td>\n",
       "      <td>ford</td>\n",
       "      <td>NaN</td>\n",
       "    </tr>\n",
       "    <tr>\n",
       "      <th>9</th>\n",
       "      <td>999</td>\n",
       "      <td>small</td>\n",
       "      <td>1998</td>\n",
       "      <td>manual</td>\n",
       "      <td>101</td>\n",
       "      <td>golf</td>\n",
       "      <td>150000</td>\n",
       "      <td>NaN</td>\n",
       "      <td>volkswagen</td>\n",
       "      <td>NaN</td>\n",
       "    </tr>\n",
       "    <tr>\n",
       "      <th>10</th>\n",
       "      <td>2000</td>\n",
       "      <td>sedan</td>\n",
       "      <td>2004</td>\n",
       "      <td>manual</td>\n",
       "      <td>105</td>\n",
       "      <td>3_reihe</td>\n",
       "      <td>150000</td>\n",
       "      <td>petrol</td>\n",
       "      <td>mazda</td>\n",
       "      <td>no</td>\n",
       "    </tr>\n",
       "    <tr>\n",
       "      <th>11</th>\n",
       "      <td>2799</td>\n",
       "      <td>wagon</td>\n",
       "      <td>2005</td>\n",
       "      <td>manual</td>\n",
       "      <td>140</td>\n",
       "      <td>passat</td>\n",
       "      <td>150000</td>\n",
       "      <td>gasoline</td>\n",
       "      <td>volkswagen</td>\n",
       "      <td>yes</td>\n",
       "    </tr>\n",
       "  </tbody>\n",
       "</table>\n",
       "</div>"
      ],
      "text/plain": [
       "    price  vehicletype  registrationyear gearbox  power    model  mileage  \\\n",
       "1   18300        coupe              2011  manual    190      NaN   125000   \n",
       "2    9800          suv              2004    auto    163    grand   125000   \n",
       "3    1500        small              2001  manual     75     golf   150000   \n",
       "4    3600        small              2008  manual     69    fabia    90000   \n",
       "5     650        sedan              1995  manual    102      3er   150000   \n",
       "6    2200  convertible              2004  manual    109  2_reihe   150000   \n",
       "8   14500          bus              2014  manual    125    c_max    30000   \n",
       "9     999        small              1998  manual    101     golf   150000   \n",
       "10   2000        sedan              2004  manual    105  3_reihe   150000   \n",
       "11   2799        wagon              2005  manual    140   passat   150000   \n",
       "\n",
       "    fueltype       brand notrepaired  \n",
       "1   gasoline        audi         yes  \n",
       "2   gasoline        jeep         NaN  \n",
       "3     petrol  volkswagen          no  \n",
       "4   gasoline       skoda          no  \n",
       "5     petrol         bmw         yes  \n",
       "6     petrol     peugeot          no  \n",
       "8     petrol        ford         NaN  \n",
       "9        NaN  volkswagen         NaN  \n",
       "10    petrol       mazda          no  \n",
       "11  gasoline  volkswagen         yes  "
      ]
     },
     "execution_count": 67,
     "metadata": {},
     "output_type": "execute_result"
    }
   ],
   "source": [
    "data.head(10)"
   ]
  },
  {
   "cell_type": "code",
   "execution_count": 68,
   "metadata": {},
   "outputs": [
    {
     "data": {
      "text/plain": [
       "price                   0\n",
       "vehicletype         20404\n",
       "registrationyear        0\n",
       "gearbox              5603\n",
       "power                   0\n",
       "model               11063\n",
       "mileage                 0\n",
       "fueltype            18631\n",
       "brand                   0\n",
       "notrepaired         44383\n",
       "dtype: int64"
      ]
     },
     "execution_count": 68,
     "metadata": {},
     "output_type": "execute_result"
    }
   ],
   "source": [
    "# Analizando valores faltantes \n",
    "data.isna().sum()"
   ]
  },
  {
   "cell_type": "code",
   "execution_count": 69,
   "metadata": {},
   "outputs": [],
   "source": [
    "# Rellenamos con desconocido\n",
    "data.fillna('Desconocido',inplace = True)"
   ]
  },
  {
   "cell_type": "code",
   "execution_count": 70,
   "metadata": {},
   "outputs": [
    {
     "data": {
      "text/plain": [
       "price                int64\n",
       "vehicletype         object\n",
       "registrationyear     int64\n",
       "gearbox             object\n",
       "power                int64\n",
       "model               object\n",
       "mileage              int64\n",
       "fueltype            object\n",
       "brand               object\n",
       "notrepaired         object\n",
       "dtype: object"
      ]
     },
     "execution_count": 70,
     "metadata": {},
     "output_type": "execute_result"
    }
   ],
   "source": [
    "data.dtypes"
   ]
  },
  {
   "cell_type": "code",
   "execution_count": 71,
   "metadata": {},
   "outputs": [
    {
     "name": "stdout",
     "output_type": "stream",
     "text": [
      "sedan          79276\n",
      "small          68283\n",
      "wagon          58612\n",
      "bus            25676\n",
      "Desconocido    20404\n",
      "convertible    17751\n",
      "coupe          13281\n",
      "suv            10542\n",
      "other           2169\n",
      "Name: vehicletype, dtype: int64\n",
      "\n",
      "\n",
      "manual         232219\n",
      "auto            58172\n",
      "Desconocido      5603\n",
      "Name: gearbox, dtype: int64\n",
      "\n",
      "\n",
      "golf                  24777\n",
      "other                 17750\n",
      "3er                   17261\n",
      "Desconocido           11063\n",
      "polo                  10851\n",
      "                      ...  \n",
      "rangerover                3\n",
      "range_rover_evoque        2\n",
      "serie_2                   1\n",
      "200                       1\n",
      "601                       1\n",
      "Name: model, Length: 249, dtype: int64\n",
      "\n",
      "\n",
      "petrol         183501\n",
      "gasoline        88380\n",
      "Desconocido     18631\n",
      "lpg              4696\n",
      "cng               490\n",
      "hybrid            204\n",
      "other              54\n",
      "electric           38\n",
      "Name: fueltype, dtype: int64\n",
      "\n",
      "\n",
      "volkswagen        64141\n",
      "opel              33030\n",
      "bmw               32203\n",
      "mercedes_benz     26356\n",
      "audi              25771\n",
      "ford              20801\n",
      "renault           14331\n",
      "peugeot            9552\n",
      "fiat               7654\n",
      "seat               6093\n",
      "skoda              5030\n",
      "mazda              4803\n",
      "smart              4600\n",
      "citroen            4255\n",
      "nissan             4085\n",
      "toyota             4048\n",
      "hyundai            3186\n",
      "mini               3028\n",
      "volvo              2746\n",
      "mitsubishi         2533\n",
      "honda              2389\n",
      "kia                2152\n",
      "alfa_romeo         1936\n",
      "suzuki             1922\n",
      "chevrolet          1348\n",
      "chrysler           1145\n",
      "sonstige_autos     1141\n",
      "dacia               821\n",
      "subaru              636\n",
      "daihatsu            615\n",
      "jeep                545\n",
      "porsche             499\n",
      "saab                457\n",
      "land_rover          434\n",
      "daewoo              418\n",
      "jaguar              403\n",
      "rover               374\n",
      "lancia              369\n",
      "lada                136\n",
      "trabant               8\n",
      "Name: brand, dtype: int64\n",
      "\n",
      "\n",
      "no             223506\n",
      "Desconocido     44383\n",
      "yes             28105\n",
      "Name: notrepaired, dtype: int64\n",
      "\n",
      "\n"
     ]
    }
   ],
   "source": [
    "# Revisamos las columnas categoricas \n",
    "columnas_categoricas = list(data.dtypes[data.dtypes == 'object'].index)\n",
    "for categoria in columnas_categoricas:\n",
    "    print(data[categoria].value_counts())\n",
    "    print()\n",
    "    print()"
   ]
  },
  {
   "cell_type": "markdown",
   "metadata": {},
   "source": [
    "Observamos que algunas columnas existen varias categorias, por lo que cuando relicemos OHE resultaran muchas columnas,veremos que tal nos resulta. Sino utilizaremos codificacion de etiquetas para las columnas con alta cardinalidad"
   ]
  },
  {
   "cell_type": "markdown",
   "metadata": {},
   "source": [
    "## Entrenamiento del modelo "
   ]
  },
  {
   "cell_type": "markdown",
   "metadata": {},
   "source": [
    "###  Regresion Lineal (prueba de cordura)"
   ]
  },
  {
   "cell_type": "markdown",
   "metadata": {},
   "source": [
    "Realizaremos una regresion lineal"
   ]
  },
  {
   "cell_type": "code",
   "execution_count": 72,
   "metadata": {},
   "outputs": [
    {
     "data": {
      "text/html": [
       "<div>\n",
       "<style scoped>\n",
       "    .dataframe tbody tr th:only-of-type {\n",
       "        vertical-align: middle;\n",
       "    }\n",
       "\n",
       "    .dataframe tbody tr th {\n",
       "        vertical-align: top;\n",
       "    }\n",
       "\n",
       "    .dataframe thead th {\n",
       "        text-align: right;\n",
       "    }\n",
       "</style>\n",
       "<table border=\"1\" class=\"dataframe\">\n",
       "  <thead>\n",
       "    <tr style=\"text-align: right;\">\n",
       "      <th></th>\n",
       "      <th>price</th>\n",
       "      <th>registrationyear</th>\n",
       "      <th>power</th>\n",
       "      <th>mileage</th>\n",
       "      <th>vehicletype_bus</th>\n",
       "      <th>vehicletype_convertible</th>\n",
       "      <th>vehicletype_coupe</th>\n",
       "      <th>vehicletype_other</th>\n",
       "      <th>vehicletype_sedan</th>\n",
       "      <th>vehicletype_small</th>\n",
       "      <th>...</th>\n",
       "      <th>brand_smart</th>\n",
       "      <th>brand_sonstige_autos</th>\n",
       "      <th>brand_subaru</th>\n",
       "      <th>brand_suzuki</th>\n",
       "      <th>brand_toyota</th>\n",
       "      <th>brand_trabant</th>\n",
       "      <th>brand_volkswagen</th>\n",
       "      <th>brand_volvo</th>\n",
       "      <th>notrepaired_no</th>\n",
       "      <th>notrepaired_yes</th>\n",
       "    </tr>\n",
       "  </thead>\n",
       "  <tbody>\n",
       "    <tr>\n",
       "      <th>1</th>\n",
       "      <td>18300</td>\n",
       "      <td>2011</td>\n",
       "      <td>190</td>\n",
       "      <td>125000</td>\n",
       "      <td>0</td>\n",
       "      <td>0</td>\n",
       "      <td>1</td>\n",
       "      <td>0</td>\n",
       "      <td>0</td>\n",
       "      <td>0</td>\n",
       "      <td>...</td>\n",
       "      <td>0</td>\n",
       "      <td>0</td>\n",
       "      <td>0</td>\n",
       "      <td>0</td>\n",
       "      <td>0</td>\n",
       "      <td>0</td>\n",
       "      <td>0</td>\n",
       "      <td>0</td>\n",
       "      <td>0</td>\n",
       "      <td>1</td>\n",
       "    </tr>\n",
       "    <tr>\n",
       "      <th>2</th>\n",
       "      <td>9800</td>\n",
       "      <td>2004</td>\n",
       "      <td>163</td>\n",
       "      <td>125000</td>\n",
       "      <td>0</td>\n",
       "      <td>0</td>\n",
       "      <td>0</td>\n",
       "      <td>0</td>\n",
       "      <td>0</td>\n",
       "      <td>0</td>\n",
       "      <td>...</td>\n",
       "      <td>0</td>\n",
       "      <td>0</td>\n",
       "      <td>0</td>\n",
       "      <td>0</td>\n",
       "      <td>0</td>\n",
       "      <td>0</td>\n",
       "      <td>0</td>\n",
       "      <td>0</td>\n",
       "      <td>0</td>\n",
       "      <td>0</td>\n",
       "    </tr>\n",
       "    <tr>\n",
       "      <th>3</th>\n",
       "      <td>1500</td>\n",
       "      <td>2001</td>\n",
       "      <td>75</td>\n",
       "      <td>150000</td>\n",
       "      <td>0</td>\n",
       "      <td>0</td>\n",
       "      <td>0</td>\n",
       "      <td>0</td>\n",
       "      <td>0</td>\n",
       "      <td>1</td>\n",
       "      <td>...</td>\n",
       "      <td>0</td>\n",
       "      <td>0</td>\n",
       "      <td>0</td>\n",
       "      <td>0</td>\n",
       "      <td>0</td>\n",
       "      <td>0</td>\n",
       "      <td>1</td>\n",
       "      <td>0</td>\n",
       "      <td>1</td>\n",
       "      <td>0</td>\n",
       "    </tr>\n",
       "    <tr>\n",
       "      <th>4</th>\n",
       "      <td>3600</td>\n",
       "      <td>2008</td>\n",
       "      <td>69</td>\n",
       "      <td>90000</td>\n",
       "      <td>0</td>\n",
       "      <td>0</td>\n",
       "      <td>0</td>\n",
       "      <td>0</td>\n",
       "      <td>0</td>\n",
       "      <td>1</td>\n",
       "      <td>...</td>\n",
       "      <td>0</td>\n",
       "      <td>0</td>\n",
       "      <td>0</td>\n",
       "      <td>0</td>\n",
       "      <td>0</td>\n",
       "      <td>0</td>\n",
       "      <td>0</td>\n",
       "      <td>0</td>\n",
       "      <td>1</td>\n",
       "      <td>0</td>\n",
       "    </tr>\n",
       "    <tr>\n",
       "      <th>5</th>\n",
       "      <td>650</td>\n",
       "      <td>1995</td>\n",
       "      <td>102</td>\n",
       "      <td>150000</td>\n",
       "      <td>0</td>\n",
       "      <td>0</td>\n",
       "      <td>0</td>\n",
       "      <td>0</td>\n",
       "      <td>1</td>\n",
       "      <td>0</td>\n",
       "      <td>...</td>\n",
       "      <td>0</td>\n",
       "      <td>0</td>\n",
       "      <td>0</td>\n",
       "      <td>0</td>\n",
       "      <td>0</td>\n",
       "      <td>0</td>\n",
       "      <td>0</td>\n",
       "      <td>0</td>\n",
       "      <td>0</td>\n",
       "      <td>1</td>\n",
       "    </tr>\n",
       "    <tr>\n",
       "      <th>...</th>\n",
       "      <td>...</td>\n",
       "      <td>...</td>\n",
       "      <td>...</td>\n",
       "      <td>...</td>\n",
       "      <td>...</td>\n",
       "      <td>...</td>\n",
       "      <td>...</td>\n",
       "      <td>...</td>\n",
       "      <td>...</td>\n",
       "      <td>...</td>\n",
       "      <td>...</td>\n",
       "      <td>...</td>\n",
       "      <td>...</td>\n",
       "      <td>...</td>\n",
       "      <td>...</td>\n",
       "      <td>...</td>\n",
       "      <td>...</td>\n",
       "      <td>...</td>\n",
       "      <td>...</td>\n",
       "      <td>...</td>\n",
       "      <td>...</td>\n",
       "    </tr>\n",
       "    <tr>\n",
       "      <th>354361</th>\n",
       "      <td>5250</td>\n",
       "      <td>2016</td>\n",
       "      <td>150</td>\n",
       "      <td>150000</td>\n",
       "      <td>0</td>\n",
       "      <td>0</td>\n",
       "      <td>0</td>\n",
       "      <td>0</td>\n",
       "      <td>0</td>\n",
       "      <td>0</td>\n",
       "      <td>...</td>\n",
       "      <td>0</td>\n",
       "      <td>0</td>\n",
       "      <td>0</td>\n",
       "      <td>0</td>\n",
       "      <td>0</td>\n",
       "      <td>0</td>\n",
       "      <td>0</td>\n",
       "      <td>0</td>\n",
       "      <td>1</td>\n",
       "      <td>0</td>\n",
       "    </tr>\n",
       "    <tr>\n",
       "      <th>354362</th>\n",
       "      <td>3200</td>\n",
       "      <td>2004</td>\n",
       "      <td>225</td>\n",
       "      <td>150000</td>\n",
       "      <td>0</td>\n",
       "      <td>0</td>\n",
       "      <td>0</td>\n",
       "      <td>0</td>\n",
       "      <td>1</td>\n",
       "      <td>0</td>\n",
       "      <td>...</td>\n",
       "      <td>0</td>\n",
       "      <td>0</td>\n",
       "      <td>0</td>\n",
       "      <td>0</td>\n",
       "      <td>0</td>\n",
       "      <td>0</td>\n",
       "      <td>0</td>\n",
       "      <td>0</td>\n",
       "      <td>0</td>\n",
       "      <td>1</td>\n",
       "    </tr>\n",
       "    <tr>\n",
       "      <th>354366</th>\n",
       "      <td>1199</td>\n",
       "      <td>2000</td>\n",
       "      <td>101</td>\n",
       "      <td>125000</td>\n",
       "      <td>0</td>\n",
       "      <td>1</td>\n",
       "      <td>0</td>\n",
       "      <td>0</td>\n",
       "      <td>0</td>\n",
       "      <td>0</td>\n",
       "      <td>...</td>\n",
       "      <td>1</td>\n",
       "      <td>0</td>\n",
       "      <td>0</td>\n",
       "      <td>0</td>\n",
       "      <td>0</td>\n",
       "      <td>0</td>\n",
       "      <td>0</td>\n",
       "      <td>0</td>\n",
       "      <td>1</td>\n",
       "      <td>0</td>\n",
       "    </tr>\n",
       "    <tr>\n",
       "      <th>354367</th>\n",
       "      <td>9200</td>\n",
       "      <td>1996</td>\n",
       "      <td>102</td>\n",
       "      <td>150000</td>\n",
       "      <td>1</td>\n",
       "      <td>0</td>\n",
       "      <td>0</td>\n",
       "      <td>0</td>\n",
       "      <td>0</td>\n",
       "      <td>0</td>\n",
       "      <td>...</td>\n",
       "      <td>0</td>\n",
       "      <td>0</td>\n",
       "      <td>0</td>\n",
       "      <td>0</td>\n",
       "      <td>0</td>\n",
       "      <td>0</td>\n",
       "      <td>1</td>\n",
       "      <td>0</td>\n",
       "      <td>1</td>\n",
       "      <td>0</td>\n",
       "    </tr>\n",
       "    <tr>\n",
       "      <th>354368</th>\n",
       "      <td>3400</td>\n",
       "      <td>2002</td>\n",
       "      <td>100</td>\n",
       "      <td>150000</td>\n",
       "      <td>0</td>\n",
       "      <td>0</td>\n",
       "      <td>0</td>\n",
       "      <td>0</td>\n",
       "      <td>0</td>\n",
       "      <td>0</td>\n",
       "      <td>...</td>\n",
       "      <td>0</td>\n",
       "      <td>0</td>\n",
       "      <td>0</td>\n",
       "      <td>0</td>\n",
       "      <td>0</td>\n",
       "      <td>0</td>\n",
       "      <td>1</td>\n",
       "      <td>0</td>\n",
       "      <td>0</td>\n",
       "      <td>0</td>\n",
       "    </tr>\n",
       "  </tbody>\n",
       "</table>\n",
       "<p>295994 rows × 310 columns</p>\n",
       "</div>"
      ],
      "text/plain": [
       "        price  registrationyear  power  mileage  vehicletype_bus  \\\n",
       "1       18300              2011    190   125000                0   \n",
       "2        9800              2004    163   125000                0   \n",
       "3        1500              2001     75   150000                0   \n",
       "4        3600              2008     69    90000                0   \n",
       "5         650              1995    102   150000                0   \n",
       "...       ...               ...    ...      ...              ...   \n",
       "354361   5250              2016    150   150000                0   \n",
       "354362   3200              2004    225   150000                0   \n",
       "354366   1199              2000    101   125000                0   \n",
       "354367   9200              1996    102   150000                1   \n",
       "354368   3400              2002    100   150000                0   \n",
       "\n",
       "        vehicletype_convertible  vehicletype_coupe  vehicletype_other  \\\n",
       "1                             0                  1                  0   \n",
       "2                             0                  0                  0   \n",
       "3                             0                  0                  0   \n",
       "4                             0                  0                  0   \n",
       "5                             0                  0                  0   \n",
       "...                         ...                ...                ...   \n",
       "354361                        0                  0                  0   \n",
       "354362                        0                  0                  0   \n",
       "354366                        1                  0                  0   \n",
       "354367                        0                  0                  0   \n",
       "354368                        0                  0                  0   \n",
       "\n",
       "        vehicletype_sedan  vehicletype_small  ...  brand_smart  \\\n",
       "1                       0                  0  ...            0   \n",
       "2                       0                  0  ...            0   \n",
       "3                       0                  1  ...            0   \n",
       "4                       0                  1  ...            0   \n",
       "5                       1                  0  ...            0   \n",
       "...                   ...                ...  ...          ...   \n",
       "354361                  0                  0  ...            0   \n",
       "354362                  1                  0  ...            0   \n",
       "354366                  0                  0  ...            1   \n",
       "354367                  0                  0  ...            0   \n",
       "354368                  0                  0  ...            0   \n",
       "\n",
       "        brand_sonstige_autos  brand_subaru  brand_suzuki  brand_toyota  \\\n",
       "1                          0             0             0             0   \n",
       "2                          0             0             0             0   \n",
       "3                          0             0             0             0   \n",
       "4                          0             0             0             0   \n",
       "5                          0             0             0             0   \n",
       "...                      ...           ...           ...           ...   \n",
       "354361                     0             0             0             0   \n",
       "354362                     0             0             0             0   \n",
       "354366                     0             0             0             0   \n",
       "354367                     0             0             0             0   \n",
       "354368                     0             0             0             0   \n",
       "\n",
       "        brand_trabant  brand_volkswagen  brand_volvo  notrepaired_no  \\\n",
       "1                   0                 0            0               0   \n",
       "2                   0                 0            0               0   \n",
       "3                   0                 1            0               1   \n",
       "4                   0                 0            0               1   \n",
       "5                   0                 0            0               0   \n",
       "...               ...               ...          ...             ...   \n",
       "354361              0                 0            0               1   \n",
       "354362              0                 0            0               0   \n",
       "354366              0                 0            0               1   \n",
       "354367              0                 1            0               1   \n",
       "354368              0                 1            0               0   \n",
       "\n",
       "        notrepaired_yes  \n",
       "1                     1  \n",
       "2                     0  \n",
       "3                     0  \n",
       "4                     0  \n",
       "5                     1  \n",
       "...                 ...  \n",
       "354361                0  \n",
       "354362                1  \n",
       "354366                0  \n",
       "354367                0  \n",
       "354368                0  \n",
       "\n",
       "[295994 rows x 310 columns]"
      ]
     },
     "execution_count": 72,
     "metadata": {},
     "output_type": "execute_result"
    }
   ],
   "source": [
    "# Realizamos OHE a la data \n",
    "data_ohe = pd.get_dummies(data,drop_first = True)\n",
    "data_ohe"
   ]
  },
  {
   "cell_type": "code",
   "execution_count": 73,
   "metadata": {},
   "outputs": [],
   "source": [
    "# Separamos el objetivo y las caracteristicas\n",
    "features = data_ohe.drop('price',axis=1)\n",
    "target = data_ohe['price']"
   ]
  },
  {
   "cell_type": "code",
   "execution_count": 74,
   "metadata": {},
   "outputs": [],
   "source": [
    "# Dividimos la prueba en validacion y en entrenamiento \n",
    "features_train, features_valid, target_train,target_valid = train_test_split(features,target,test_size = 0.30 , random_state = 54321)"
   ]
  },
  {
   "cell_type": "code",
   "execution_count": 75,
   "metadata": {},
   "outputs": [
    {
     "name": "stdout",
     "output_type": "stream",
     "text": [
      "CPU times: user 23.5 s, sys: 3.33 s, total: 26.8 s\n",
      "Wall time: 5.94 s\n"
     ]
    },
    {
     "data": {
      "text/html": [
       "<style>#sk-container-id-1 {color: black;background-color: white;}#sk-container-id-1 pre{padding: 0;}#sk-container-id-1 div.sk-toggleable {background-color: white;}#sk-container-id-1 label.sk-toggleable__label {cursor: pointer;display: block;width: 100%;margin-bottom: 0;padding: 0.3em;box-sizing: border-box;text-align: center;}#sk-container-id-1 label.sk-toggleable__label-arrow:before {content: \"▸\";float: left;margin-right: 0.25em;color: #696969;}#sk-container-id-1 label.sk-toggleable__label-arrow:hover:before {color: black;}#sk-container-id-1 div.sk-estimator:hover label.sk-toggleable__label-arrow:before {color: black;}#sk-container-id-1 div.sk-toggleable__content {max-height: 0;max-width: 0;overflow: hidden;text-align: left;background-color: #f0f8ff;}#sk-container-id-1 div.sk-toggleable__content pre {margin: 0.2em;color: black;border-radius: 0.25em;background-color: #f0f8ff;}#sk-container-id-1 input.sk-toggleable__control:checked~div.sk-toggleable__content {max-height: 200px;max-width: 100%;overflow: auto;}#sk-container-id-1 input.sk-toggleable__control:checked~label.sk-toggleable__label-arrow:before {content: \"▾\";}#sk-container-id-1 div.sk-estimator input.sk-toggleable__control:checked~label.sk-toggleable__label {background-color: #d4ebff;}#sk-container-id-1 div.sk-label input.sk-toggleable__control:checked~label.sk-toggleable__label {background-color: #d4ebff;}#sk-container-id-1 input.sk-hidden--visually {border: 0;clip: rect(1px 1px 1px 1px);clip: rect(1px, 1px, 1px, 1px);height: 1px;margin: -1px;overflow: hidden;padding: 0;position: absolute;width: 1px;}#sk-container-id-1 div.sk-estimator {font-family: monospace;background-color: #f0f8ff;border: 1px dotted black;border-radius: 0.25em;box-sizing: border-box;margin-bottom: 0.5em;}#sk-container-id-1 div.sk-estimator:hover {background-color: #d4ebff;}#sk-container-id-1 div.sk-parallel-item::after {content: \"\";width: 100%;border-bottom: 1px solid gray;flex-grow: 1;}#sk-container-id-1 div.sk-label:hover label.sk-toggleable__label {background-color: #d4ebff;}#sk-container-id-1 div.sk-serial::before {content: \"\";position: absolute;border-left: 1px solid gray;box-sizing: border-box;top: 0;bottom: 0;left: 50%;z-index: 0;}#sk-container-id-1 div.sk-serial {display: flex;flex-direction: column;align-items: center;background-color: white;padding-right: 0.2em;padding-left: 0.2em;position: relative;}#sk-container-id-1 div.sk-item {position: relative;z-index: 1;}#sk-container-id-1 div.sk-parallel {display: flex;align-items: stretch;justify-content: center;background-color: white;position: relative;}#sk-container-id-1 div.sk-item::before, #sk-container-id-1 div.sk-parallel-item::before {content: \"\";position: absolute;border-left: 1px solid gray;box-sizing: border-box;top: 0;bottom: 0;left: 50%;z-index: -1;}#sk-container-id-1 div.sk-parallel-item {display: flex;flex-direction: column;z-index: 1;position: relative;background-color: white;}#sk-container-id-1 div.sk-parallel-item:first-child::after {align-self: flex-end;width: 50%;}#sk-container-id-1 div.sk-parallel-item:last-child::after {align-self: flex-start;width: 50%;}#sk-container-id-1 div.sk-parallel-item:only-child::after {width: 0;}#sk-container-id-1 div.sk-dashed-wrapped {border: 1px dashed gray;margin: 0 0.4em 0.5em 0.4em;box-sizing: border-box;padding-bottom: 0.4em;background-color: white;}#sk-container-id-1 div.sk-label label {font-family: monospace;font-weight: bold;display: inline-block;line-height: 1.2em;}#sk-container-id-1 div.sk-label-container {text-align: center;}#sk-container-id-1 div.sk-container {/* jupyter's `normalize.less` sets `[hidden] { display: none; }` but bootstrap.min.css set `[hidden] { display: none !important; }` so we also need the `!important` here to be able to override the default hidden behavior on the sphinx rendered scikit-learn.org. See: https://github.com/scikit-learn/scikit-learn/issues/21755 */display: inline-block !important;position: relative;}#sk-container-id-1 div.sk-text-repr-fallback {display: none;}</style><div id=\"sk-container-id-1\" class=\"sk-top-container\"><div class=\"sk-text-repr-fallback\"><pre>LinearRegression()</pre><b>In a Jupyter environment, please rerun this cell to show the HTML representation or trust the notebook. <br />On GitHub, the HTML representation is unable to render, please try loading this page with nbviewer.org.</b></div><div class=\"sk-container\" hidden><div class=\"sk-item\"><div class=\"sk-estimator sk-toggleable\"><input class=\"sk-toggleable__control sk-hidden--visually\" id=\"sk-estimator-id-1\" type=\"checkbox\" checked><label for=\"sk-estimator-id-1\" class=\"sk-toggleable__label sk-toggleable__label-arrow\">LinearRegression</label><div class=\"sk-toggleable__content\"><pre>LinearRegression()</pre></div></div></div></div></div>"
      ],
      "text/plain": [
       "LinearRegression()"
      ]
     },
     "execution_count": 75,
     "metadata": {},
     "output_type": "execute_result"
    }
   ],
   "source": [
    "%%time\n",
    "model = LinearRegression()\n",
    "model.fit(features_train,target_train)"
   ]
  },
  {
   "cell_type": "markdown",
   "metadata": {},
   "source": [
    "Para el proceso de entrenamiento nos tomo alrededor de 8 segundos"
   ]
  },
  {
   "cell_type": "code",
   "execution_count": 76,
   "metadata": {},
   "outputs": [
    {
     "name": "stdout",
     "output_type": "stream",
     "text": [
      "CPU times: user 1.13 s, sys: 545 ms, total: 1.68 s\n",
      "Wall time: 854 ms\n"
     ]
    }
   ],
   "source": [
    "%%time\n",
    "predictions = model.predict(features_valid)\n",
    "predictions_train = model.predict(features_train)"
   ]
  },
  {
   "cell_type": "markdown",
   "metadata": {},
   "source": [
    "El tiempo de prediccion del modelo es de 491 ms. Definitivamente el modelo de regresion es muy rapido."
   ]
  },
  {
   "cell_type": "code",
   "execution_count": 77,
   "metadata": {},
   "outputs": [
    {
     "name": "stdout",
     "output_type": "stream",
     "text": [
      "MSE con el los datos de entrenamiento:  2305.522326064362\n",
      "MSE con la validacion:  2330.2008246774867\n"
     ]
    }
   ],
   "source": [
    "print(\"MSE con el los datos de entrenamiento: \",mean_squared_error(target_train,predictions_train)** 0.5)\n",
    "print(\"MSE con la validacion: \",mean_squared_error(target_valid,predictions)** 0.5)"
   ]
  },
  {
   "cell_type": "markdown",
   "metadata": {},
   "source": [
    "En promedio nuestro modelo se equivoca en 2330 euros, es una cifra algo elevado.Veremos que tal nos resulta con los modelos de gradient boosting y bosque aleatorio."
   ]
  },
  {
   "cell_type": "markdown",
   "metadata": {},
   "source": [
    "### Bosque aleatorio de regresion "
   ]
  },
  {
   "cell_type": "markdown",
   "metadata": {},
   "source": [
    "Utilizaremos codificacion de etiquetas, la razón principal es que, a diferencia de los modelos de regresión que tienen acceso a todo el espectro de variables al mismo tiempo, el modelo basado en árboles solo puede procesar una variable a la vez.  Como resultado, no tiene información completa sobre la variable categórica original. En cambio, su importancia se dispersa entre muchas variables dummy, por lo que estas variables dummy casi nunca se eligen como variables de división cerca de la raíz del árbol, incluso si fueran un buen predictor."
   ]
  },
  {
   "cell_type": "code",
   "execution_count": 78,
   "metadata": {},
   "outputs": [
    {
     "data": {
      "text/html": [
       "<div>\n",
       "<style scoped>\n",
       "    .dataframe tbody tr th:only-of-type {\n",
       "        vertical-align: middle;\n",
       "    }\n",
       "\n",
       "    .dataframe tbody tr th {\n",
       "        vertical-align: top;\n",
       "    }\n",
       "\n",
       "    .dataframe thead th {\n",
       "        text-align: right;\n",
       "    }\n",
       "</style>\n",
       "<table border=\"1\" class=\"dataframe\">\n",
       "  <thead>\n",
       "    <tr style=\"text-align: right;\">\n",
       "      <th></th>\n",
       "      <th>price</th>\n",
       "      <th>vehicletype</th>\n",
       "      <th>registrationyear</th>\n",
       "      <th>gearbox</th>\n",
       "      <th>power</th>\n",
       "      <th>model</th>\n",
       "      <th>mileage</th>\n",
       "      <th>fueltype</th>\n",
       "      <th>brand</th>\n",
       "      <th>notrepaired</th>\n",
       "    </tr>\n",
       "  </thead>\n",
       "  <tbody>\n",
       "    <tr>\n",
       "      <th>1</th>\n",
       "      <td>18300</td>\n",
       "      <td>coupe</td>\n",
       "      <td>2011</td>\n",
       "      <td>manual</td>\n",
       "      <td>190</td>\n",
       "      <td>Desconocido</td>\n",
       "      <td>125000</td>\n",
       "      <td>gasoline</td>\n",
       "      <td>audi</td>\n",
       "      <td>yes</td>\n",
       "    </tr>\n",
       "    <tr>\n",
       "      <th>2</th>\n",
       "      <td>9800</td>\n",
       "      <td>suv</td>\n",
       "      <td>2004</td>\n",
       "      <td>auto</td>\n",
       "      <td>163</td>\n",
       "      <td>grand</td>\n",
       "      <td>125000</td>\n",
       "      <td>gasoline</td>\n",
       "      <td>jeep</td>\n",
       "      <td>Desconocido</td>\n",
       "    </tr>\n",
       "    <tr>\n",
       "      <th>3</th>\n",
       "      <td>1500</td>\n",
       "      <td>small</td>\n",
       "      <td>2001</td>\n",
       "      <td>manual</td>\n",
       "      <td>75</td>\n",
       "      <td>golf</td>\n",
       "      <td>150000</td>\n",
       "      <td>petrol</td>\n",
       "      <td>volkswagen</td>\n",
       "      <td>no</td>\n",
       "    </tr>\n",
       "    <tr>\n",
       "      <th>4</th>\n",
       "      <td>3600</td>\n",
       "      <td>small</td>\n",
       "      <td>2008</td>\n",
       "      <td>manual</td>\n",
       "      <td>69</td>\n",
       "      <td>fabia</td>\n",
       "      <td>90000</td>\n",
       "      <td>gasoline</td>\n",
       "      <td>skoda</td>\n",
       "      <td>no</td>\n",
       "    </tr>\n",
       "    <tr>\n",
       "      <th>5</th>\n",
       "      <td>650</td>\n",
       "      <td>sedan</td>\n",
       "      <td>1995</td>\n",
       "      <td>manual</td>\n",
       "      <td>102</td>\n",
       "      <td>3er</td>\n",
       "      <td>150000</td>\n",
       "      <td>petrol</td>\n",
       "      <td>bmw</td>\n",
       "      <td>yes</td>\n",
       "    </tr>\n",
       "    <tr>\n",
       "      <th>...</th>\n",
       "      <td>...</td>\n",
       "      <td>...</td>\n",
       "      <td>...</td>\n",
       "      <td>...</td>\n",
       "      <td>...</td>\n",
       "      <td>...</td>\n",
       "      <td>...</td>\n",
       "      <td>...</td>\n",
       "      <td>...</td>\n",
       "      <td>...</td>\n",
       "    </tr>\n",
       "    <tr>\n",
       "      <th>354361</th>\n",
       "      <td>5250</td>\n",
       "      <td>Desconocido</td>\n",
       "      <td>2016</td>\n",
       "      <td>auto</td>\n",
       "      <td>150</td>\n",
       "      <td>159</td>\n",
       "      <td>150000</td>\n",
       "      <td>Desconocido</td>\n",
       "      <td>alfa_romeo</td>\n",
       "      <td>no</td>\n",
       "    </tr>\n",
       "    <tr>\n",
       "      <th>354362</th>\n",
       "      <td>3200</td>\n",
       "      <td>sedan</td>\n",
       "      <td>2004</td>\n",
       "      <td>manual</td>\n",
       "      <td>225</td>\n",
       "      <td>leon</td>\n",
       "      <td>150000</td>\n",
       "      <td>petrol</td>\n",
       "      <td>seat</td>\n",
       "      <td>yes</td>\n",
       "    </tr>\n",
       "    <tr>\n",
       "      <th>354366</th>\n",
       "      <td>1199</td>\n",
       "      <td>convertible</td>\n",
       "      <td>2000</td>\n",
       "      <td>auto</td>\n",
       "      <td>101</td>\n",
       "      <td>fortwo</td>\n",
       "      <td>125000</td>\n",
       "      <td>petrol</td>\n",
       "      <td>smart</td>\n",
       "      <td>no</td>\n",
       "    </tr>\n",
       "    <tr>\n",
       "      <th>354367</th>\n",
       "      <td>9200</td>\n",
       "      <td>bus</td>\n",
       "      <td>1996</td>\n",
       "      <td>manual</td>\n",
       "      <td>102</td>\n",
       "      <td>transporter</td>\n",
       "      <td>150000</td>\n",
       "      <td>gasoline</td>\n",
       "      <td>volkswagen</td>\n",
       "      <td>no</td>\n",
       "    </tr>\n",
       "    <tr>\n",
       "      <th>354368</th>\n",
       "      <td>3400</td>\n",
       "      <td>wagon</td>\n",
       "      <td>2002</td>\n",
       "      <td>manual</td>\n",
       "      <td>100</td>\n",
       "      <td>golf</td>\n",
       "      <td>150000</td>\n",
       "      <td>gasoline</td>\n",
       "      <td>volkswagen</td>\n",
       "      <td>Desconocido</td>\n",
       "    </tr>\n",
       "  </tbody>\n",
       "</table>\n",
       "<p>295994 rows × 10 columns</p>\n",
       "</div>"
      ],
      "text/plain": [
       "        price  vehicletype  registrationyear gearbox  power        model  \\\n",
       "1       18300        coupe              2011  manual    190  Desconocido   \n",
       "2        9800          suv              2004    auto    163        grand   \n",
       "3        1500        small              2001  manual     75         golf   \n",
       "4        3600        small              2008  manual     69        fabia   \n",
       "5         650        sedan              1995  manual    102          3er   \n",
       "...       ...          ...               ...     ...    ...          ...   \n",
       "354361   5250  Desconocido              2016    auto    150          159   \n",
       "354362   3200        sedan              2004  manual    225         leon   \n",
       "354366   1199  convertible              2000    auto    101       fortwo   \n",
       "354367   9200          bus              1996  manual    102  transporter   \n",
       "354368   3400        wagon              2002  manual    100         golf   \n",
       "\n",
       "        mileage     fueltype       brand  notrepaired  \n",
       "1        125000     gasoline        audi          yes  \n",
       "2        125000     gasoline        jeep  Desconocido  \n",
       "3        150000       petrol  volkswagen           no  \n",
       "4         90000     gasoline       skoda           no  \n",
       "5        150000       petrol         bmw          yes  \n",
       "...         ...          ...         ...          ...  \n",
       "354361   150000  Desconocido  alfa_romeo           no  \n",
       "354362   150000       petrol        seat          yes  \n",
       "354366   125000       petrol       smart           no  \n",
       "354367   150000     gasoline  volkswagen           no  \n",
       "354368   150000     gasoline  volkswagen  Desconocido  \n",
       "\n",
       "[295994 rows x 10 columns]"
      ]
     },
     "execution_count": 78,
     "metadata": {},
     "output_type": "execute_result"
    }
   ],
   "source": [
    "data"
   ]
  },
  {
   "cell_type": "code",
   "execution_count": 79,
   "metadata": {},
   "outputs": [],
   "source": [
    "encoder = OrdinalEncoder()\n",
    "data_ordinal = data.copy()\n",
    "data_ordinal[columnas_categoricas] = encoder.fit_transform(data[columnas_categoricas])"
   ]
  },
  {
   "cell_type": "code",
   "execution_count": 80,
   "metadata": {
    "scrolled": true
   },
   "outputs": [
    {
     "data": {
      "text/html": [
       "<div>\n",
       "<style scoped>\n",
       "    .dataframe tbody tr th:only-of-type {\n",
       "        vertical-align: middle;\n",
       "    }\n",
       "\n",
       "    .dataframe tbody tr th {\n",
       "        vertical-align: top;\n",
       "    }\n",
       "\n",
       "    .dataframe thead th {\n",
       "        text-align: right;\n",
       "    }\n",
       "</style>\n",
       "<table border=\"1\" class=\"dataframe\">\n",
       "  <thead>\n",
       "    <tr style=\"text-align: right;\">\n",
       "      <th></th>\n",
       "      <th>price</th>\n",
       "      <th>vehicletype</th>\n",
       "      <th>registrationyear</th>\n",
       "      <th>gearbox</th>\n",
       "      <th>power</th>\n",
       "      <th>model</th>\n",
       "      <th>mileage</th>\n",
       "      <th>fueltype</th>\n",
       "      <th>brand</th>\n",
       "      <th>notrepaired</th>\n",
       "    </tr>\n",
       "  </thead>\n",
       "  <tbody>\n",
       "    <tr>\n",
       "      <th>1</th>\n",
       "      <td>18300</td>\n",
       "      <td>3.0</td>\n",
       "      <td>2011</td>\n",
       "      <td>2.0</td>\n",
       "      <td>190</td>\n",
       "      <td>26.0</td>\n",
       "      <td>125000</td>\n",
       "      <td>3.0</td>\n",
       "      <td>1.0</td>\n",
       "      <td>2.0</td>\n",
       "    </tr>\n",
       "    <tr>\n",
       "      <th>2</th>\n",
       "      <td>9800</td>\n",
       "      <td>7.0</td>\n",
       "      <td>2004</td>\n",
       "      <td>1.0</td>\n",
       "      <td>163</td>\n",
       "      <td>118.0</td>\n",
       "      <td>125000</td>\n",
       "      <td>3.0</td>\n",
       "      <td>14.0</td>\n",
       "      <td>0.0</td>\n",
       "    </tr>\n",
       "    <tr>\n",
       "      <th>3</th>\n",
       "      <td>1500</td>\n",
       "      <td>6.0</td>\n",
       "      <td>2001</td>\n",
       "      <td>2.0</td>\n",
       "      <td>75</td>\n",
       "      <td>117.0</td>\n",
       "      <td>150000</td>\n",
       "      <td>7.0</td>\n",
       "      <td>38.0</td>\n",
       "      <td>1.0</td>\n",
       "    </tr>\n",
       "    <tr>\n",
       "      <th>4</th>\n",
       "      <td>3600</td>\n",
       "      <td>6.0</td>\n",
       "      <td>2008</td>\n",
       "      <td>2.0</td>\n",
       "      <td>69</td>\n",
       "      <td>102.0</td>\n",
       "      <td>90000</td>\n",
       "      <td>3.0</td>\n",
       "      <td>31.0</td>\n",
       "      <td>1.0</td>\n",
       "    </tr>\n",
       "    <tr>\n",
       "      <th>5</th>\n",
       "      <td>650</td>\n",
       "      <td>5.0</td>\n",
       "      <td>1995</td>\n",
       "      <td>2.0</td>\n",
       "      <td>102</td>\n",
       "      <td>11.0</td>\n",
       "      <td>150000</td>\n",
       "      <td>7.0</td>\n",
       "      <td>2.0</td>\n",
       "      <td>2.0</td>\n",
       "    </tr>\n",
       "    <tr>\n",
       "      <th>...</th>\n",
       "      <td>...</td>\n",
       "      <td>...</td>\n",
       "      <td>...</td>\n",
       "      <td>...</td>\n",
       "      <td>...</td>\n",
       "      <td>...</td>\n",
       "      <td>...</td>\n",
       "      <td>...</td>\n",
       "      <td>...</td>\n",
       "      <td>...</td>\n",
       "    </tr>\n",
       "    <tr>\n",
       "      <th>354361</th>\n",
       "      <td>5250</td>\n",
       "      <td>0.0</td>\n",
       "      <td>2016</td>\n",
       "      <td>1.0</td>\n",
       "      <td>150</td>\n",
       "      <td>4.0</td>\n",
       "      <td>150000</td>\n",
       "      <td>0.0</td>\n",
       "      <td>0.0</td>\n",
       "      <td>1.0</td>\n",
       "    </tr>\n",
       "    <tr>\n",
       "      <th>354362</th>\n",
       "      <td>3200</td>\n",
       "      <td>5.0</td>\n",
       "      <td>2004</td>\n",
       "      <td>2.0</td>\n",
       "      <td>225</td>\n",
       "      <td>141.0</td>\n",
       "      <td>150000</td>\n",
       "      <td>7.0</td>\n",
       "      <td>30.0</td>\n",
       "      <td>2.0</td>\n",
       "    </tr>\n",
       "    <tr>\n",
       "      <th>354366</th>\n",
       "      <td>1199</td>\n",
       "      <td>2.0</td>\n",
       "      <td>2000</td>\n",
       "      <td>1.0</td>\n",
       "      <td>101</td>\n",
       "      <td>107.0</td>\n",
       "      <td>125000</td>\n",
       "      <td>7.0</td>\n",
       "      <td>32.0</td>\n",
       "      <td>1.0</td>\n",
       "    </tr>\n",
       "    <tr>\n",
       "      <th>354367</th>\n",
       "      <td>9200</td>\n",
       "      <td>1.0</td>\n",
       "      <td>1996</td>\n",
       "      <td>2.0</td>\n",
       "      <td>102</td>\n",
       "      <td>223.0</td>\n",
       "      <td>150000</td>\n",
       "      <td>3.0</td>\n",
       "      <td>38.0</td>\n",
       "      <td>1.0</td>\n",
       "    </tr>\n",
       "    <tr>\n",
       "      <th>354368</th>\n",
       "      <td>3400</td>\n",
       "      <td>8.0</td>\n",
       "      <td>2002</td>\n",
       "      <td>2.0</td>\n",
       "      <td>100</td>\n",
       "      <td>117.0</td>\n",
       "      <td>150000</td>\n",
       "      <td>3.0</td>\n",
       "      <td>38.0</td>\n",
       "      <td>0.0</td>\n",
       "    </tr>\n",
       "  </tbody>\n",
       "</table>\n",
       "<p>295994 rows × 10 columns</p>\n",
       "</div>"
      ],
      "text/plain": [
       "        price  vehicletype  registrationyear  gearbox  power  model  mileage  \\\n",
       "1       18300          3.0              2011      2.0    190   26.0   125000   \n",
       "2        9800          7.0              2004      1.0    163  118.0   125000   \n",
       "3        1500          6.0              2001      2.0     75  117.0   150000   \n",
       "4        3600          6.0              2008      2.0     69  102.0    90000   \n",
       "5         650          5.0              1995      2.0    102   11.0   150000   \n",
       "...       ...          ...               ...      ...    ...    ...      ...   \n",
       "354361   5250          0.0              2016      1.0    150    4.0   150000   \n",
       "354362   3200          5.0              2004      2.0    225  141.0   150000   \n",
       "354366   1199          2.0              2000      1.0    101  107.0   125000   \n",
       "354367   9200          1.0              1996      2.0    102  223.0   150000   \n",
       "354368   3400          8.0              2002      2.0    100  117.0   150000   \n",
       "\n",
       "        fueltype  brand  notrepaired  \n",
       "1            3.0    1.0          2.0  \n",
       "2            3.0   14.0          0.0  \n",
       "3            7.0   38.0          1.0  \n",
       "4            3.0   31.0          1.0  \n",
       "5            7.0    2.0          2.0  \n",
       "...          ...    ...          ...  \n",
       "354361       0.0    0.0          1.0  \n",
       "354362       7.0   30.0          2.0  \n",
       "354366       7.0   32.0          1.0  \n",
       "354367       3.0   38.0          1.0  \n",
       "354368       3.0   38.0          0.0  \n",
       "\n",
       "[295994 rows x 10 columns]"
      ]
     },
     "execution_count": 80,
     "metadata": {},
     "output_type": "execute_result"
    }
   ],
   "source": [
    "data_ordinal"
   ]
  },
  {
   "cell_type": "markdown",
   "metadata": {},
   "source": [
    "Ahora separamos el objetivo. Separamos los datos en entranamiento y validacion: 70:30."
   ]
  },
  {
   "cell_type": "code",
   "execution_count": 81,
   "metadata": {},
   "outputs": [],
   "source": [
    "features = data_ordinal.drop('price',axis = 1)\n",
    "target = data_ordinal['price']\n",
    "features_train, features_valid, target_train,target_valid = train_test_split(features,target,test_size = 0.30 , random_state = 54321)"
   ]
  },
  {
   "cell_type": "markdown",
   "metadata": {},
   "source": [
    "**Atencion** : La siguiente celda demanda bastante tiempo, por lo que se recomienda omitirla ya que la siguiente a esta contiene la mejor seleccion de hiperparametros.Para fines explicativos realizamos la siguiente iteracion para escoger los mejores hiperparametros para el bosque aleatorio de regresion."
   ]
  },
  {
   "cell_type": "code",
   "execution_count": 82,
   "metadata": {},
   "outputs": [
    {
     "name": "stdout",
     "output_type": "stream",
     "text": [
      "Mejor profundidad: 19 con RMSE: 1514.5111116435596\n",
      "CPU times: user 8min 58s, sys: 2.16 s, total: 9min\n",
      "Wall time: 9min\n"
     ]
    }
   ],
   "source": [
    "%%time\n",
    "best_error = float('inf')  # Inicializa con un valor de error muy alto\n",
    "best_depth = None  # Inicializa para llevar un seguimiento de la mejor profundidad\n",
    "\n",
    "for depth in range(10, 25): \n",
    "    model = RandomForestRegressor(n_estimators=100, max_depth=depth, random_state=54321)  \n",
    "    model.fit(features_train, target_train)\n",
    "    predictions = model.predict(features_valid)\n",
    "    error = mean_squared_error(target_valid, predictions) ** 0.5  # Calcular RMSE\n",
    "    if error < best_error: \n",
    "        best_depth = depth\n",
    "        best_error = error\n",
    "\n",
    "print(f\"Mejor profundidad: {best_depth} con RMSE: {best_error}\")"
   ]
  },
  {
   "cell_type": "markdown",
   "metadata": {},
   "source": [
    "Es notorio que para entrenar al modelo y escoger los mejores hiperparametros demanda bastante tiempo esto puede debersa a la cantidad de datos que tenemos."
   ]
  },
  {
   "cell_type": "markdown",
   "metadata": {},
   "source": [
    "**ANALISIS DEL MEJOR MODELO DE BOSQUE ALEATORIO DE REGRESION (MEJORES HIPERPARAMETROS)** "
   ]
  },
  {
   "cell_type": "code",
   "execution_count": 83,
   "metadata": {},
   "outputs": [
    {
     "name": "stdout",
     "output_type": "stream",
     "text": [
      "CPU times: user 37.5 s, sys: 203 ms, total: 37.7 s\n",
      "Wall time: 37.7 s\n"
     ]
    },
    {
     "data": {
      "text/html": [
       "<style>#sk-container-id-2 {color: black;background-color: white;}#sk-container-id-2 pre{padding: 0;}#sk-container-id-2 div.sk-toggleable {background-color: white;}#sk-container-id-2 label.sk-toggleable__label {cursor: pointer;display: block;width: 100%;margin-bottom: 0;padding: 0.3em;box-sizing: border-box;text-align: center;}#sk-container-id-2 label.sk-toggleable__label-arrow:before {content: \"▸\";float: left;margin-right: 0.25em;color: #696969;}#sk-container-id-2 label.sk-toggleable__label-arrow:hover:before {color: black;}#sk-container-id-2 div.sk-estimator:hover label.sk-toggleable__label-arrow:before {color: black;}#sk-container-id-2 div.sk-toggleable__content {max-height: 0;max-width: 0;overflow: hidden;text-align: left;background-color: #f0f8ff;}#sk-container-id-2 div.sk-toggleable__content pre {margin: 0.2em;color: black;border-radius: 0.25em;background-color: #f0f8ff;}#sk-container-id-2 input.sk-toggleable__control:checked~div.sk-toggleable__content {max-height: 200px;max-width: 100%;overflow: auto;}#sk-container-id-2 input.sk-toggleable__control:checked~label.sk-toggleable__label-arrow:before {content: \"▾\";}#sk-container-id-2 div.sk-estimator input.sk-toggleable__control:checked~label.sk-toggleable__label {background-color: #d4ebff;}#sk-container-id-2 div.sk-label input.sk-toggleable__control:checked~label.sk-toggleable__label {background-color: #d4ebff;}#sk-container-id-2 input.sk-hidden--visually {border: 0;clip: rect(1px 1px 1px 1px);clip: rect(1px, 1px, 1px, 1px);height: 1px;margin: -1px;overflow: hidden;padding: 0;position: absolute;width: 1px;}#sk-container-id-2 div.sk-estimator {font-family: monospace;background-color: #f0f8ff;border: 1px dotted black;border-radius: 0.25em;box-sizing: border-box;margin-bottom: 0.5em;}#sk-container-id-2 div.sk-estimator:hover {background-color: #d4ebff;}#sk-container-id-2 div.sk-parallel-item::after {content: \"\";width: 100%;border-bottom: 1px solid gray;flex-grow: 1;}#sk-container-id-2 div.sk-label:hover label.sk-toggleable__label {background-color: #d4ebff;}#sk-container-id-2 div.sk-serial::before {content: \"\";position: absolute;border-left: 1px solid gray;box-sizing: border-box;top: 0;bottom: 0;left: 50%;z-index: 0;}#sk-container-id-2 div.sk-serial {display: flex;flex-direction: column;align-items: center;background-color: white;padding-right: 0.2em;padding-left: 0.2em;position: relative;}#sk-container-id-2 div.sk-item {position: relative;z-index: 1;}#sk-container-id-2 div.sk-parallel {display: flex;align-items: stretch;justify-content: center;background-color: white;position: relative;}#sk-container-id-2 div.sk-item::before, #sk-container-id-2 div.sk-parallel-item::before {content: \"\";position: absolute;border-left: 1px solid gray;box-sizing: border-box;top: 0;bottom: 0;left: 50%;z-index: -1;}#sk-container-id-2 div.sk-parallel-item {display: flex;flex-direction: column;z-index: 1;position: relative;background-color: white;}#sk-container-id-2 div.sk-parallel-item:first-child::after {align-self: flex-end;width: 50%;}#sk-container-id-2 div.sk-parallel-item:last-child::after {align-self: flex-start;width: 50%;}#sk-container-id-2 div.sk-parallel-item:only-child::after {width: 0;}#sk-container-id-2 div.sk-dashed-wrapped {border: 1px dashed gray;margin: 0 0.4em 0.5em 0.4em;box-sizing: border-box;padding-bottom: 0.4em;background-color: white;}#sk-container-id-2 div.sk-label label {font-family: monospace;font-weight: bold;display: inline-block;line-height: 1.2em;}#sk-container-id-2 div.sk-label-container {text-align: center;}#sk-container-id-2 div.sk-container {/* jupyter's `normalize.less` sets `[hidden] { display: none; }` but bootstrap.min.css set `[hidden] { display: none !important; }` so we also need the `!important` here to be able to override the default hidden behavior on the sphinx rendered scikit-learn.org. See: https://github.com/scikit-learn/scikit-learn/issues/21755 */display: inline-block !important;position: relative;}#sk-container-id-2 div.sk-text-repr-fallback {display: none;}</style><div id=\"sk-container-id-2\" class=\"sk-top-container\"><div class=\"sk-text-repr-fallback\"><pre>RandomForestRegressor(max_depth=19, random_state=54321)</pre><b>In a Jupyter environment, please rerun this cell to show the HTML representation or trust the notebook. <br />On GitHub, the HTML representation is unable to render, please try loading this page with nbviewer.org.</b></div><div class=\"sk-container\" hidden><div class=\"sk-item\"><div class=\"sk-estimator sk-toggleable\"><input class=\"sk-toggleable__control sk-hidden--visually\" id=\"sk-estimator-id-2\" type=\"checkbox\" checked><label for=\"sk-estimator-id-2\" class=\"sk-toggleable__label sk-toggleable__label-arrow\">RandomForestRegressor</label><div class=\"sk-toggleable__content\"><pre>RandomForestRegressor(max_depth=19, random_state=54321)</pre></div></div></div></div></div>"
      ],
      "text/plain": [
       "RandomForestRegressor(max_depth=19, random_state=54321)"
      ]
     },
     "execution_count": 83,
     "metadata": {},
     "output_type": "execute_result"
    }
   ],
   "source": [
    "%%time\n",
    "# Ahora solo seleccionamos el mejor modelo con los mejores hiperparametros. \n",
    "model = RandomForestRegressor(n_estimators=100, max_depth=19, random_state=54321)  \n",
    "model.fit(features_train, target_train)"
   ]
  },
  {
   "cell_type": "markdown",
   "metadata": {},
   "source": [
    "33 segundos para el entrenamiento del mejor modelo. "
   ]
  },
  {
   "cell_type": "code",
   "execution_count": 84,
   "metadata": {},
   "outputs": [
    {
     "name": "stdout",
     "output_type": "stream",
     "text": [
      "CPU times: user 2.14 s, sys: 3.99 ms, total: 2.14 s\n",
      "Wall time: 2.15 s\n"
     ]
    }
   ],
   "source": [
    "%%time\n",
    "predictions = model.predict(features_valid)  # prediccion para los datos de validacion "
   ]
  },
  {
   "cell_type": "markdown",
   "metadata": {},
   "source": [
    "2 segundos para los datos de validacion, como observacion demora más que la regresión"
   ]
  },
  {
   "cell_type": "code",
   "execution_count": 85,
   "metadata": {},
   "outputs": [
    {
     "name": "stdout",
     "output_type": "stream",
     "text": [
      "CPU times: user 5.38 s, sys: 2 ms, total: 5.38 s\n",
      "Wall time: 5.38 s\n"
     ]
    }
   ],
   "source": [
    "%%time\n",
    "predictions_train = model.predict(features_train)"
   ]
  },
  {
   "cell_type": "markdown",
   "metadata": {},
   "source": [
    "4 segundos para los datos de entrenamiento."
   ]
  },
  {
   "cell_type": "code",
   "execution_count": 86,
   "metadata": {},
   "outputs": [
    {
     "name": "stdout",
     "output_type": "stream",
     "text": [
      "RMSE con el los datos de entrenamiento:  1003.3036829189798\n",
      "RMSE con la validacion:  1514.5111116435596\n"
     ]
    }
   ],
   "source": [
    "error_valid = mean_squared_error(target_valid, predictions) ** 0.5\n",
    "error_train = mean_squared_error(target_train, predictions_train) ** 0.5\n",
    "print(\"RMSE con el los datos de entrenamiento: \", error_train)\n",
    "print(\"RMSE con la validacion: \", error_valid)"
   ]
  },
  {
   "cell_type": "markdown",
   "metadata": {},
   "source": [
    "El mejor modelo tiene un error de 1,515 euros. Es decir, nuestro modelo presenta un margen de error de ±1,515 euros al predecir el valor de nuestro coche en el mercado. Aunque este margen sigue siendo algo elevado, es bastante aceptable. No es tan rápido como una regresión, pero obtenemos mejores resultados en términos de menor error de predicción. Recordemos que un menor error en las predicciones hará que nuestros usuarios estén más satisfechos, lo que podría atraer a nuevos clientes."
   ]
  },
  {
   "cell_type": "markdown",
   "metadata": {},
   "source": [
    "### Implementacion de gradient Boosting con LightGBM"
   ]
  },
  {
   "cell_type": "markdown",
   "metadata": {},
   "source": [
    "Antes de eso deseo esclarecer algunos de los hiperparametros que encontramos en LightGBM. "
   ]
  },
  {
   "cell_type": "markdown",
   "metadata": {},
   "source": [
    " **Resumen visual de los hiperparámetros comunes**\n",
    "\n",
    "| Hiperparámetro          | Rol principal                         | Valores típicos   |\n",
    "|-------------------------|---------------------------------------|-------------------|\n",
    "| `objective`             | Define la tarea                      | `'regression'`, `'binary'`, `'multiclass'` |\n",
    "| `learning_rate`         | Velocidad de aprendizaje             | 0.01 - 0.1        |\n",
    "| `n_estimators`          | Número de árboles                   | 50 - 1000         |\n",
    "| `num_leaves`            | Complejidad de los árboles           | 15 - 64           |\n",
    "| `max_depth`             | Profundidad máxima de los árboles    | 3 - 16 (o `-1`)   |\n",
    "| `feature_fraction`      | Subconjunto de características       | 0.6 - 1.0         |\n",
    "| `bagging_fraction`      | Subconjunto de datos                 | 0.6 - 1.0         |\n",
    "| `bagging_freq`          | Frecuencia de bagging                | 1 - 10            |\n",
    "| `lambda_l1`, `lambda_l2`| Regularización                      | 0.0 - 10.0        |\n",
    "| `min_data_in_leaf`      | Mínimos datos por hoja               | 10 - 100          |"
   ]
  },
  {
   "cell_type": "code",
   "execution_count": 87,
   "metadata": {},
   "outputs": [
    {
     "data": {
      "text/html": [
       "<div>\n",
       "<style scoped>\n",
       "    .dataframe tbody tr th:only-of-type {\n",
       "        vertical-align: middle;\n",
       "    }\n",
       "\n",
       "    .dataframe tbody tr th {\n",
       "        vertical-align: top;\n",
       "    }\n",
       "\n",
       "    .dataframe thead th {\n",
       "        text-align: right;\n",
       "    }\n",
       "</style>\n",
       "<table border=\"1\" class=\"dataframe\">\n",
       "  <thead>\n",
       "    <tr style=\"text-align: right;\">\n",
       "      <th></th>\n",
       "      <th>price</th>\n",
       "      <th>vehicletype</th>\n",
       "      <th>registrationyear</th>\n",
       "      <th>gearbox</th>\n",
       "      <th>power</th>\n",
       "      <th>model</th>\n",
       "      <th>mileage</th>\n",
       "      <th>fueltype</th>\n",
       "      <th>brand</th>\n",
       "      <th>notrepaired</th>\n",
       "    </tr>\n",
       "  </thead>\n",
       "  <tbody>\n",
       "    <tr>\n",
       "      <th>1</th>\n",
       "      <td>18300</td>\n",
       "      <td>coupe</td>\n",
       "      <td>2011</td>\n",
       "      <td>manual</td>\n",
       "      <td>190</td>\n",
       "      <td>Desconocido</td>\n",
       "      <td>125000</td>\n",
       "      <td>gasoline</td>\n",
       "      <td>audi</td>\n",
       "      <td>yes</td>\n",
       "    </tr>\n",
       "    <tr>\n",
       "      <th>2</th>\n",
       "      <td>9800</td>\n",
       "      <td>suv</td>\n",
       "      <td>2004</td>\n",
       "      <td>auto</td>\n",
       "      <td>163</td>\n",
       "      <td>grand</td>\n",
       "      <td>125000</td>\n",
       "      <td>gasoline</td>\n",
       "      <td>jeep</td>\n",
       "      <td>Desconocido</td>\n",
       "    </tr>\n",
       "    <tr>\n",
       "      <th>3</th>\n",
       "      <td>1500</td>\n",
       "      <td>small</td>\n",
       "      <td>2001</td>\n",
       "      <td>manual</td>\n",
       "      <td>75</td>\n",
       "      <td>golf</td>\n",
       "      <td>150000</td>\n",
       "      <td>petrol</td>\n",
       "      <td>volkswagen</td>\n",
       "      <td>no</td>\n",
       "    </tr>\n",
       "    <tr>\n",
       "      <th>4</th>\n",
       "      <td>3600</td>\n",
       "      <td>small</td>\n",
       "      <td>2008</td>\n",
       "      <td>manual</td>\n",
       "      <td>69</td>\n",
       "      <td>fabia</td>\n",
       "      <td>90000</td>\n",
       "      <td>gasoline</td>\n",
       "      <td>skoda</td>\n",
       "      <td>no</td>\n",
       "    </tr>\n",
       "    <tr>\n",
       "      <th>5</th>\n",
       "      <td>650</td>\n",
       "      <td>sedan</td>\n",
       "      <td>1995</td>\n",
       "      <td>manual</td>\n",
       "      <td>102</td>\n",
       "      <td>3er</td>\n",
       "      <td>150000</td>\n",
       "      <td>petrol</td>\n",
       "      <td>bmw</td>\n",
       "      <td>yes</td>\n",
       "    </tr>\n",
       "    <tr>\n",
       "      <th>...</th>\n",
       "      <td>...</td>\n",
       "      <td>...</td>\n",
       "      <td>...</td>\n",
       "      <td>...</td>\n",
       "      <td>...</td>\n",
       "      <td>...</td>\n",
       "      <td>...</td>\n",
       "      <td>...</td>\n",
       "      <td>...</td>\n",
       "      <td>...</td>\n",
       "    </tr>\n",
       "    <tr>\n",
       "      <th>354361</th>\n",
       "      <td>5250</td>\n",
       "      <td>Desconocido</td>\n",
       "      <td>2016</td>\n",
       "      <td>auto</td>\n",
       "      <td>150</td>\n",
       "      <td>159</td>\n",
       "      <td>150000</td>\n",
       "      <td>Desconocido</td>\n",
       "      <td>alfa_romeo</td>\n",
       "      <td>no</td>\n",
       "    </tr>\n",
       "    <tr>\n",
       "      <th>354362</th>\n",
       "      <td>3200</td>\n",
       "      <td>sedan</td>\n",
       "      <td>2004</td>\n",
       "      <td>manual</td>\n",
       "      <td>225</td>\n",
       "      <td>leon</td>\n",
       "      <td>150000</td>\n",
       "      <td>petrol</td>\n",
       "      <td>seat</td>\n",
       "      <td>yes</td>\n",
       "    </tr>\n",
       "    <tr>\n",
       "      <th>354366</th>\n",
       "      <td>1199</td>\n",
       "      <td>convertible</td>\n",
       "      <td>2000</td>\n",
       "      <td>auto</td>\n",
       "      <td>101</td>\n",
       "      <td>fortwo</td>\n",
       "      <td>125000</td>\n",
       "      <td>petrol</td>\n",
       "      <td>smart</td>\n",
       "      <td>no</td>\n",
       "    </tr>\n",
       "    <tr>\n",
       "      <th>354367</th>\n",
       "      <td>9200</td>\n",
       "      <td>bus</td>\n",
       "      <td>1996</td>\n",
       "      <td>manual</td>\n",
       "      <td>102</td>\n",
       "      <td>transporter</td>\n",
       "      <td>150000</td>\n",
       "      <td>gasoline</td>\n",
       "      <td>volkswagen</td>\n",
       "      <td>no</td>\n",
       "    </tr>\n",
       "    <tr>\n",
       "      <th>354368</th>\n",
       "      <td>3400</td>\n",
       "      <td>wagon</td>\n",
       "      <td>2002</td>\n",
       "      <td>manual</td>\n",
       "      <td>100</td>\n",
       "      <td>golf</td>\n",
       "      <td>150000</td>\n",
       "      <td>gasoline</td>\n",
       "      <td>volkswagen</td>\n",
       "      <td>Desconocido</td>\n",
       "    </tr>\n",
       "  </tbody>\n",
       "</table>\n",
       "<p>295994 rows × 10 columns</p>\n",
       "</div>"
      ],
      "text/plain": [
       "        price  vehicletype  registrationyear gearbox  power        model  \\\n",
       "1       18300        coupe              2011  manual    190  Desconocido   \n",
       "2        9800          suv              2004    auto    163        grand   \n",
       "3        1500        small              2001  manual     75         golf   \n",
       "4        3600        small              2008  manual     69        fabia   \n",
       "5         650        sedan              1995  manual    102          3er   \n",
       "...       ...          ...               ...     ...    ...          ...   \n",
       "354361   5250  Desconocido              2016    auto    150          159   \n",
       "354362   3200        sedan              2004  manual    225         leon   \n",
       "354366   1199  convertible              2000    auto    101       fortwo   \n",
       "354367   9200          bus              1996  manual    102  transporter   \n",
       "354368   3400        wagon              2002  manual    100         golf   \n",
       "\n",
       "        mileage     fueltype       brand  notrepaired  \n",
       "1        125000     gasoline        audi          yes  \n",
       "2        125000     gasoline        jeep  Desconocido  \n",
       "3        150000       petrol  volkswagen           no  \n",
       "4         90000     gasoline       skoda           no  \n",
       "5        150000       petrol         bmw          yes  \n",
       "...         ...          ...         ...          ...  \n",
       "354361   150000  Desconocido  alfa_romeo           no  \n",
       "354362   150000       petrol        seat          yes  \n",
       "354366   125000       petrol       smart           no  \n",
       "354367   150000     gasoline  volkswagen           no  \n",
       "354368   150000     gasoline  volkswagen  Desconocido  \n",
       "\n",
       "[295994 rows x 10 columns]"
      ]
     },
     "execution_count": 87,
     "metadata": {},
     "output_type": "execute_result"
    }
   ],
   "source": [
    "data"
   ]
  },
  {
   "cell_type": "markdown",
   "metadata": {},
   "source": [
    "Para los siguientes pasos, es importante aclarar que LightGBM admite datos categóricos, pero estos deben ser explícitamente del tipo de dato 'category' en pandas. Por lo tanto, aquellos que actualmente sean de tipo 'object' serán convertidos a 'category'. Además, es relevante mencionar que no realizaremos ningún tipo de codificación, como One-Hot Encoding (OHE) o codificación ordinal por lo que se dijo."
   ]
  },
  {
   "cell_type": "code",
   "execution_count": 88,
   "metadata": {},
   "outputs": [],
   "source": [
    "for col in columnas_categoricas:\n",
    "    data[col] = data[col].astype('category')"
   ]
  },
  {
   "cell_type": "code",
   "execution_count": 89,
   "metadata": {},
   "outputs": [
    {
     "name": "stdout",
     "output_type": "stream",
     "text": [
      "<class 'pandas.core.frame.DataFrame'>\n",
      "Int64Index: 295994 entries, 1 to 354368\n",
      "Data columns (total 10 columns):\n",
      " #   Column            Non-Null Count   Dtype   \n",
      "---  ------            --------------   -----   \n",
      " 0   price             295994 non-null  int64   \n",
      " 1   vehicletype       295994 non-null  category\n",
      " 2   registrationyear  295994 non-null  int64   \n",
      " 3   gearbox           295994 non-null  category\n",
      " 4   power             295994 non-null  int64   \n",
      " 5   model             295994 non-null  category\n",
      " 6   mileage           295994 non-null  int64   \n",
      " 7   fueltype          295994 non-null  category\n",
      " 8   brand             295994 non-null  category\n",
      " 9   notrepaired       295994 non-null  category\n",
      "dtypes: category(6), int64(4)\n",
      "memory usage: 13.3 MB\n"
     ]
    }
   ],
   "source": [
    "data.info()"
   ]
  },
  {
   "cell_type": "code",
   "execution_count": 90,
   "metadata": {},
   "outputs": [],
   "source": [
    "features = data.drop('price',axis = 1)\n",
    "target = data['price']"
   ]
  },
  {
   "cell_type": "markdown",
   "metadata": {},
   "source": [
    "Dividiremos los datos en tres conjuntos importantes: entrenamiento, validación y prueba, siguiendo una proporción de 70:20:10.\n",
    "\n",
    "Es relevante destacar que hemos seleccionado el 70% de los datos para el entrenamiento. El tiempo que tome entrenar el modelo será comparado con el del modelo anterior, ya que ambos utilizarán conjuntos de entrenamiento del mismo tamaño, lo que permitirá realizar una comparación justa."
   ]
  },
  {
   "cell_type": "code",
   "execution_count": 91,
   "metadata": {},
   "outputs": [],
   "source": [
    "# División inicial: 70% entrenamiento, 30% temporal (validación + prueba)\n",
    "features_train, X_temp, target_train, y_temp = train_test_split(features, target, test_size=0.3, random_state=42)\n",
    "\n",
    "# División secundaria: 20% validación, 10% prueba de los datos originales\n",
    "features_val, features_test, target_val, target_test = train_test_split(X_temp, y_temp, test_size=0.33, random_state=42)  # 0.33 * 30% ≈ 10%\n"
   ]
  },
  {
   "cell_type": "code",
   "execution_count": 97,
   "metadata": {},
   "outputs": [
    {
     "name": "stdout",
     "output_type": "stream",
     "text": [
      "[LightGBM] [Info] Auto-choosing row-wise multi-threading, the overhead of testing was 0.004503 seconds.\n",
      "You can set `force_row_wise=true` to remove the overhead.\n",
      "And if memory is not enough, you can set `force_col_wise=true`.\n",
      "[LightGBM] [Info] Total Bins 605\n",
      "[LightGBM] [Info] Number of data points in the train set: 207195, number of used features: 9\n",
      "[LightGBM] [Info] Start training from score 4856.870639\n",
      "[LightGBM] [Warning] No further splits with positive gain, best gain: -inf\n",
      "[LightGBM] [Warning] No further splits with positive gain, best gain: -inf\n",
      "[LightGBM] [Warning] No further splits with positive gain, best gain: -inf\n",
      "[LightGBM] [Warning] No further splits with positive gain, best gain: -inf\n",
      "[LightGBM] [Warning] No further splits with positive gain, best gain: -inf\n",
      "[LightGBM] [Warning] No further splits with positive gain, best gain: -inf\n",
      "[LightGBM] [Warning] No further splits with positive gain, best gain: -inf\n",
      "[LightGBM] [Warning] No further splits with positive gain, best gain: -inf\n",
      "[LightGBM] [Warning] No further splits with positive gain, best gain: -inf\n",
      "[LightGBM] [Warning] No further splits with positive gain, best gain: -inf\n",
      "[LightGBM] [Warning] No further splits with positive gain, best gain: -inf\n",
      "[LightGBM] [Warning] No further splits with positive gain, best gain: -inf\n",
      "[LightGBM] [Warning] No further splits with positive gain, best gain: -inf\n",
      "[LightGBM] [Warning] No further splits with positive gain, best gain: -inf\n",
      "[LightGBM] [Warning] No further splits with positive gain, best gain: -inf\n",
      "[LightGBM] [Warning] No further splits with positive gain, best gain: -inf\n",
      "[LightGBM] [Warning] No further splits with positive gain, best gain: -inf\n",
      "[LightGBM] [Warning] No further splits with positive gain, best gain: -inf\n",
      "[LightGBM] [Warning] No further splits with positive gain, best gain: -inf\n",
      "[LightGBM] [Warning] No further splits with positive gain, best gain: -inf\n",
      "[LightGBM] [Warning] No further splits with positive gain, best gain: -inf\n",
      "[LightGBM] [Warning] No further splits with positive gain, best gain: -inf\n",
      "[LightGBM] [Warning] No further splits with positive gain, best gain: -inf\n",
      "[LightGBM] [Warning] No further splits with positive gain, best gain: -inf\n",
      "[LightGBM] [Warning] No further splits with positive gain, best gain: -inf\n",
      "[LightGBM] [Warning] No further splits with positive gain, best gain: -inf\n",
      "[LightGBM] [Warning] No further splits with positive gain, best gain: -inf\n",
      "[LightGBM] [Warning] No further splits with positive gain, best gain: -inf\n",
      "[LightGBM] [Warning] No further splits with positive gain, best gain: -inf\n",
      "[LightGBM] [Warning] No further splits with positive gain, best gain: -inf\n",
      "[LightGBM] [Warning] No further splits with positive gain, best gain: -inf\n",
      "[LightGBM] [Warning] No further splits with positive gain, best gain: -inf\n",
      "[LightGBM] [Warning] No further splits with positive gain, best gain: -inf\n",
      "[LightGBM] [Warning] No further splits with positive gain, best gain: -inf\n",
      "[LightGBM] [Warning] No further splits with positive gain, best gain: -inf\n",
      "[LightGBM] [Warning] No further splits with positive gain, best gain: -inf\n",
      "[LightGBM] [Warning] No further splits with positive gain, best gain: -inf\n",
      "[LightGBM] [Warning] No further splits with positive gain, best gain: -inf\n",
      "[LightGBM] [Warning] No further splits with positive gain, best gain: -inf\n",
      "[LightGBM] [Warning] No further splits with positive gain, best gain: -inf\n",
      "[LightGBM] [Warning] No further splits with positive gain, best gain: -inf\n",
      "[LightGBM] [Warning] No further splits with positive gain, best gain: -inf\n",
      "[LightGBM] [Warning] No further splits with positive gain, best gain: -inf\n",
      "[LightGBM] [Warning] No further splits with positive gain, best gain: -inf\n",
      "[LightGBM] [Warning] No further splits with positive gain, best gain: -inf\n",
      "[LightGBM] [Warning] No further splits with positive gain, best gain: -inf\n",
      "[LightGBM] [Warning] No further splits with positive gain, best gain: -inf\n",
      "[LightGBM] [Warning] No further splits with positive gain, best gain: -inf\n",
      "[LightGBM] [Warning] No further splits with positive gain, best gain: -inf\n",
      "[LightGBM] [Warning] No further splits with positive gain, best gain: -inf\n",
      "[LightGBM] [Warning] No further splits with positive gain, best gain: -inf\n",
      "[LightGBM] [Warning] No further splits with positive gain, best gain: -inf\n",
      "[LightGBM] [Warning] No further splits with positive gain, best gain: -inf\n",
      "[LightGBM] [Warning] No further splits with positive gain, best gain: -inf\n",
      "[LightGBM] [Warning] No further splits with positive gain, best gain: -inf\n",
      "[LightGBM] [Warning] No further splits with positive gain, best gain: -inf\n",
      "[LightGBM] [Warning] No further splits with positive gain, best gain: -inf\n",
      "[LightGBM] [Warning] No further splits with positive gain, best gain: -inf\n",
      "[LightGBM] [Warning] No further splits with positive gain, best gain: -inf\n",
      "[LightGBM] [Warning] No further splits with positive gain, best gain: -inf\n",
      "[LightGBM] [Warning] No further splits with positive gain, best gain: -inf\n",
      "[LightGBM] [Warning] No further splits with positive gain, best gain: -inf\n",
      "[LightGBM] [Warning] No further splits with positive gain, best gain: -inf\n",
      "[LightGBM] [Warning] No further splits with positive gain, best gain: -inf\n",
      "[LightGBM] [Warning] No further splits with positive gain, best gain: -inf\n",
      "[LightGBM] [Warning] No further splits with positive gain, best gain: -inf\n",
      "[LightGBM] [Warning] No further splits with positive gain, best gain: -inf\n",
      "[LightGBM] [Warning] No further splits with positive gain, best gain: -inf\n",
      "[LightGBM] [Warning] No further splits with positive gain, best gain: -inf\n",
      "[LightGBM] [Warning] No further splits with positive gain, best gain: -inf\n",
      "[LightGBM] [Warning] No further splits with positive gain, best gain: -inf\n",
      "[LightGBM] [Warning] No further splits with positive gain, best gain: -inf\n",
      "[LightGBM] [Warning] No further splits with positive gain, best gain: -inf\n",
      "[LightGBM] [Warning] No further splits with positive gain, best gain: -inf\n",
      "[LightGBM] [Warning] No further splits with positive gain, best gain: -inf\n",
      "[LightGBM] [Warning] No further splits with positive gain, best gain: -inf\n",
      "[LightGBM] [Warning] No further splits with positive gain, best gain: -inf\n",
      "[LightGBM] [Warning] No further splits with positive gain, best gain: -inf\n",
      "[LightGBM] [Warning] No further splits with positive gain, best gain: -inf\n",
      "[LightGBM] [Warning] No further splits with positive gain, best gain: -inf\n",
      "[LightGBM] [Warning] No further splits with positive gain, best gain: -inf\n",
      "[LightGBM] [Warning] No further splits with positive gain, best gain: -inf\n",
      "[LightGBM] [Warning] No further splits with positive gain, best gain: -inf\n",
      "[LightGBM] [Warning] No further splits with positive gain, best gain: -inf\n",
      "[LightGBM] [Warning] No further splits with positive gain, best gain: -inf\n",
      "[LightGBM] [Warning] No further splits with positive gain, best gain: -inf\n",
      "[LightGBM] [Warning] No further splits with positive gain, best gain: -inf\n",
      "[LightGBM] [Warning] No further splits with positive gain, best gain: -inf\n",
      "[LightGBM] [Warning] No further splits with positive gain, best gain: -inf\n",
      "[LightGBM] [Warning] No further splits with positive gain, best gain: -inf\n",
      "[LightGBM] [Warning] No further splits with positive gain, best gain: -inf\n",
      "[LightGBM] [Warning] No further splits with positive gain, best gain: -inf\n",
      "[LightGBM] [Warning] No further splits with positive gain, best gain: -inf\n",
      "[LightGBM] [Warning] No further splits with positive gain, best gain: -inf\n",
      "[LightGBM] [Warning] No further splits with positive gain, best gain: -inf\n",
      "[LightGBM] [Warning] No further splits with positive gain, best gain: -inf\n",
      "[LightGBM] [Warning] No further splits with positive gain, best gain: -inf\n",
      "[LightGBM] [Warning] No further splits with positive gain, best gain: -inf\n",
      "[LightGBM] [Warning] No further splits with positive gain, best gain: -inf\n",
      "[LightGBM] [Warning] No further splits with positive gain, best gain: -inf\n",
      "[LightGBM] [Warning] No further splits with positive gain, best gain: -inf\n",
      "[LightGBM] [Warning] No further splits with positive gain, best gain: -inf\n",
      "[LightGBM] [Warning] No further splits with positive gain, best gain: -inf\n",
      "[LightGBM] [Warning] No further splits with positive gain, best gain: -inf\n",
      "[LightGBM] [Warning] No further splits with positive gain, best gain: -inf\n",
      "[LightGBM] [Warning] No further splits with positive gain, best gain: -inf\n",
      "[LightGBM] [Warning] No further splits with positive gain, best gain: -inf\n",
      "[LightGBM] [Warning] No further splits with positive gain, best gain: -inf\n",
      "[LightGBM] [Warning] No further splits with positive gain, best gain: -inf\n",
      "[LightGBM] [Warning] No further splits with positive gain, best gain: -inf\n",
      "[LightGBM] [Warning] No further splits with positive gain, best gain: -inf\n",
      "[LightGBM] [Warning] No further splits with positive gain, best gain: -inf\n",
      "[LightGBM] [Warning] No further splits with positive gain, best gain: -inf\n",
      "[LightGBM] [Warning] No further splits with positive gain, best gain: -inf\n",
      "[LightGBM] [Warning] No further splits with positive gain, best gain: -inf\n",
      "CPU times: user 22.5 s, sys: 538 ms, total: 23 s\n",
      "Wall time: 2.93 s\n"
     ]
    },
    {
     "data": {
      "text/html": [
       "<style>#sk-container-id-3 {color: black;background-color: white;}#sk-container-id-3 pre{padding: 0;}#sk-container-id-3 div.sk-toggleable {background-color: white;}#sk-container-id-3 label.sk-toggleable__label {cursor: pointer;display: block;width: 100%;margin-bottom: 0;padding: 0.3em;box-sizing: border-box;text-align: center;}#sk-container-id-3 label.sk-toggleable__label-arrow:before {content: \"▸\";float: left;margin-right: 0.25em;color: #696969;}#sk-container-id-3 label.sk-toggleable__label-arrow:hover:before {color: black;}#sk-container-id-3 div.sk-estimator:hover label.sk-toggleable__label-arrow:before {color: black;}#sk-container-id-3 div.sk-toggleable__content {max-height: 0;max-width: 0;overflow: hidden;text-align: left;background-color: #f0f8ff;}#sk-container-id-3 div.sk-toggleable__content pre {margin: 0.2em;color: black;border-radius: 0.25em;background-color: #f0f8ff;}#sk-container-id-3 input.sk-toggleable__control:checked~div.sk-toggleable__content {max-height: 200px;max-width: 100%;overflow: auto;}#sk-container-id-3 input.sk-toggleable__control:checked~label.sk-toggleable__label-arrow:before {content: \"▾\";}#sk-container-id-3 div.sk-estimator input.sk-toggleable__control:checked~label.sk-toggleable__label {background-color: #d4ebff;}#sk-container-id-3 div.sk-label input.sk-toggleable__control:checked~label.sk-toggleable__label {background-color: #d4ebff;}#sk-container-id-3 input.sk-hidden--visually {border: 0;clip: rect(1px 1px 1px 1px);clip: rect(1px, 1px, 1px, 1px);height: 1px;margin: -1px;overflow: hidden;padding: 0;position: absolute;width: 1px;}#sk-container-id-3 div.sk-estimator {font-family: monospace;background-color: #f0f8ff;border: 1px dotted black;border-radius: 0.25em;box-sizing: border-box;margin-bottom: 0.5em;}#sk-container-id-3 div.sk-estimator:hover {background-color: #d4ebff;}#sk-container-id-3 div.sk-parallel-item::after {content: \"\";width: 100%;border-bottom: 1px solid gray;flex-grow: 1;}#sk-container-id-3 div.sk-label:hover label.sk-toggleable__label {background-color: #d4ebff;}#sk-container-id-3 div.sk-serial::before {content: \"\";position: absolute;border-left: 1px solid gray;box-sizing: border-box;top: 0;bottom: 0;left: 50%;z-index: 0;}#sk-container-id-3 div.sk-serial {display: flex;flex-direction: column;align-items: center;background-color: white;padding-right: 0.2em;padding-left: 0.2em;position: relative;}#sk-container-id-3 div.sk-item {position: relative;z-index: 1;}#sk-container-id-3 div.sk-parallel {display: flex;align-items: stretch;justify-content: center;background-color: white;position: relative;}#sk-container-id-3 div.sk-item::before, #sk-container-id-3 div.sk-parallel-item::before {content: \"\";position: absolute;border-left: 1px solid gray;box-sizing: border-box;top: 0;bottom: 0;left: 50%;z-index: -1;}#sk-container-id-3 div.sk-parallel-item {display: flex;flex-direction: column;z-index: 1;position: relative;background-color: white;}#sk-container-id-3 div.sk-parallel-item:first-child::after {align-self: flex-end;width: 50%;}#sk-container-id-3 div.sk-parallel-item:last-child::after {align-self: flex-start;width: 50%;}#sk-container-id-3 div.sk-parallel-item:only-child::after {width: 0;}#sk-container-id-3 div.sk-dashed-wrapped {border: 1px dashed gray;margin: 0 0.4em 0.5em 0.4em;box-sizing: border-box;padding-bottom: 0.4em;background-color: white;}#sk-container-id-3 div.sk-label label {font-family: monospace;font-weight: bold;display: inline-block;line-height: 1.2em;}#sk-container-id-3 div.sk-label-container {text-align: center;}#sk-container-id-3 div.sk-container {/* jupyter's `normalize.less` sets `[hidden] { display: none; }` but bootstrap.min.css set `[hidden] { display: none !important; }` so we also need the `!important` here to be able to override the default hidden behavior on the sphinx rendered scikit-learn.org. See: https://github.com/scikit-learn/scikit-learn/issues/21755 */display: inline-block !important;position: relative;}#sk-container-id-3 div.sk-text-repr-fallback {display: none;}</style><div id=\"sk-container-id-3\" class=\"sk-top-container\"><div class=\"sk-text-repr-fallback\"><pre>LGBMRegressor(max_depth=7, metric=&#x27;rmse&#x27;, n_estimators=1000, num_leaves=50)</pre><b>In a Jupyter environment, please rerun this cell to show the HTML representation or trust the notebook. <br />On GitHub, the HTML representation is unable to render, please try loading this page with nbviewer.org.</b></div><div class=\"sk-container\" hidden><div class=\"sk-item\"><div class=\"sk-estimator sk-toggleable\"><input class=\"sk-toggleable__control sk-hidden--visually\" id=\"sk-estimator-id-3\" type=\"checkbox\" checked><label for=\"sk-estimator-id-3\" class=\"sk-toggleable__label sk-toggleable__label-arrow\">LGBMRegressor</label><div class=\"sk-toggleable__content\"><pre>LGBMRegressor(max_depth=7, metric=&#x27;rmse&#x27;, n_estimators=1000, num_leaves=50)</pre></div></div></div></div></div>"
      ],
      "text/plain": [
       "LGBMRegressor(max_depth=7, metric='rmse', n_estimators=1000, num_leaves=50)"
      ]
     },
     "execution_count": 97,
     "metadata": {},
     "output_type": "execute_result"
    }
   ],
   "source": [
    "%%time\n",
    "# Modelo con profundidad limitada\n",
    "model = lgb.LGBMRegressor(\n",
    "    max_depth=7,          # Árboles con profundidad máxima de 7\n",
    "    num_leaves=50,        # Máximo 50 hojas por árbol\n",
    "    n_estimators=1000,    # Número de árboles\n",
    "    learning_rate=0.1,    # Tasa de aprendizaje\n",
    "    metric='rmse'         # Métrica para evaluación\n",
    ")\n",
    "\n",
    "# Entrenar el modelo\n",
    "model.fit(features_train, target_train, eval_set=[(features_val, target_val)])\n"
   ]
  },
  {
   "cell_type": "markdown",
   "metadata": {},
   "source": [
    "Marca un tiempo de 20 segundos para cuestiones de entrenamiento"
   ]
  },
  {
   "cell_type": "code",
   "execution_count": 98,
   "metadata": {},
   "outputs": [
    {
     "name": "stdout",
     "output_type": "stream",
     "text": [
      "CPU times: user 2.95 s, sys: 17 ms, total: 2.97 s\n",
      "Wall time: 377 ms\n"
     ]
    }
   ],
   "source": [
    "%%time\n",
    "predictions_test = model.predict(features_test) #predicciones test\n",
    "error_test = mean_squared_error(target_test, predictions_test) ** 0.5"
   ]
  },
  {
   "cell_type": "markdown",
   "metadata": {},
   "source": [
    "Para el test que es un cojunto de datos más pequeño demoramos 2 segundos "
   ]
  },
  {
   "cell_type": "code",
   "execution_count": 99,
   "metadata": {},
   "outputs": [
    {
     "name": "stdout",
     "output_type": "stream",
     "text": [
      "CPU times: user 5.55 s, sys: 4.06 ms, total: 5.55 s\n",
      "Wall time: 700 ms\n"
     ]
    }
   ],
   "source": [
    "%%time\n",
    "predictions_val = model.predict(features_val) #predicciones para validacion\n",
    "error_val = mean_squared_error(target_val, predictions_val) ** 0.5"
   ]
  },
  {
   "cell_type": "markdown",
   "metadata": {},
   "source": [
    "6 Segundos para los datos de validacion"
   ]
  },
  {
   "cell_type": "code",
   "execution_count": 100,
   "metadata": {},
   "outputs": [
    {
     "name": "stdout",
     "output_type": "stream",
     "text": [
      "CPU times: user 19.4 s, sys: 20.9 ms, total: 19.4 s\n",
      "Wall time: 2.45 s\n"
     ]
    }
   ],
   "source": [
    "%%time\n",
    "predictions_train = model.predict(features_train) # predicciones del entrenamiento\n",
    "error_train = mean_squared_error(target_train, predictions_train) ** 0.5"
   ]
  },
  {
   "cell_type": "markdown",
   "metadata": {},
   "source": [
    "20 segundos para los datos de entrenamiento.  // 4 segundos en el bosque de regresion"
   ]
  },
  {
   "cell_type": "code",
   "execution_count": 101,
   "metadata": {},
   "outputs": [
    {
     "name": "stdout",
     "output_type": "stream",
     "text": [
      "RMSE con el los datos de entrenamiento:  1277.4025733976723\n",
      "RMSE con la validacion:  1436.3506275494667\n",
      "RMSE con el los datos de prueba:  1457.4485083524185\n"
     ]
    }
   ],
   "source": [
    "print(\"RMSE con el los datos de entrenamiento: \", error_train)\n",
    "print(\"RMSE con la validacion: \", error_val)\n",
    "print(\"RMSE con el los datos de prueba: \", error_test)"
   ]
  },
  {
   "cell_type": "markdown",
   "metadata": {},
   "source": [
    "Hemos obtenido una mejor predicción, pero, por otro lado, para el conjunto de entrenamiento (se realiza esta comparación porque ambos modelos utilizan la misma cantidad de datos), el tiempo de entrenamiento es considerablemente mayor. También es importante destacar que el RMSE en el conjunto de entrenamiento es más bajo que en los conjuntos de validación y prueba, lo que podría indicar que el modelo está ligeramente sobreajustado. Basándonos en esto, reduciremos la profundidad y el número de hojas del modelo para ver si podemos mejorar el RMSE."
   ]
  },
  {
   "cell_type": "markdown",
   "metadata": {},
   "source": [
    "Relación entre max_depth y num_leaves\n",
    "LightGBM tiene otro hiperparámetro llamado num_leaves, que controla el número máximo de hojas en un árbol. Ambos están relacionados:\n",
    "\n",
    "Número de hojas máximo en un árbol está dado por  $2^{\\text{max\\_depth}} - 1$. Si no configuras num_leaves, LightGBM puede sobreajustar si el valor predeterminado es demasiado alto para la profundidad elegida."
   ]
  },
  {
   "cell_type": "code",
   "execution_count": 103,
   "metadata": {},
   "outputs": [
    {
     "name": "stdout",
     "output_type": "stream",
     "text": [
      "[LightGBM] [Info] Auto-choosing row-wise multi-threading, the overhead of testing was 0.003218 seconds.\n",
      "You can set `force_row_wise=true` to remove the overhead.\n",
      "And if memory is not enough, you can set `force_col_wise=true`.\n",
      "[LightGBM] [Info] Total Bins 605\n",
      "[LightGBM] [Info] Number of data points in the train set: 207195, number of used features: 9\n",
      "[LightGBM] [Info] Start training from score 4856.870639\n",
      "[LightGBM] [Warning] No further splits with positive gain, best gain: -inf\n",
      "[LightGBM] [Warning] No further splits with positive gain, best gain: -inf\n",
      "[LightGBM] [Warning] No further splits with positive gain, best gain: -inf\n",
      "[LightGBM] [Warning] No further splits with positive gain, best gain: -inf\n",
      "[LightGBM] [Warning] No further splits with positive gain, best gain: -inf\n",
      "[LightGBM] [Warning] No further splits with positive gain, best gain: -inf\n",
      "[LightGBM] [Warning] No further splits with positive gain, best gain: -inf\n",
      "[LightGBM] [Warning] No further splits with positive gain, best gain: -inf\n",
      "[LightGBM] [Warning] No further splits with positive gain, best gain: -inf\n",
      "[LightGBM] [Warning] No further splits with positive gain, best gain: -inf\n",
      "[LightGBM] [Warning] No further splits with positive gain, best gain: -inf\n",
      "[LightGBM] [Warning] No further splits with positive gain, best gain: -inf\n",
      "[LightGBM] [Warning] No further splits with positive gain, best gain: -inf\n",
      "[LightGBM] [Warning] No further splits with positive gain, best gain: -inf\n",
      "[LightGBM] [Warning] No further splits with positive gain, best gain: -inf\n",
      "[LightGBM] [Warning] No further splits with positive gain, best gain: -inf\n",
      "[LightGBM] [Warning] No further splits with positive gain, best gain: -inf\n",
      "[LightGBM] [Warning] No further splits with positive gain, best gain: -inf\n",
      "[LightGBM] [Warning] No further splits with positive gain, best gain: -inf\n",
      "[LightGBM] [Warning] No further splits with positive gain, best gain: -inf\n",
      "[LightGBM] [Warning] No further splits with positive gain, best gain: -inf\n",
      "[LightGBM] [Warning] No further splits with positive gain, best gain: -inf\n",
      "[LightGBM] [Warning] No further splits with positive gain, best gain: -inf\n",
      "[LightGBM] [Warning] No further splits with positive gain, best gain: -inf\n",
      "[LightGBM] [Warning] No further splits with positive gain, best gain: -inf\n",
      "[LightGBM] [Warning] No further splits with positive gain, best gain: -inf\n",
      "[LightGBM] [Warning] No further splits with positive gain, best gain: -inf\n",
      "[LightGBM] [Warning] No further splits with positive gain, best gain: -inf\n",
      "[LightGBM] [Warning] No further splits with positive gain, best gain: -inf\n",
      "[LightGBM] [Warning] No further splits with positive gain, best gain: -inf\n",
      "[LightGBM] [Warning] No further splits with positive gain, best gain: -inf\n",
      "[LightGBM] [Warning] No further splits with positive gain, best gain: -inf\n",
      "[LightGBM] [Warning] No further splits with positive gain, best gain: -inf\n",
      "[LightGBM] [Warning] No further splits with positive gain, best gain: -inf\n",
      "[LightGBM] [Warning] No further splits with positive gain, best gain: -inf\n",
      "[LightGBM] [Warning] No further splits with positive gain, best gain: -inf\n",
      "[LightGBM] [Warning] No further splits with positive gain, best gain: -inf\n",
      "[LightGBM] [Warning] No further splits with positive gain, best gain: -inf\n",
      "[LightGBM] [Warning] No further splits with positive gain, best gain: -inf\n",
      "[LightGBM] [Warning] No further splits with positive gain, best gain: -inf\n",
      "[LightGBM] [Warning] No further splits with positive gain, best gain: -inf\n",
      "[LightGBM] [Warning] No further splits with positive gain, best gain: -inf\n",
      "[LightGBM] [Warning] No further splits with positive gain, best gain: -inf\n",
      "[LightGBM] [Warning] No further splits with positive gain, best gain: -inf\n",
      "[LightGBM] [Warning] No further splits with positive gain, best gain: -inf\n",
      "[LightGBM] [Warning] No further splits with positive gain, best gain: -inf\n",
      "[LightGBM] [Warning] No further splits with positive gain, best gain: -inf\n",
      "[LightGBM] [Warning] No further splits with positive gain, best gain: -inf\n",
      "[LightGBM] [Warning] No further splits with positive gain, best gain: -inf\n",
      "[LightGBM] [Warning] No further splits with positive gain, best gain: -inf\n",
      "[LightGBM] [Warning] No further splits with positive gain, best gain: -inf\n",
      "[LightGBM] [Warning] No further splits with positive gain, best gain: -inf\n",
      "[LightGBM] [Warning] No further splits with positive gain, best gain: -inf\n",
      "[LightGBM] [Warning] No further splits with positive gain, best gain: -inf\n",
      "[LightGBM] [Warning] No further splits with positive gain, best gain: -inf\n",
      "[LightGBM] [Warning] No further splits with positive gain, best gain: -inf\n",
      "[LightGBM] [Warning] No further splits with positive gain, best gain: -inf\n",
      "[LightGBM] [Warning] No further splits with positive gain, best gain: -inf\n",
      "[LightGBM] [Warning] No further splits with positive gain, best gain: -inf\n",
      "[LightGBM] [Warning] No further splits with positive gain, best gain: -inf\n",
      "[LightGBM] [Warning] No further splits with positive gain, best gain: -inf\n",
      "[LightGBM] [Warning] No further splits with positive gain, best gain: -inf\n",
      "[LightGBM] [Warning] No further splits with positive gain, best gain: -inf\n",
      "[LightGBM] [Warning] No further splits with positive gain, best gain: -inf\n",
      "[LightGBM] [Warning] No further splits with positive gain, best gain: -inf\n",
      "[LightGBM] [Warning] No further splits with positive gain, best gain: -inf\n",
      "[LightGBM] [Warning] No further splits with positive gain, best gain: -inf\n",
      "[LightGBM] [Warning] No further splits with positive gain, best gain: -inf\n",
      "[LightGBM] [Warning] No further splits with positive gain, best gain: -inf\n",
      "[LightGBM] [Warning] No further splits with positive gain, best gain: -inf\n",
      "[LightGBM] [Warning] No further splits with positive gain, best gain: -inf\n",
      "[LightGBM] [Warning] No further splits with positive gain, best gain: -inf\n",
      "[LightGBM] [Warning] No further splits with positive gain, best gain: -inf\n",
      "[LightGBM] [Warning] No further splits with positive gain, best gain: -inf\n",
      "[LightGBM] [Warning] No further splits with positive gain, best gain: -inf\n",
      "[LightGBM] [Warning] No further splits with positive gain, best gain: -inf\n",
      "[LightGBM] [Warning] No further splits with positive gain, best gain: -inf\n",
      "[LightGBM] [Warning] No further splits with positive gain, best gain: -inf\n",
      "[LightGBM] [Warning] No further splits with positive gain, best gain: -inf\n",
      "[LightGBM] [Warning] No further splits with positive gain, best gain: -inf\n",
      "[LightGBM] [Warning] No further splits with positive gain, best gain: -inf\n",
      "[LightGBM] [Warning] No further splits with positive gain, best gain: -inf\n",
      "[LightGBM] [Warning] No further splits with positive gain, best gain: -inf\n",
      "[LightGBM] [Warning] No further splits with positive gain, best gain: -inf\n",
      "[LightGBM] [Warning] No further splits with positive gain, best gain: -inf\n",
      "[LightGBM] [Warning] No further splits with positive gain, best gain: -inf\n",
      "[LightGBM] [Warning] No further splits with positive gain, best gain: -inf\n",
      "[LightGBM] [Warning] No further splits with positive gain, best gain: -inf\n",
      "[LightGBM] [Warning] No further splits with positive gain, best gain: -inf\n",
      "[LightGBM] [Warning] No further splits with positive gain, best gain: -inf\n",
      "[LightGBM] [Warning] No further splits with positive gain, best gain: -inf\n",
      "[LightGBM] [Warning] No further splits with positive gain, best gain: -inf\n",
      "[LightGBM] [Warning] No further splits with positive gain, best gain: -inf\n",
      "[LightGBM] [Warning] No further splits with positive gain, best gain: -inf\n",
      "[LightGBM] [Warning] No further splits with positive gain, best gain: -inf\n",
      "[LightGBM] [Warning] No further splits with positive gain, best gain: -inf\n",
      "[LightGBM] [Warning] No further splits with positive gain, best gain: -inf\n",
      "[LightGBM] [Warning] No further splits with positive gain, best gain: -inf\n",
      "[LightGBM] [Warning] No further splits with positive gain, best gain: -inf\n",
      "[LightGBM] [Warning] No further splits with positive gain, best gain: -inf\n",
      "[LightGBM] [Warning] No further splits with positive gain, best gain: -inf\n",
      "[LightGBM] [Warning] No further splits with positive gain, best gain: -inf\n",
      "[LightGBM] [Warning] No further splits with positive gain, best gain: -inf\n",
      "[LightGBM] [Warning] No further splits with positive gain, best gain: -inf\n",
      "[LightGBM] [Warning] No further splits with positive gain, best gain: -inf\n",
      "[LightGBM] [Warning] No further splits with positive gain, best gain: -inf\n",
      "[LightGBM] [Warning] No further splits with positive gain, best gain: -inf\n",
      "[LightGBM] [Warning] No further splits with positive gain, best gain: -inf\n",
      "[LightGBM] [Warning] No further splits with positive gain, best gain: -inf\n",
      "[LightGBM] [Warning] No further splits with positive gain, best gain: -inf\n",
      "[LightGBM] [Warning] No further splits with positive gain, best gain: -inf\n",
      "[LightGBM] [Warning] No further splits with positive gain, best gain: -inf\n",
      "[LightGBM] [Warning] No further splits with positive gain, best gain: -inf\n",
      "[LightGBM] [Warning] No further splits with positive gain, best gain: -inf\n",
      "[LightGBM] [Warning] No further splits with positive gain, best gain: -inf\n",
      "[LightGBM] [Warning] No further splits with positive gain, best gain: -inf\n",
      "[LightGBM] [Warning] No further splits with positive gain, best gain: -inf\n",
      "[LightGBM] [Warning] No further splits with positive gain, best gain: -inf\n",
      "[LightGBM] [Warning] No further splits with positive gain, best gain: -inf\n",
      "[LightGBM] [Warning] No further splits with positive gain, best gain: -inf\n",
      "[LightGBM] [Warning] No further splits with positive gain, best gain: -inf\n",
      "[LightGBM] [Warning] No further splits with positive gain, best gain: -inf\n",
      "[LightGBM] [Warning] No further splits with positive gain, best gain: -inf\n",
      "[LightGBM] [Warning] No further splits with positive gain, best gain: -inf\n",
      "[LightGBM] [Warning] No further splits with positive gain, best gain: -inf\n",
      "[LightGBM] [Warning] No further splits with positive gain, best gain: -inf\n",
      "[LightGBM] [Warning] No further splits with positive gain, best gain: -inf\n",
      "[LightGBM] [Warning] No further splits with positive gain, best gain: -inf\n",
      "[LightGBM] [Warning] No further splits with positive gain, best gain: -inf\n",
      "[LightGBM] [Warning] No further splits with positive gain, best gain: -inf\n",
      "[LightGBM] [Warning] No further splits with positive gain, best gain: -inf\n",
      "[LightGBM] [Warning] No further splits with positive gain, best gain: -inf\n",
      "[LightGBM] [Warning] No further splits with positive gain, best gain: -inf\n",
      "[LightGBM] [Warning] No further splits with positive gain, best gain: -inf\n",
      "[LightGBM] [Warning] No further splits with positive gain, best gain: -inf\n",
      "[LightGBM] [Warning] No further splits with positive gain, best gain: -inf\n",
      "[LightGBM] [Warning] No further splits with positive gain, best gain: -inf\n",
      "[LightGBM] [Warning] No further splits with positive gain, best gain: -inf\n",
      "[LightGBM] [Warning] No further splits with positive gain, best gain: -inf\n",
      "[LightGBM] [Warning] No further splits with positive gain, best gain: -inf\n",
      "[LightGBM] [Warning] No further splits with positive gain, best gain: -inf\n",
      "[LightGBM] [Warning] No further splits with positive gain, best gain: -inf\n",
      "[LightGBM] [Warning] No further splits with positive gain, best gain: -inf\n",
      "[LightGBM] [Warning] No further splits with positive gain, best gain: -inf\n",
      "[LightGBM] [Warning] No further splits with positive gain, best gain: -inf\n",
      "[LightGBM] [Warning] No further splits with positive gain, best gain: -inf\n",
      "[LightGBM] [Warning] No further splits with positive gain, best gain: -inf\n",
      "[LightGBM] [Warning] No further splits with positive gain, best gain: -inf\n",
      "[LightGBM] [Warning] No further splits with positive gain, best gain: -inf\n",
      "[LightGBM] [Warning] No further splits with positive gain, best gain: -inf\n",
      "[LightGBM] [Warning] No further splits with positive gain, best gain: -inf\n",
      "[LightGBM] [Warning] No further splits with positive gain, best gain: -inf\n",
      "[LightGBM] [Warning] No further splits with positive gain, best gain: -inf\n",
      "[LightGBM] [Warning] No further splits with positive gain, best gain: -inf\n",
      "[LightGBM] [Warning] No further splits with positive gain, best gain: -inf\n",
      "[LightGBM] [Warning] No further splits with positive gain, best gain: -inf\n",
      "[LightGBM] [Warning] No further splits with positive gain, best gain: -inf\n",
      "[LightGBM] [Warning] No further splits with positive gain, best gain: -inf\n",
      "[LightGBM] [Warning] No further splits with positive gain, best gain: -inf\n",
      "[LightGBM] [Warning] No further splits with positive gain, best gain: -inf\n",
      "[LightGBM] [Warning] No further splits with positive gain, best gain: -inf\n",
      "[LightGBM] [Warning] No further splits with positive gain, best gain: -inf\n",
      "[LightGBM] [Warning] No further splits with positive gain, best gain: -inf\n",
      "[LightGBM] [Warning] No further splits with positive gain, best gain: -inf\n",
      "[LightGBM] [Warning] No further splits with positive gain, best gain: -inf\n",
      "[LightGBM] [Warning] No further splits with positive gain, best gain: -inf\n",
      "[LightGBM] [Warning] No further splits with positive gain, best gain: -inf\n",
      "[LightGBM] [Warning] No further splits with positive gain, best gain: -inf\n",
      "[LightGBM] [Warning] No further splits with positive gain, best gain: -inf\n",
      "[LightGBM] [Warning] No further splits with positive gain, best gain: -inf\n",
      "[LightGBM] [Warning] No further splits with positive gain, best gain: -inf\n",
      "[LightGBM] [Warning] No further splits with positive gain, best gain: -inf\n",
      "[LightGBM] [Warning] No further splits with positive gain, best gain: -inf\n",
      "[LightGBM] [Warning] No further splits with positive gain, best gain: -inf\n",
      "[LightGBM] [Warning] No further splits with positive gain, best gain: -inf\n",
      "[LightGBM] [Warning] No further splits with positive gain, best gain: -inf\n",
      "[LightGBM] [Warning] No further splits with positive gain, best gain: -inf\n",
      "[LightGBM] [Warning] No further splits with positive gain, best gain: -inf\n",
      "[LightGBM] [Warning] No further splits with positive gain, best gain: -inf\n",
      "[LightGBM] [Warning] No further splits with positive gain, best gain: -inf\n",
      "[LightGBM] [Warning] No further splits with positive gain, best gain: -inf\n",
      "[LightGBM] [Warning] No further splits with positive gain, best gain: -inf\n",
      "[LightGBM] [Warning] No further splits with positive gain, best gain: -inf\n",
      "[LightGBM] [Warning] No further splits with positive gain, best gain: -inf\n",
      "[LightGBM] [Warning] No further splits with positive gain, best gain: -inf\n",
      "[LightGBM] [Warning] No further splits with positive gain, best gain: -inf\n",
      "[LightGBM] [Warning] No further splits with positive gain, best gain: -inf\n",
      "[LightGBM] [Warning] No further splits with positive gain, best gain: -inf\n",
      "[LightGBM] [Warning] No further splits with positive gain, best gain: -inf\n",
      "[LightGBM] [Warning] No further splits with positive gain, best gain: -inf\n",
      "[LightGBM] [Warning] No further splits with positive gain, best gain: -inf\n",
      "[LightGBM] [Warning] No further splits with positive gain, best gain: -inf\n",
      "[LightGBM] [Warning] No further splits with positive gain, best gain: -inf\n",
      "[LightGBM] [Warning] No further splits with positive gain, best gain: -inf\n",
      "[LightGBM] [Warning] No further splits with positive gain, best gain: -inf\n",
      "[LightGBM] [Warning] No further splits with positive gain, best gain: -inf\n",
      "[LightGBM] [Warning] No further splits with positive gain, best gain: -inf\n",
      "[LightGBM] [Warning] No further splits with positive gain, best gain: -inf\n",
      "[LightGBM] [Warning] No further splits with positive gain, best gain: -inf\n",
      "[LightGBM] [Warning] No further splits with positive gain, best gain: -inf\n",
      "[LightGBM] [Warning] No further splits with positive gain, best gain: -inf\n",
      "[LightGBM] [Warning] No further splits with positive gain, best gain: -inf\n",
      "[LightGBM] [Warning] No further splits with positive gain, best gain: -inf\n",
      "[LightGBM] [Warning] No further splits with positive gain, best gain: -inf\n",
      "[LightGBM] [Warning] No further splits with positive gain, best gain: -inf\n",
      "[LightGBM] [Warning] No further splits with positive gain, best gain: -inf\n",
      "[LightGBM] [Warning] No further splits with positive gain, best gain: -inf\n",
      "[LightGBM] [Warning] No further splits with positive gain, best gain: -inf\n",
      "[LightGBM] [Warning] No further splits with positive gain, best gain: -inf\n",
      "[LightGBM] [Warning] No further splits with positive gain, best gain: -inf\n",
      "[LightGBM] [Warning] No further splits with positive gain, best gain: -inf\n",
      "[LightGBM] [Warning] No further splits with positive gain, best gain: -inf\n",
      "[LightGBM] [Warning] No further splits with positive gain, best gain: -inf\n",
      "[LightGBM] [Warning] No further splits with positive gain, best gain: -inf\n",
      "[LightGBM] [Warning] No further splits with positive gain, best gain: -inf\n",
      "[LightGBM] [Warning] No further splits with positive gain, best gain: -inf\n",
      "[LightGBM] [Warning] No further splits with positive gain, best gain: -inf\n",
      "[LightGBM] [Warning] No further splits with positive gain, best gain: -inf\n",
      "[LightGBM] [Warning] No further splits with positive gain, best gain: -inf\n",
      "[LightGBM] [Warning] No further splits with positive gain, best gain: -inf\n",
      "[LightGBM] [Warning] No further splits with positive gain, best gain: -inf\n",
      "[LightGBM] [Warning] No further splits with positive gain, best gain: -inf\n",
      "[LightGBM] [Warning] No further splits with positive gain, best gain: -inf\n",
      "[LightGBM] [Warning] No further splits with positive gain, best gain: -inf\n",
      "[LightGBM] [Warning] No further splits with positive gain, best gain: -inf\n",
      "[LightGBM] [Warning] No further splits with positive gain, best gain: -inf\n",
      "[LightGBM] [Warning] No further splits with positive gain, best gain: -inf\n",
      "[LightGBM] [Warning] No further splits with positive gain, best gain: -inf\n",
      "[LightGBM] [Warning] No further splits with positive gain, best gain: -inf\n",
      "[LightGBM] [Warning] No further splits with positive gain, best gain: -inf\n",
      "[LightGBM] [Warning] No further splits with positive gain, best gain: -inf\n",
      "[LightGBM] [Warning] No further splits with positive gain, best gain: -inf\n",
      "[LightGBM] [Warning] No further splits with positive gain, best gain: -inf\n",
      "[LightGBM] [Warning] No further splits with positive gain, best gain: -inf\n",
      "[LightGBM] [Warning] No further splits with positive gain, best gain: -inf\n",
      "[LightGBM] [Warning] No further splits with positive gain, best gain: -inf\n",
      "[LightGBM] [Warning] No further splits with positive gain, best gain: -inf\n",
      "[LightGBM] [Warning] No further splits with positive gain, best gain: -inf\n",
      "[LightGBM] [Warning] No further splits with positive gain, best gain: -inf\n",
      "[LightGBM] [Warning] No further splits with positive gain, best gain: -inf\n",
      "[LightGBM] [Warning] No further splits with positive gain, best gain: -inf\n",
      "[LightGBM] [Warning] No further splits with positive gain, best gain: -inf\n",
      "[LightGBM] [Warning] No further splits with positive gain, best gain: -inf\n",
      "[LightGBM] [Warning] No further splits with positive gain, best gain: -inf\n",
      "[LightGBM] [Warning] No further splits with positive gain, best gain: -inf\n",
      "[LightGBM] [Warning] No further splits with positive gain, best gain: -inf\n",
      "[LightGBM] [Warning] No further splits with positive gain, best gain: -inf\n",
      "[LightGBM] [Warning] No further splits with positive gain, best gain: -inf\n",
      "[LightGBM] [Warning] No further splits with positive gain, best gain: -inf\n",
      "[LightGBM] [Warning] No further splits with positive gain, best gain: -inf\n",
      "[LightGBM] [Warning] No further splits with positive gain, best gain: -inf\n",
      "[LightGBM] [Warning] No further splits with positive gain, best gain: -inf\n",
      "[LightGBM] [Warning] No further splits with positive gain, best gain: -inf\n",
      "[LightGBM] [Warning] No further splits with positive gain, best gain: -inf\n",
      "[LightGBM] [Warning] No further splits with positive gain, best gain: -inf\n",
      "[LightGBM] [Warning] No further splits with positive gain, best gain: -inf\n",
      "[LightGBM] [Warning] No further splits with positive gain, best gain: -inf\n",
      "[LightGBM] [Warning] No further splits with positive gain, best gain: -inf\n",
      "[LightGBM] [Warning] No further splits with positive gain, best gain: -inf\n",
      "[LightGBM] [Warning] No further splits with positive gain, best gain: -inf\n",
      "[LightGBM] [Warning] No further splits with positive gain, best gain: -inf\n",
      "[LightGBM] [Warning] No further splits with positive gain, best gain: -inf\n",
      "[LightGBM] [Warning] No further splits with positive gain, best gain: -inf\n",
      "[LightGBM] [Warning] No further splits with positive gain, best gain: -inf\n",
      "[LightGBM] [Warning] No further splits with positive gain, best gain: -inf\n",
      "[LightGBM] [Warning] No further splits with positive gain, best gain: -inf\n",
      "[LightGBM] [Warning] No further splits with positive gain, best gain: -inf\n",
      "[LightGBM] [Warning] No further splits with positive gain, best gain: -inf\n",
      "[LightGBM] [Warning] No further splits with positive gain, best gain: -inf\n",
      "[LightGBM] [Warning] No further splits with positive gain, best gain: -inf\n",
      "[LightGBM] [Warning] No further splits with positive gain, best gain: -inf\n",
      "[LightGBM] [Warning] No further splits with positive gain, best gain: -inf\n",
      "[LightGBM] [Warning] No further splits with positive gain, best gain: -inf\n",
      "[LightGBM] [Warning] No further splits with positive gain, best gain: -inf\n",
      "[LightGBM] [Warning] No further splits with positive gain, best gain: -inf\n",
      "[LightGBM] [Warning] No further splits with positive gain, best gain: -inf\n",
      "[LightGBM] [Warning] No further splits with positive gain, best gain: -inf\n",
      "[LightGBM] [Warning] No further splits with positive gain, best gain: -inf\n",
      "[LightGBM] [Warning] No further splits with positive gain, best gain: -inf\n",
      "[LightGBM] [Warning] No further splits with positive gain, best gain: -inf\n",
      "[LightGBM] [Warning] No further splits with positive gain, best gain: -inf\n",
      "[LightGBM] [Warning] No further splits with positive gain, best gain: -inf\n",
      "[LightGBM] [Warning] No further splits with positive gain, best gain: -inf\n",
      "[LightGBM] [Warning] No further splits with positive gain, best gain: -inf\n",
      "[LightGBM] [Warning] No further splits with positive gain, best gain: -inf\n",
      "[LightGBM] [Warning] No further splits with positive gain, best gain: -inf\n",
      "[LightGBM] [Warning] No further splits with positive gain, best gain: -inf\n",
      "[LightGBM] [Warning] No further splits with positive gain, best gain: -inf\n",
      "[LightGBM] [Warning] No further splits with positive gain, best gain: -inf\n",
      "[LightGBM] [Warning] No further splits with positive gain, best gain: -inf\n",
      "[LightGBM] [Warning] No further splits with positive gain, best gain: -inf\n",
      "[LightGBM] [Warning] No further splits with positive gain, best gain: -inf\n",
      "[LightGBM] [Warning] No further splits with positive gain, best gain: -inf\n",
      "[LightGBM] [Warning] No further splits with positive gain, best gain: -inf\n",
      "[LightGBM] [Warning] No further splits with positive gain, best gain: -inf\n",
      "[LightGBM] [Warning] No further splits with positive gain, best gain: -inf\n",
      "[LightGBM] [Warning] No further splits with positive gain, best gain: -inf\n",
      "[LightGBM] [Warning] No further splits with positive gain, best gain: -inf\n",
      "[LightGBM] [Warning] No further splits with positive gain, best gain: -inf\n",
      "[LightGBM] [Warning] No further splits with positive gain, best gain: -inf\n",
      "[LightGBM] [Warning] No further splits with positive gain, best gain: -inf\n",
      "[LightGBM] [Warning] No further splits with positive gain, best gain: -inf\n",
      "[LightGBM] [Warning] No further splits with positive gain, best gain: -inf\n",
      "[LightGBM] [Warning] No further splits with positive gain, best gain: -inf\n",
      "[LightGBM] [Warning] No further splits with positive gain, best gain: -inf\n",
      "[LightGBM] [Warning] No further splits with positive gain, best gain: -inf\n",
      "[LightGBM] [Warning] No further splits with positive gain, best gain: -inf\n",
      "[LightGBM] [Warning] No further splits with positive gain, best gain: -inf\n",
      "[LightGBM] [Warning] No further splits with positive gain, best gain: -inf\n",
      "[LightGBM] [Warning] No further splits with positive gain, best gain: -inf\n",
      "[LightGBM] [Warning] No further splits with positive gain, best gain: -inf\n",
      "[LightGBM] [Warning] No further splits with positive gain, best gain: -inf\n",
      "[LightGBM] [Warning] No further splits with positive gain, best gain: -inf\n",
      "[LightGBM] [Warning] No further splits with positive gain, best gain: -inf\n",
      "[LightGBM] [Warning] No further splits with positive gain, best gain: -inf\n",
      "[LightGBM] [Warning] No further splits with positive gain, best gain: -inf\n",
      "[LightGBM] [Warning] No further splits with positive gain, best gain: -inf\n",
      "[LightGBM] [Warning] No further splits with positive gain, best gain: -inf\n",
      "[LightGBM] [Warning] No further splits with positive gain, best gain: -inf\n",
      "[LightGBM] [Warning] No further splits with positive gain, best gain: -inf\n",
      "[LightGBM] [Warning] No further splits with positive gain, best gain: -inf\n",
      "[LightGBM] [Warning] No further splits with positive gain, best gain: -inf\n",
      "[LightGBM] [Warning] No further splits with positive gain, best gain: -inf\n",
      "[LightGBM] [Warning] No further splits with positive gain, best gain: -inf\n",
      "[LightGBM] [Warning] No further splits with positive gain, best gain: -inf\n",
      "[LightGBM] [Warning] No further splits with positive gain, best gain: -inf\n",
      "[LightGBM] [Warning] No further splits with positive gain, best gain: -inf\n",
      "[LightGBM] [Warning] No further splits with positive gain, best gain: -inf\n",
      "[LightGBM] [Warning] No further splits with positive gain, best gain: -inf\n",
      "[LightGBM] [Warning] No further splits with positive gain, best gain: -inf\n",
      "[LightGBM] [Warning] No further splits with positive gain, best gain: -inf\n",
      "[LightGBM] [Warning] No further splits with positive gain, best gain: -inf\n",
      "[LightGBM] [Warning] No further splits with positive gain, best gain: -inf\n",
      "[LightGBM] [Warning] No further splits with positive gain, best gain: -inf\n",
      "[LightGBM] [Warning] No further splits with positive gain, best gain: -inf\n",
      "[LightGBM] [Warning] No further splits with positive gain, best gain: -inf\n",
      "[LightGBM] [Warning] No further splits with positive gain, best gain: -inf\n",
      "[LightGBM] [Warning] No further splits with positive gain, best gain: -inf\n",
      "[LightGBM] [Warning] No further splits with positive gain, best gain: -inf\n",
      "[LightGBM] [Warning] No further splits with positive gain, best gain: -inf\n",
      "[LightGBM] [Warning] No further splits with positive gain, best gain: -inf\n",
      "[LightGBM] [Warning] No further splits with positive gain, best gain: -inf\n",
      "[LightGBM] [Warning] No further splits with positive gain, best gain: -inf\n",
      "[LightGBM] [Warning] No further splits with positive gain, best gain: -inf\n",
      "[LightGBM] [Warning] No further splits with positive gain, best gain: -inf\n",
      "[LightGBM] [Warning] No further splits with positive gain, best gain: -inf\n",
      "[LightGBM] [Warning] No further splits with positive gain, best gain: -inf\n",
      "[LightGBM] [Warning] No further splits with positive gain, best gain: -inf\n",
      "[LightGBM] [Warning] No further splits with positive gain, best gain: -inf\n",
      "[LightGBM] [Warning] No further splits with positive gain, best gain: -inf\n",
      "[LightGBM] [Warning] No further splits with positive gain, best gain: -inf\n",
      "[LightGBM] [Warning] No further splits with positive gain, best gain: -inf\n",
      "[LightGBM] [Warning] No further splits with positive gain, best gain: -inf\n",
      "[LightGBM] [Warning] No further splits with positive gain, best gain: -inf\n",
      "[LightGBM] [Warning] No further splits with positive gain, best gain: -inf\n",
      "[LightGBM] [Warning] No further splits with positive gain, best gain: -inf\n",
      "[LightGBM] [Warning] No further splits with positive gain, best gain: -inf\n",
      "[LightGBM] [Warning] No further splits with positive gain, best gain: -inf\n",
      "[LightGBM] [Warning] No further splits with positive gain, best gain: -inf\n",
      "[LightGBM] [Warning] No further splits with positive gain, best gain: -inf\n",
      "[LightGBM] [Warning] No further splits with positive gain, best gain: -inf\n",
      "[LightGBM] [Warning] No further splits with positive gain, best gain: -inf\n",
      "[LightGBM] [Warning] No further splits with positive gain, best gain: -inf\n",
      "[LightGBM] [Warning] No further splits with positive gain, best gain: -inf\n",
      "[LightGBM] [Warning] No further splits with positive gain, best gain: -inf\n",
      "[LightGBM] [Warning] No further splits with positive gain, best gain: -inf\n",
      "[LightGBM] [Warning] No further splits with positive gain, best gain: -inf\n",
      "[LightGBM] [Warning] No further splits with positive gain, best gain: -inf\n",
      "[LightGBM] [Warning] No further splits with positive gain, best gain: -inf\n",
      "[LightGBM] [Warning] No further splits with positive gain, best gain: -inf\n",
      "[LightGBM] [Warning] No further splits with positive gain, best gain: -inf\n",
      "[LightGBM] [Warning] No further splits with positive gain, best gain: -inf\n",
      "[LightGBM] [Warning] No further splits with positive gain, best gain: -inf\n",
      "[LightGBM] [Warning] No further splits with positive gain, best gain: -inf\n",
      "[LightGBM] [Warning] No further splits with positive gain, best gain: -inf\n",
      "[LightGBM] [Warning] No further splits with positive gain, best gain: -inf\n",
      "[LightGBM] [Warning] No further splits with positive gain, best gain: -inf\n",
      "[LightGBM] [Warning] No further splits with positive gain, best gain: -inf\n",
      "[LightGBM] [Warning] No further splits with positive gain, best gain: -inf\n",
      "[LightGBM] [Warning] No further splits with positive gain, best gain: -inf\n",
      "[LightGBM] [Warning] No further splits with positive gain, best gain: -inf\n",
      "[LightGBM] [Warning] No further splits with positive gain, best gain: -inf\n",
      "[LightGBM] [Warning] No further splits with positive gain, best gain: -inf\n",
      "[LightGBM] [Warning] No further splits with positive gain, best gain: -inf\n",
      "[LightGBM] [Warning] No further splits with positive gain, best gain: -inf\n",
      "[LightGBM] [Warning] No further splits with positive gain, best gain: -inf\n",
      "[LightGBM] [Warning] No further splits with positive gain, best gain: -inf\n",
      "[LightGBM] [Warning] No further splits with positive gain, best gain: -inf\n",
      "[LightGBM] [Warning] No further splits with positive gain, best gain: -inf\n",
      "[LightGBM] [Warning] No further splits with positive gain, best gain: -inf\n",
      "[LightGBM] [Warning] No further splits with positive gain, best gain: -inf\n",
      "[LightGBM] [Warning] No further splits with positive gain, best gain: -inf\n",
      "[LightGBM] [Warning] No further splits with positive gain, best gain: -inf\n",
      "[LightGBM] [Warning] No further splits with positive gain, best gain: -inf\n",
      "[LightGBM] [Warning] No further splits with positive gain, best gain: -inf\n",
      "[LightGBM] [Warning] No further splits with positive gain, best gain: -inf\n",
      "[LightGBM] [Warning] No further splits with positive gain, best gain: -inf\n",
      "[LightGBM] [Warning] No further splits with positive gain, best gain: -inf\n",
      "[LightGBM] [Warning] No further splits with positive gain, best gain: -inf\n",
      "[LightGBM] [Warning] No further splits with positive gain, best gain: -inf\n",
      "[LightGBM] [Warning] No further splits with positive gain, best gain: -inf\n",
      "[LightGBM] [Warning] No further splits with positive gain, best gain: -inf\n",
      "[LightGBM] [Warning] No further splits with positive gain, best gain: -inf\n",
      "[LightGBM] [Warning] No further splits with positive gain, best gain: -inf\n",
      "[LightGBM] [Warning] No further splits with positive gain, best gain: -inf\n",
      "[LightGBM] [Warning] No further splits with positive gain, best gain: -inf\n",
      "[LightGBM] [Warning] No further splits with positive gain, best gain: -inf\n",
      "[LightGBM] [Warning] No further splits with positive gain, best gain: -inf\n",
      "[LightGBM] [Warning] No further splits with positive gain, best gain: -inf\n",
      "[LightGBM] [Warning] No further splits with positive gain, best gain: -inf\n",
      "[LightGBM] [Warning] No further splits with positive gain, best gain: -inf\n",
      "[LightGBM] [Warning] No further splits with positive gain, best gain: -inf\n",
      "[LightGBM] [Warning] No further splits with positive gain, best gain: -inf\n",
      "[LightGBM] [Warning] No further splits with positive gain, best gain: -inf\n",
      "[LightGBM] [Warning] No further splits with positive gain, best gain: -inf\n",
      "[LightGBM] [Warning] No further splits with positive gain, best gain: -inf\n",
      "[LightGBM] [Warning] No further splits with positive gain, best gain: -inf\n",
      "[LightGBM] [Warning] No further splits with positive gain, best gain: -inf\n",
      "[LightGBM] [Warning] No further splits with positive gain, best gain: -inf\n",
      "[LightGBM] [Warning] No further splits with positive gain, best gain: -inf\n",
      "[LightGBM] [Warning] No further splits with positive gain, best gain: -inf\n",
      "[LightGBM] [Warning] No further splits with positive gain, best gain: -inf\n",
      "[LightGBM] [Warning] No further splits with positive gain, best gain: -inf\n",
      "[LightGBM] [Warning] No further splits with positive gain, best gain: -inf\n",
      "[LightGBM] [Warning] No further splits with positive gain, best gain: -inf\n",
      "[LightGBM] [Warning] No further splits with positive gain, best gain: -inf\n",
      "[LightGBM] [Warning] No further splits with positive gain, best gain: -inf\n",
      "[LightGBM] [Warning] No further splits with positive gain, best gain: -inf\n",
      "[LightGBM] [Warning] No further splits with positive gain, best gain: -inf\n",
      "[LightGBM] [Warning] No further splits with positive gain, best gain: -inf\n",
      "[LightGBM] [Warning] No further splits with positive gain, best gain: -inf\n",
      "[LightGBM] [Warning] No further splits with positive gain, best gain: -inf\n",
      "[LightGBM] [Warning] No further splits with positive gain, best gain: -inf\n",
      "[LightGBM] [Warning] No further splits with positive gain, best gain: -inf\n",
      "[LightGBM] [Warning] No further splits with positive gain, best gain: -inf\n",
      "[LightGBM] [Warning] No further splits with positive gain, best gain: -inf\n",
      "[LightGBM] [Warning] No further splits with positive gain, best gain: -inf\n",
      "[LightGBM] [Warning] No further splits with positive gain, best gain: -inf\n",
      "[LightGBM] [Warning] No further splits with positive gain, best gain: -inf\n",
      "[LightGBM] [Warning] No further splits with positive gain, best gain: -inf\n",
      "[LightGBM] [Warning] No further splits with positive gain, best gain: -inf\n",
      "[LightGBM] [Warning] No further splits with positive gain, best gain: -inf\n",
      "[LightGBM] [Warning] No further splits with positive gain, best gain: -inf\n",
      "[LightGBM] [Warning] No further splits with positive gain, best gain: -inf\n",
      "[LightGBM] [Warning] No further splits with positive gain, best gain: -inf\n",
      "[LightGBM] [Warning] No further splits with positive gain, best gain: -inf\n",
      "[LightGBM] [Warning] No further splits with positive gain, best gain: -inf\n",
      "[LightGBM] [Warning] No further splits with positive gain, best gain: -inf\n",
      "[LightGBM] [Warning] No further splits with positive gain, best gain: -inf\n",
      "[LightGBM] [Warning] No further splits with positive gain, best gain: -inf\n",
      "[LightGBM] [Warning] No further splits with positive gain, best gain: -inf\n",
      "[LightGBM] [Warning] No further splits with positive gain, best gain: -inf\n",
      "[LightGBM] [Warning] No further splits with positive gain, best gain: -inf\n",
      "[LightGBM] [Warning] No further splits with positive gain, best gain: -inf\n",
      "[LightGBM] [Warning] No further splits with positive gain, best gain: -inf\n",
      "[LightGBM] [Warning] No further splits with positive gain, best gain: -inf\n",
      "[LightGBM] [Warning] No further splits with positive gain, best gain: -inf\n",
      "[LightGBM] [Warning] No further splits with positive gain, best gain: -inf\n",
      "[LightGBM] [Warning] No further splits with positive gain, best gain: -inf\n",
      "[LightGBM] [Warning] No further splits with positive gain, best gain: -inf\n",
      "[LightGBM] [Warning] No further splits with positive gain, best gain: -inf\n",
      "[LightGBM] [Warning] No further splits with positive gain, best gain: -inf\n",
      "[LightGBM] [Warning] No further splits with positive gain, best gain: -inf\n",
      "[LightGBM] [Warning] No further splits with positive gain, best gain: -inf\n",
      "[LightGBM] [Warning] No further splits with positive gain, best gain: -inf\n",
      "[LightGBM] [Warning] No further splits with positive gain, best gain: -inf\n",
      "[LightGBM] [Warning] No further splits with positive gain, best gain: -inf\n",
      "[LightGBM] [Warning] No further splits with positive gain, best gain: -inf\n",
      "[LightGBM] [Warning] No further splits with positive gain, best gain: -inf\n",
      "[LightGBM] [Warning] No further splits with positive gain, best gain: -inf\n",
      "[LightGBM] [Warning] No further splits with positive gain, best gain: -inf\n",
      "[LightGBM] [Warning] No further splits with positive gain, best gain: -inf\n",
      "[LightGBM] [Warning] No further splits with positive gain, best gain: -inf\n",
      "[LightGBM] [Warning] No further splits with positive gain, best gain: -inf\n",
      "[LightGBM] [Warning] No further splits with positive gain, best gain: -inf\n",
      "[LightGBM] [Warning] No further splits with positive gain, best gain: -inf\n",
      "[LightGBM] [Warning] No further splits with positive gain, best gain: -inf\n",
      "[LightGBM] [Warning] No further splits with positive gain, best gain: -inf\n",
      "[LightGBM] [Warning] No further splits with positive gain, best gain: -inf\n",
      "[LightGBM] [Warning] No further splits with positive gain, best gain: -inf\n",
      "[LightGBM] [Warning] No further splits with positive gain, best gain: -inf\n",
      "[LightGBM] [Warning] No further splits with positive gain, best gain: -inf\n",
      "[LightGBM] [Warning] No further splits with positive gain, best gain: -inf\n",
      "[LightGBM] [Warning] No further splits with positive gain, best gain: -inf\n",
      "[LightGBM] [Warning] No further splits with positive gain, best gain: -inf\n",
      "[LightGBM] [Warning] No further splits with positive gain, best gain: -inf\n",
      "[LightGBM] [Warning] No further splits with positive gain, best gain: -inf\n",
      "[LightGBM] [Warning] No further splits with positive gain, best gain: -inf\n",
      "[LightGBM] [Warning] No further splits with positive gain, best gain: -inf\n",
      "[LightGBM] [Warning] No further splits with positive gain, best gain: -inf\n",
      "[LightGBM] [Warning] No further splits with positive gain, best gain: -inf\n",
      "[LightGBM] [Warning] No further splits with positive gain, best gain: -inf\n",
      "[LightGBM] [Warning] No further splits with positive gain, best gain: -inf\n",
      "[LightGBM] [Warning] No further splits with positive gain, best gain: -inf\n",
      "[LightGBM] [Warning] No further splits with positive gain, best gain: -inf\n",
      "[LightGBM] [Warning] No further splits with positive gain, best gain: -inf\n",
      "[LightGBM] [Warning] No further splits with positive gain, best gain: -inf\n",
      "[LightGBM] [Warning] No further splits with positive gain, best gain: -inf\n",
      "[LightGBM] [Warning] No further splits with positive gain, best gain: -inf\n",
      "[LightGBM] [Warning] No further splits with positive gain, best gain: -inf\n",
      "[LightGBM] [Warning] No further splits with positive gain, best gain: -inf\n",
      "[LightGBM] [Warning] No further splits with positive gain, best gain: -inf\n",
      "[LightGBM] [Warning] No further splits with positive gain, best gain: -inf\n",
      "[LightGBM] [Warning] No further splits with positive gain, best gain: -inf\n",
      "[LightGBM] [Warning] No further splits with positive gain, best gain: -inf\n",
      "[LightGBM] [Warning] No further splits with positive gain, best gain: -inf\n",
      "[LightGBM] [Warning] No further splits with positive gain, best gain: -inf\n",
      "[LightGBM] [Warning] No further splits with positive gain, best gain: -inf\n",
      "[LightGBM] [Warning] No further splits with positive gain, best gain: -inf\n",
      "[LightGBM] [Warning] No further splits with positive gain, best gain: -inf\n",
      "[LightGBM] [Warning] No further splits with positive gain, best gain: -inf\n",
      "[LightGBM] [Warning] No further splits with positive gain, best gain: -inf\n",
      "[LightGBM] [Warning] No further splits with positive gain, best gain: -inf\n",
      "[LightGBM] [Warning] No further splits with positive gain, best gain: -inf\n",
      "[LightGBM] [Warning] No further splits with positive gain, best gain: -inf\n",
      "[LightGBM] [Warning] No further splits with positive gain, best gain: -inf\n",
      "[LightGBM] [Warning] No further splits with positive gain, best gain: -inf\n",
      "[LightGBM] [Warning] No further splits with positive gain, best gain: -inf\n",
      "[LightGBM] [Warning] No further splits with positive gain, best gain: -inf\n",
      "[LightGBM] [Warning] No further splits with positive gain, best gain: -inf\n",
      "[LightGBM] [Warning] No further splits with positive gain, best gain: -inf\n",
      "[LightGBM] [Warning] No further splits with positive gain, best gain: -inf\n",
      "[LightGBM] [Warning] No further splits with positive gain, best gain: -inf\n",
      "[LightGBM] [Warning] No further splits with positive gain, best gain: -inf\n",
      "[LightGBM] [Warning] No further splits with positive gain, best gain: -inf\n",
      "[LightGBM] [Warning] No further splits with positive gain, best gain: -inf\n",
      "[LightGBM] [Warning] No further splits with positive gain, best gain: -inf\n",
      "[LightGBM] [Warning] No further splits with positive gain, best gain: -inf\n",
      "[LightGBM] [Warning] No further splits with positive gain, best gain: -inf\n",
      "[LightGBM] [Warning] No further splits with positive gain, best gain: -inf\n",
      "[LightGBM] [Warning] No further splits with positive gain, best gain: -inf\n",
      "[LightGBM] [Warning] No further splits with positive gain, best gain: -inf\n",
      "[LightGBM] [Warning] No further splits with positive gain, best gain: -inf\n",
      "[LightGBM] [Warning] No further splits with positive gain, best gain: -inf\n",
      "[LightGBM] [Warning] No further splits with positive gain, best gain: -inf\n",
      "[LightGBM] [Warning] No further splits with positive gain, best gain: -inf\n",
      "[LightGBM] [Warning] No further splits with positive gain, best gain: -inf\n",
      "[LightGBM] [Warning] No further splits with positive gain, best gain: -inf\n",
      "[LightGBM] [Warning] No further splits with positive gain, best gain: -inf\n",
      "[LightGBM] [Warning] No further splits with positive gain, best gain: -inf\n",
      "[LightGBM] [Warning] No further splits with positive gain, best gain: -inf\n",
      "[LightGBM] [Warning] No further splits with positive gain, best gain: -inf\n",
      "[LightGBM] [Warning] No further splits with positive gain, best gain: -inf\n",
      "[LightGBM] [Warning] No further splits with positive gain, best gain: -inf\n",
      "[LightGBM] [Warning] No further splits with positive gain, best gain: -inf\n",
      "[LightGBM] [Warning] No further splits with positive gain, best gain: -inf\n",
      "[LightGBM] [Warning] No further splits with positive gain, best gain: -inf\n",
      "[LightGBM] [Warning] No further splits with positive gain, best gain: -inf\n",
      "[LightGBM] [Warning] No further splits with positive gain, best gain: -inf\n",
      "[LightGBM] [Warning] No further splits with positive gain, best gain: -inf\n",
      "[LightGBM] [Warning] No further splits with positive gain, best gain: -inf\n",
      "[LightGBM] [Warning] No further splits with positive gain, best gain: -inf\n",
      "[LightGBM] [Warning] No further splits with positive gain, best gain: -inf\n",
      "[LightGBM] [Warning] No further splits with positive gain, best gain: -inf\n",
      "[LightGBM] [Warning] No further splits with positive gain, best gain: -inf\n",
      "[LightGBM] [Warning] No further splits with positive gain, best gain: -inf\n",
      "[LightGBM] [Warning] No further splits with positive gain, best gain: -inf\n",
      "[LightGBM] [Warning] No further splits with positive gain, best gain: -inf\n",
      "[LightGBM] [Warning] No further splits with positive gain, best gain: -inf\n",
      "[LightGBM] [Warning] No further splits with positive gain, best gain: -inf\n",
      "[LightGBM] [Warning] No further splits with positive gain, best gain: -inf\n",
      "[LightGBM] [Warning] No further splits with positive gain, best gain: -inf\n",
      "[LightGBM] [Warning] No further splits with positive gain, best gain: -inf\n",
      "[LightGBM] [Warning] No further splits with positive gain, best gain: -inf\n",
      "[LightGBM] [Warning] No further splits with positive gain, best gain: -inf\n",
      "[LightGBM] [Warning] No further splits with positive gain, best gain: -inf\n",
      "[LightGBM] [Warning] No further splits with positive gain, best gain: -inf\n",
      "[LightGBM] [Warning] No further splits with positive gain, best gain: -inf\n",
      "[LightGBM] [Warning] No further splits with positive gain, best gain: -inf\n",
      "[LightGBM] [Warning] No further splits with positive gain, best gain: -inf\n",
      "[LightGBM] [Warning] No further splits with positive gain, best gain: -inf\n",
      "[LightGBM] [Warning] No further splits with positive gain, best gain: -inf\n",
      "[LightGBM] [Warning] No further splits with positive gain, best gain: -inf\n",
      "[LightGBM] [Warning] No further splits with positive gain, best gain: -inf\n",
      "[LightGBM] [Warning] No further splits with positive gain, best gain: -inf\n",
      "[LightGBM] [Warning] No further splits with positive gain, best gain: -inf\n",
      "[LightGBM] [Warning] No further splits with positive gain, best gain: -inf\n",
      "[LightGBM] [Warning] No further splits with positive gain, best gain: -inf\n",
      "[LightGBM] [Warning] No further splits with positive gain, best gain: -inf\n",
      "[LightGBM] [Warning] No further splits with positive gain, best gain: -inf\n",
      "[LightGBM] [Warning] No further splits with positive gain, best gain: -inf\n",
      "[LightGBM] [Warning] No further splits with positive gain, best gain: -inf\n",
      "[LightGBM] [Warning] No further splits with positive gain, best gain: -inf\n",
      "[LightGBM] [Warning] No further splits with positive gain, best gain: -inf\n",
      "[LightGBM] [Warning] No further splits with positive gain, best gain: -inf\n",
      "[LightGBM] [Warning] No further splits with positive gain, best gain: -inf\n",
      "[LightGBM] [Warning] No further splits with positive gain, best gain: -inf\n",
      "[LightGBM] [Warning] No further splits with positive gain, best gain: -inf\n",
      "[LightGBM] [Warning] No further splits with positive gain, best gain: -inf\n",
      "[LightGBM] [Warning] No further splits with positive gain, best gain: -inf\n",
      "[LightGBM] [Warning] No further splits with positive gain, best gain: -inf\n",
      "[LightGBM] [Warning] No further splits with positive gain, best gain: -inf\n",
      "[LightGBM] [Warning] No further splits with positive gain, best gain: -inf\n",
      "[LightGBM] [Warning] No further splits with positive gain, best gain: -inf\n",
      "[LightGBM] [Warning] No further splits with positive gain, best gain: -inf\n",
      "[LightGBM] [Warning] No further splits with positive gain, best gain: -inf\n",
      "[LightGBM] [Warning] No further splits with positive gain, best gain: -inf\n",
      "[LightGBM] [Warning] No further splits with positive gain, best gain: -inf\n",
      "[LightGBM] [Warning] No further splits with positive gain, best gain: -inf\n",
      "[LightGBM] [Warning] No further splits with positive gain, best gain: -inf\n",
      "[LightGBM] [Warning] No further splits with positive gain, best gain: -inf\n",
      "[LightGBM] [Warning] No further splits with positive gain, best gain: -inf\n",
      "[LightGBM] [Warning] No further splits with positive gain, best gain: -inf\n",
      "[LightGBM] [Warning] No further splits with positive gain, best gain: -inf\n",
      "[LightGBM] [Warning] No further splits with positive gain, best gain: -inf\n",
      "[LightGBM] [Warning] No further splits with positive gain, best gain: -inf\n",
      "[LightGBM] [Warning] No further splits with positive gain, best gain: -inf\n",
      "[LightGBM] [Warning] No further splits with positive gain, best gain: -inf\n",
      "[LightGBM] [Warning] No further splits with positive gain, best gain: -inf\n",
      "[LightGBM] [Warning] No further splits with positive gain, best gain: -inf\n",
      "[LightGBM] [Warning] No further splits with positive gain, best gain: -inf\n",
      "[LightGBM] [Warning] No further splits with positive gain, best gain: -inf\n",
      "[LightGBM] [Warning] No further splits with positive gain, best gain: -inf\n",
      "[LightGBM] [Warning] No further splits with positive gain, best gain: -inf\n",
      "[LightGBM] [Warning] No further splits with positive gain, best gain: -inf\n",
      "[LightGBM] [Warning] No further splits with positive gain, best gain: -inf\n",
      "[LightGBM] [Warning] No further splits with positive gain, best gain: -inf\n",
      "[LightGBM] [Warning] No further splits with positive gain, best gain: -inf\n",
      "[LightGBM] [Warning] No further splits with positive gain, best gain: -inf\n",
      "[LightGBM] [Warning] No further splits with positive gain, best gain: -inf\n",
      "[LightGBM] [Warning] No further splits with positive gain, best gain: -inf\n",
      "[LightGBM] [Warning] No further splits with positive gain, best gain: -inf\n",
      "[LightGBM] [Warning] No further splits with positive gain, best gain: -inf\n",
      "[LightGBM] [Warning] No further splits with positive gain, best gain: -inf\n",
      "[LightGBM] [Warning] No further splits with positive gain, best gain: -inf\n",
      "[LightGBM] [Warning] No further splits with positive gain, best gain: -inf\n",
      "[LightGBM] [Warning] No further splits with positive gain, best gain: -inf\n",
      "[LightGBM] [Warning] No further splits with positive gain, best gain: -inf\n",
      "[LightGBM] [Warning] No further splits with positive gain, best gain: -inf\n",
      "[LightGBM] [Warning] No further splits with positive gain, best gain: -inf\n",
      "[LightGBM] [Warning] No further splits with positive gain, best gain: -inf\n",
      "[LightGBM] [Warning] No further splits with positive gain, best gain: -inf\n",
      "[LightGBM] [Warning] No further splits with positive gain, best gain: -inf\n",
      "[LightGBM] [Warning] No further splits with positive gain, best gain: -inf\n",
      "[LightGBM] [Warning] No further splits with positive gain, best gain: -inf\n",
      "[LightGBM] [Warning] No further splits with positive gain, best gain: -inf\n",
      "[LightGBM] [Warning] No further splits with positive gain, best gain: -inf\n",
      "[LightGBM] [Warning] No further splits with positive gain, best gain: -inf\n",
      "[LightGBM] [Warning] No further splits with positive gain, best gain: -inf\n",
      "[LightGBM] [Warning] No further splits with positive gain, best gain: -inf\n",
      "[LightGBM] [Warning] No further splits with positive gain, best gain: -inf\n",
      "[LightGBM] [Warning] No further splits with positive gain, best gain: -inf\n",
      "[LightGBM] [Warning] No further splits with positive gain, best gain: -inf\n",
      "[LightGBM] [Warning] No further splits with positive gain, best gain: -inf\n",
      "[LightGBM] [Warning] No further splits with positive gain, best gain: -inf\n",
      "[LightGBM] [Warning] No further splits with positive gain, best gain: -inf\n",
      "[LightGBM] [Warning] No further splits with positive gain, best gain: -inf\n",
      "[LightGBM] [Warning] No further splits with positive gain, best gain: -inf\n",
      "[LightGBM] [Warning] No further splits with positive gain, best gain: -inf\n",
      "[LightGBM] [Warning] No further splits with positive gain, best gain: -inf\n",
      "[LightGBM] [Warning] No further splits with positive gain, best gain: -inf\n",
      "[LightGBM] [Warning] No further splits with positive gain, best gain: -inf\n",
      "[LightGBM] [Warning] No further splits with positive gain, best gain: -inf\n",
      "[LightGBM] [Warning] No further splits with positive gain, best gain: -inf\n",
      "[LightGBM] [Warning] No further splits with positive gain, best gain: -inf\n",
      "[LightGBM] [Warning] No further splits with positive gain, best gain: -inf\n",
      "[LightGBM] [Warning] No further splits with positive gain, best gain: -inf\n",
      "[LightGBM] [Warning] No further splits with positive gain, best gain: -inf\n",
      "[LightGBM] [Warning] No further splits with positive gain, best gain: -inf\n",
      "[LightGBM] [Warning] No further splits with positive gain, best gain: -inf\n",
      "[LightGBM] [Warning] No further splits with positive gain, best gain: -inf\n",
      "[LightGBM] [Warning] No further splits with positive gain, best gain: -inf\n",
      "[LightGBM] [Warning] No further splits with positive gain, best gain: -inf\n",
      "[LightGBM] [Warning] No further splits with positive gain, best gain: -inf\n",
      "[LightGBM] [Warning] No further splits with positive gain, best gain: -inf\n",
      "[LightGBM] [Warning] No further splits with positive gain, best gain: -inf\n",
      "[LightGBM] [Warning] No further splits with positive gain, best gain: -inf\n",
      "[LightGBM] [Warning] No further splits with positive gain, best gain: -inf\n",
      "[LightGBM] [Warning] No further splits with positive gain, best gain: -inf\n",
      "[LightGBM] [Warning] No further splits with positive gain, best gain: -inf\n",
      "[LightGBM] [Warning] No further splits with positive gain, best gain: -inf\n",
      "[LightGBM] [Warning] No further splits with positive gain, best gain: -inf\n",
      "[LightGBM] [Warning] No further splits with positive gain, best gain: -inf\n",
      "[LightGBM] [Warning] No further splits with positive gain, best gain: -inf\n",
      "[LightGBM] [Warning] No further splits with positive gain, best gain: -inf\n",
      "[LightGBM] [Warning] No further splits with positive gain, best gain: -inf\n",
      "[LightGBM] [Warning] No further splits with positive gain, best gain: -inf\n",
      "[LightGBM] [Warning] No further splits with positive gain, best gain: -inf\n",
      "[LightGBM] [Warning] No further splits with positive gain, best gain: -inf\n",
      "[LightGBM] [Warning] No further splits with positive gain, best gain: -inf\n",
      "[LightGBM] [Warning] No further splits with positive gain, best gain: -inf\n",
      "[LightGBM] [Warning] No further splits with positive gain, best gain: -inf\n",
      "[LightGBM] [Warning] No further splits with positive gain, best gain: -inf\n",
      "[LightGBM] [Warning] No further splits with positive gain, best gain: -inf\n",
      "[LightGBM] [Warning] No further splits with positive gain, best gain: -inf\n",
      "[LightGBM] [Warning] No further splits with positive gain, best gain: -inf\n",
      "[LightGBM] [Warning] No further splits with positive gain, best gain: -inf\n",
      "[LightGBM] [Warning] No further splits with positive gain, best gain: -inf\n",
      "[LightGBM] [Warning] No further splits with positive gain, best gain: -inf\n",
      "[LightGBM] [Warning] No further splits with positive gain, best gain: -inf\n",
      "[LightGBM] [Warning] No further splits with positive gain, best gain: -inf\n",
      "[LightGBM] [Warning] No further splits with positive gain, best gain: -inf\n",
      "[LightGBM] [Warning] No further splits with positive gain, best gain: -inf\n",
      "[LightGBM] [Warning] No further splits with positive gain, best gain: -inf\n",
      "[LightGBM] [Warning] No further splits with positive gain, best gain: -inf\n",
      "[LightGBM] [Warning] No further splits with positive gain, best gain: -inf\n",
      "[LightGBM] [Warning] No further splits with positive gain, best gain: -inf\n",
      "[LightGBM] [Warning] No further splits with positive gain, best gain: -inf\n",
      "[LightGBM] [Warning] No further splits with positive gain, best gain: -inf\n",
      "[LightGBM] [Warning] No further splits with positive gain, best gain: -inf\n",
      "[LightGBM] [Warning] No further splits with positive gain, best gain: -inf\n",
      "[LightGBM] [Warning] No further splits with positive gain, best gain: -inf\n",
      "[LightGBM] [Warning] No further splits with positive gain, best gain: -inf\n",
      "[LightGBM] [Warning] No further splits with positive gain, best gain: -inf\n",
      "[LightGBM] [Warning] No further splits with positive gain, best gain: -inf\n",
      "[LightGBM] [Warning] No further splits with positive gain, best gain: -inf\n",
      "[LightGBM] [Warning] No further splits with positive gain, best gain: -inf\n",
      "[LightGBM] [Warning] No further splits with positive gain, best gain: -inf\n",
      "[LightGBM] [Warning] No further splits with positive gain, best gain: -inf\n",
      "[LightGBM] [Warning] No further splits with positive gain, best gain: -inf\n",
      "[LightGBM] [Warning] No further splits with positive gain, best gain: -inf\n",
      "[LightGBM] [Warning] No further splits with positive gain, best gain: -inf\n",
      "[LightGBM] [Warning] No further splits with positive gain, best gain: -inf\n",
      "[LightGBM] [Warning] No further splits with positive gain, best gain: -inf\n",
      "[LightGBM] [Warning] No further splits with positive gain, best gain: -inf\n",
      "[LightGBM] [Warning] No further splits with positive gain, best gain: -inf\n",
      "[LightGBM] [Warning] No further splits with positive gain, best gain: -inf\n",
      "[LightGBM] [Warning] No further splits with positive gain, best gain: -inf\n",
      "[LightGBM] [Warning] No further splits with positive gain, best gain: -inf\n",
      "[LightGBM] [Warning] No further splits with positive gain, best gain: -inf\n",
      "[LightGBM] [Warning] No further splits with positive gain, best gain: -inf\n",
      "[LightGBM] [Warning] No further splits with positive gain, best gain: -inf\n",
      "[LightGBM] [Warning] No further splits with positive gain, best gain: -inf\n",
      "[LightGBM] [Warning] No further splits with positive gain, best gain: -inf\n",
      "[LightGBM] [Warning] No further splits with positive gain, best gain: -inf\n",
      "[LightGBM] [Warning] No further splits with positive gain, best gain: -inf\n",
      "[LightGBM] [Warning] No further splits with positive gain, best gain: -inf\n",
      "[LightGBM] [Warning] No further splits with positive gain, best gain: -inf\n",
      "[LightGBM] [Warning] No further splits with positive gain, best gain: -inf\n",
      "[LightGBM] [Warning] No further splits with positive gain, best gain: -inf\n",
      "[LightGBM] [Warning] No further splits with positive gain, best gain: -inf\n",
      "[LightGBM] [Warning] No further splits with positive gain, best gain: -inf\n",
      "[LightGBM] [Warning] No further splits with positive gain, best gain: -inf\n",
      "[LightGBM] [Warning] No further splits with positive gain, best gain: -inf\n",
      "[LightGBM] [Warning] No further splits with positive gain, best gain: -inf\n",
      "[LightGBM] [Warning] No further splits with positive gain, best gain: -inf\n",
      "[LightGBM] [Warning] No further splits with positive gain, best gain: -inf\n",
      "[LightGBM] [Warning] No further splits with positive gain, best gain: -inf\n",
      "[LightGBM] [Warning] No further splits with positive gain, best gain: -inf\n",
      "[LightGBM] [Warning] No further splits with positive gain, best gain: -inf\n",
      "[LightGBM] [Warning] No further splits with positive gain, best gain: -inf\n",
      "[LightGBM] [Warning] No further splits with positive gain, best gain: -inf\n",
      "[LightGBM] [Warning] No further splits with positive gain, best gain: -inf\n",
      "[LightGBM] [Warning] No further splits with positive gain, best gain: -inf\n",
      "[LightGBM] [Warning] No further splits with positive gain, best gain: -inf\n",
      "[LightGBM] [Warning] No further splits with positive gain, best gain: -inf\n",
      "[LightGBM] [Warning] No further splits with positive gain, best gain: -inf\n",
      "[LightGBM] [Warning] No further splits with positive gain, best gain: -inf\n",
      "[LightGBM] [Warning] No further splits with positive gain, best gain: -inf\n",
      "[LightGBM] [Warning] No further splits with positive gain, best gain: -inf\n",
      "[LightGBM] [Warning] No further splits with positive gain, best gain: -inf\n",
      "[LightGBM] [Warning] No further splits with positive gain, best gain: -inf\n",
      "[LightGBM] [Warning] No further splits with positive gain, best gain: -inf\n",
      "[LightGBM] [Warning] No further splits with positive gain, best gain: -inf\n",
      "[LightGBM] [Warning] No further splits with positive gain, best gain: -inf\n",
      "[LightGBM] [Warning] No further splits with positive gain, best gain: -inf\n",
      "[LightGBM] [Warning] No further splits with positive gain, best gain: -inf\n",
      "[LightGBM] [Warning] No further splits with positive gain, best gain: -inf\n",
      "[LightGBM] [Warning] No further splits with positive gain, best gain: -inf\n",
      "[LightGBM] [Warning] No further splits with positive gain, best gain: -inf\n",
      "[LightGBM] [Warning] No further splits with positive gain, best gain: -inf\n",
      "[LightGBM] [Warning] No further splits with positive gain, best gain: -inf\n",
      "[LightGBM] [Warning] No further splits with positive gain, best gain: -inf\n",
      "[LightGBM] [Warning] No further splits with positive gain, best gain: -inf\n",
      "[LightGBM] [Warning] No further splits with positive gain, best gain: -inf\n",
      "[LightGBM] [Warning] No further splits with positive gain, best gain: -inf\n",
      "[LightGBM] [Warning] No further splits with positive gain, best gain: -inf\n",
      "[LightGBM] [Warning] No further splits with positive gain, best gain: -inf\n",
      "[LightGBM] [Warning] No further splits with positive gain, best gain: -inf\n",
      "[LightGBM] [Warning] No further splits with positive gain, best gain: -inf\n",
      "[LightGBM] [Warning] No further splits with positive gain, best gain: -inf\n",
      "[LightGBM] [Warning] No further splits with positive gain, best gain: -inf\n",
      "[LightGBM] [Warning] No further splits with positive gain, best gain: -inf\n",
      "[LightGBM] [Warning] No further splits with positive gain, best gain: -inf\n",
      "[LightGBM] [Warning] No further splits with positive gain, best gain: -inf\n",
      "[LightGBM] [Warning] No further splits with positive gain, best gain: -inf\n",
      "[LightGBM] [Warning] No further splits with positive gain, best gain: -inf\n",
      "[LightGBM] [Warning] No further splits with positive gain, best gain: -inf\n",
      "[LightGBM] [Warning] No further splits with positive gain, best gain: -inf\n",
      "[LightGBM] [Warning] No further splits with positive gain, best gain: -inf\n",
      "[LightGBM] [Warning] No further splits with positive gain, best gain: -inf\n",
      "[LightGBM] [Warning] No further splits with positive gain, best gain: -inf\n",
      "[LightGBM] [Warning] No further splits with positive gain, best gain: -inf\n",
      "[LightGBM] [Warning] No further splits with positive gain, best gain: -inf\n",
      "[LightGBM] [Warning] No further splits with positive gain, best gain: -inf\n",
      "[LightGBM] [Warning] No further splits with positive gain, best gain: -inf\n",
      "[LightGBM] [Warning] No further splits with positive gain, best gain: -inf\n",
      "[LightGBM] [Warning] No further splits with positive gain, best gain: -inf\n",
      "[LightGBM] [Warning] No further splits with positive gain, best gain: -inf\n",
      "[LightGBM] [Warning] No further splits with positive gain, best gain: -inf\n",
      "[LightGBM] [Warning] No further splits with positive gain, best gain: -inf\n",
      "[LightGBM] [Warning] No further splits with positive gain, best gain: -inf\n",
      "[LightGBM] [Warning] No further splits with positive gain, best gain: -inf\n",
      "[LightGBM] [Warning] No further splits with positive gain, best gain: -inf\n",
      "[LightGBM] [Warning] No further splits with positive gain, best gain: -inf\n",
      "[LightGBM] [Warning] No further splits with positive gain, best gain: -inf\n",
      "[LightGBM] [Warning] No further splits with positive gain, best gain: -inf\n",
      "[LightGBM] [Warning] No further splits with positive gain, best gain: -inf\n",
      "[LightGBM] [Warning] No further splits with positive gain, best gain: -inf\n",
      "[LightGBM] [Warning] No further splits with positive gain, best gain: -inf\n",
      "[LightGBM] [Warning] No further splits with positive gain, best gain: -inf\n",
      "[LightGBM] [Warning] No further splits with positive gain, best gain: -inf\n",
      "CPU times: user 22.5 s, sys: 474 ms, total: 23 s\n",
      "Wall time: 2.91 s\n"
     ]
    },
    {
     "data": {
      "text/html": [
       "<style>#sk-container-id-4 {color: black;background-color: white;}#sk-container-id-4 pre{padding: 0;}#sk-container-id-4 div.sk-toggleable {background-color: white;}#sk-container-id-4 label.sk-toggleable__label {cursor: pointer;display: block;width: 100%;margin-bottom: 0;padding: 0.3em;box-sizing: border-box;text-align: center;}#sk-container-id-4 label.sk-toggleable__label-arrow:before {content: \"▸\";float: left;margin-right: 0.25em;color: #696969;}#sk-container-id-4 label.sk-toggleable__label-arrow:hover:before {color: black;}#sk-container-id-4 div.sk-estimator:hover label.sk-toggleable__label-arrow:before {color: black;}#sk-container-id-4 div.sk-toggleable__content {max-height: 0;max-width: 0;overflow: hidden;text-align: left;background-color: #f0f8ff;}#sk-container-id-4 div.sk-toggleable__content pre {margin: 0.2em;color: black;border-radius: 0.25em;background-color: #f0f8ff;}#sk-container-id-4 input.sk-toggleable__control:checked~div.sk-toggleable__content {max-height: 200px;max-width: 100%;overflow: auto;}#sk-container-id-4 input.sk-toggleable__control:checked~label.sk-toggleable__label-arrow:before {content: \"▾\";}#sk-container-id-4 div.sk-estimator input.sk-toggleable__control:checked~label.sk-toggleable__label {background-color: #d4ebff;}#sk-container-id-4 div.sk-label input.sk-toggleable__control:checked~label.sk-toggleable__label {background-color: #d4ebff;}#sk-container-id-4 input.sk-hidden--visually {border: 0;clip: rect(1px 1px 1px 1px);clip: rect(1px, 1px, 1px, 1px);height: 1px;margin: -1px;overflow: hidden;padding: 0;position: absolute;width: 1px;}#sk-container-id-4 div.sk-estimator {font-family: monospace;background-color: #f0f8ff;border: 1px dotted black;border-radius: 0.25em;box-sizing: border-box;margin-bottom: 0.5em;}#sk-container-id-4 div.sk-estimator:hover {background-color: #d4ebff;}#sk-container-id-4 div.sk-parallel-item::after {content: \"\";width: 100%;border-bottom: 1px solid gray;flex-grow: 1;}#sk-container-id-4 div.sk-label:hover label.sk-toggleable__label {background-color: #d4ebff;}#sk-container-id-4 div.sk-serial::before {content: \"\";position: absolute;border-left: 1px solid gray;box-sizing: border-box;top: 0;bottom: 0;left: 50%;z-index: 0;}#sk-container-id-4 div.sk-serial {display: flex;flex-direction: column;align-items: center;background-color: white;padding-right: 0.2em;padding-left: 0.2em;position: relative;}#sk-container-id-4 div.sk-item {position: relative;z-index: 1;}#sk-container-id-4 div.sk-parallel {display: flex;align-items: stretch;justify-content: center;background-color: white;position: relative;}#sk-container-id-4 div.sk-item::before, #sk-container-id-4 div.sk-parallel-item::before {content: \"\";position: absolute;border-left: 1px solid gray;box-sizing: border-box;top: 0;bottom: 0;left: 50%;z-index: -1;}#sk-container-id-4 div.sk-parallel-item {display: flex;flex-direction: column;z-index: 1;position: relative;background-color: white;}#sk-container-id-4 div.sk-parallel-item:first-child::after {align-self: flex-end;width: 50%;}#sk-container-id-4 div.sk-parallel-item:last-child::after {align-self: flex-start;width: 50%;}#sk-container-id-4 div.sk-parallel-item:only-child::after {width: 0;}#sk-container-id-4 div.sk-dashed-wrapped {border: 1px dashed gray;margin: 0 0.4em 0.5em 0.4em;box-sizing: border-box;padding-bottom: 0.4em;background-color: white;}#sk-container-id-4 div.sk-label label {font-family: monospace;font-weight: bold;display: inline-block;line-height: 1.2em;}#sk-container-id-4 div.sk-label-container {text-align: center;}#sk-container-id-4 div.sk-container {/* jupyter's `normalize.less` sets `[hidden] { display: none; }` but bootstrap.min.css set `[hidden] { display: none !important; }` so we also need the `!important` here to be able to override the default hidden behavior on the sphinx rendered scikit-learn.org. See: https://github.com/scikit-learn/scikit-learn/issues/21755 */display: inline-block !important;position: relative;}#sk-container-id-4 div.sk-text-repr-fallback {display: none;}</style><div id=\"sk-container-id-4\" class=\"sk-top-container\"><div class=\"sk-text-repr-fallback\"><pre>LGBMRegressor(max_depth=5, metric=&#x27;rmse&#x27;, n_estimators=1100)</pre><b>In a Jupyter environment, please rerun this cell to show the HTML representation or trust the notebook. <br />On GitHub, the HTML representation is unable to render, please try loading this page with nbviewer.org.</b></div><div class=\"sk-container\" hidden><div class=\"sk-item\"><div class=\"sk-estimator sk-toggleable\"><input class=\"sk-toggleable__control sk-hidden--visually\" id=\"sk-estimator-id-4\" type=\"checkbox\" checked><label for=\"sk-estimator-id-4\" class=\"sk-toggleable__label sk-toggleable__label-arrow\">LGBMRegressor</label><div class=\"sk-toggleable__content\"><pre>LGBMRegressor(max_depth=5, metric=&#x27;rmse&#x27;, n_estimators=1100)</pre></div></div></div></div></div>"
      ],
      "text/plain": [
       "LGBMRegressor(max_depth=5, metric='rmse', n_estimators=1100)"
      ]
     },
     "execution_count": 103,
     "metadata": {},
     "output_type": "execute_result"
    }
   ],
   "source": [
    "%%time\n",
    "# Modelo con profundidad limitada\n",
    "model = lgb.LGBMRegressor(\n",
    "    max_depth=5,          # Árboles con profundidad máxima de 7\n",
    "    num_leaves=31,        # Máximo 31 hojas por árbol\n",
    "    n_estimators=1100,    # Número de árboles\n",
    "    learning_rate=0.1,    # Tasa de aprendizaje\n",
    "    metric='rmse'         # Métrica para evaluación\n",
    ")\n",
    "\n",
    "# Entrenar el modelo\n",
    "model.fit(features_train, target_train, eval_set=[(features_val, target_val)])"
   ]
  },
  {
   "cell_type": "code",
   "execution_count": 104,
   "metadata": {},
   "outputs": [
    {
     "name": "stdout",
     "output_type": "stream",
     "text": [
      "CPU times: user 2.84 s, sys: 22 ms, total: 2.86 s\n",
      "Wall time: 363 ms\n"
     ]
    }
   ],
   "source": [
    "%%time\n",
    "predictions_test = model.predict(features_test) #predicciones test\n",
    "error_test = mean_squared_error(target_test, predictions_test) ** 0.5"
   ]
  },
  {
   "cell_type": "code",
   "execution_count": 105,
   "metadata": {},
   "outputs": [
    {
     "name": "stdout",
     "output_type": "stream",
     "text": [
      "CPU times: user 5.76 s, sys: 20 ms, total: 5.78 s\n",
      "Wall time: 728 ms\n"
     ]
    }
   ],
   "source": [
    "%%time\n",
    "predictions_val = model.predict(features_val) #predicciones para validacion\n",
    "error_val = mean_squared_error(target_val, predictions_val) ** 0.5"
   ]
  },
  {
   "cell_type": "code",
   "execution_count": 106,
   "metadata": {},
   "outputs": [
    {
     "name": "stdout",
     "output_type": "stream",
     "text": [
      "CPU times: user 19.1 s, sys: 8 ms, total: 19.2 s\n",
      "Wall time: 2.41 s\n"
     ]
    }
   ],
   "source": [
    "%%time\n",
    "predictions_train = model.predict(features_train) # predicciones del entrenamiento\n",
    "error_train = mean_squared_error(target_train, predictions_train) ** 0.5"
   ]
  },
  {
   "cell_type": "markdown",
   "metadata": {},
   "source": [
    "21 segundos para los datos de entrenamiento"
   ]
  },
  {
   "cell_type": "code",
   "execution_count": 107,
   "metadata": {},
   "outputs": [
    {
     "name": "stdout",
     "output_type": "stream",
     "text": [
      "RMSE con el los datos de entrenamiento:  1352.395774658234\n",
      "RMSE con la validacion:  1454.181230099718\n",
      "RMSE con el los datos de prueba:  1479.7863501310076\n"
     ]
    }
   ],
   "source": [
    "print(\"RMSE con el los datos de entrenamiento: \", error_train)\n",
    "print(\"RMSE con la validacion: \", error_val)\n",
    "print(\"RMSE con el los datos de prueba: \", error_test)"
   ]
  },
  {
   "cell_type": "markdown",
   "metadata": {},
   "source": [
    "No logramos mejorar el RMSE,respecto la anterior configuracion de hiperparametros "
   ]
  },
  {
   "cell_type": "markdown",
   "metadata": {},
   "source": [
    "**Conclusiones y observaciones**\n",
    " - En términos de velocidad, la regresión muestra una altísima velocidad de predicción, ya que requiere menos esfuerzo computacional. Además, nos sirve como umbral para modelos más complejos, como el bosque de regresión y el bosque aleatorio de regresión, por lo que es un buen punto de partida para identificar posibles errores.\n",
    "\n",
    " - Si nos enfocamos en el entrenamiento de los modelos, la regresión sigue siendo el más rápido. Sin embargo, observamos que el entrenamiento con Gradient Boosting toma mucho menos tiempo, tal vez debido a la optimización del modelo. Cabe recalcar que, sin considerar el tiempo que nos toma la mejor selección de hiperparámetros para el bosque de regresión (alrededor de 7 minutos), aún así Gradient Boosting es más rápido en el proceso de entrenamiento.\n",
    "\n",
    "Nuestro objetivo principal en este proyecto es la atracción de nuevos usuarios a nuestra aplicación. En este sentido, lo que buscamos es que los usuarios puedan obtener una cotización de su coche a precio de mercado, por lo que necesitamos predecir con el menor error posible y en el menor tiempo posible. Dado que se trata de una aplicación, la mayoría de los usuarios no desea esperar mucho.\n",
    "\n",
    "Es importante señalar que, en un entorno de producción, el tiempo de entrenamiento no es tan relevante, ya que lo que más nos importa es el tiempo de predicción. En este caso, el tiempo de predicción entre el bosque de regresión y Gradient Boosting no es muy distinto si estamos tratando con una sola entrada. Si nuestro objetivo es minimizar el error lo máximo posible, Gradient Boosting representa una excelente opción. Si necesitamos hacer entrenamientos constantes, también es una buena opción, ya que sabemos que el mercado se actualiza constantemente.\n",
    "\n",
    "Recordemos que el umbral establecido en la regresión es de 2,330 euros. Logramos reducir este error a 1,515 euros para el bosque de regresión y 1,457 euros para Gradient Boosting. Si apreciamos no equivocarnos en la predicción, Gradient Boosting es la mejor opción en términos de tiempo y error."
   ]
  }
 ],
 "metadata": {
  "ExecuteTimeLog": [
   {
    "duration": 9,
    "start_time": "2024-12-24T17:17:10.009Z"
   },
   {
    "duration": 164,
    "start_time": "2024-12-24T17:17:14.045Z"
   },
   {
    "duration": 288,
    "start_time": "2024-12-24T17:17:23.899Z"
   },
   {
    "duration": 34,
    "start_time": "2024-12-24T17:17:26.573Z"
   },
   {
    "duration": 455,
    "start_time": "2024-12-24T17:17:41.810Z"
   },
   {
    "duration": 13,
    "start_time": "2024-12-24T17:17:51.108Z"
   },
   {
    "duration": 159,
    "start_time": "2024-12-24T22:06:04.104Z"
   },
   {
    "duration": 2767,
    "start_time": "2024-12-24T22:06:08.047Z"
   },
   {
    "duration": 434,
    "start_time": "2024-12-24T22:06:10.817Z"
   },
   {
    "duration": 15,
    "start_time": "2024-12-24T22:06:11.252Z"
   },
   {
    "duration": 103,
    "start_time": "2024-12-24T22:06:11.268Z"
   },
   {
    "duration": 838,
    "start_time": "2024-12-24T22:19:40.209Z"
   },
   {
    "duration": 7,
    "start_time": "2024-12-24T22:21:06.066Z"
   },
   {
    "duration": 5,
    "start_time": "2024-12-24T22:21:14.251Z"
   },
   {
    "duration": 4,
    "start_time": "2024-12-24T22:21:29.886Z"
   },
   {
    "duration": 25,
    "start_time": "2024-12-24T22:24:25.663Z"
   },
   {
    "duration": 15,
    "start_time": "2024-12-24T22:24:59.666Z"
   },
   {
    "duration": 17,
    "start_time": "2024-12-24T22:25:08.385Z"
   },
   {
    "duration": 33,
    "start_time": "2024-12-24T22:27:36.760Z"
   },
   {
    "duration": 16,
    "start_time": "2024-12-24T22:27:38.672Z"
   },
   {
    "duration": 11,
    "start_time": "2024-12-24T22:28:30.830Z"
   },
   {
    "duration": 1051,
    "start_time": "2024-12-24T22:30:36.120Z"
   },
   {
    "duration": 458,
    "start_time": "2024-12-24T22:30:37.174Z"
   },
   {
    "duration": 14,
    "start_time": "2024-12-24T22:30:37.634Z"
   },
   {
    "duration": 101,
    "start_time": "2024-12-24T22:30:37.650Z"
   },
   {
    "duration": 28,
    "start_time": "2024-12-24T22:30:37.753Z"
   },
   {
    "duration": 27,
    "start_time": "2024-12-24T22:30:37.782Z"
   },
   {
    "duration": 231,
    "start_time": "2024-12-24T22:32:34.023Z"
   },
   {
    "duration": 3,
    "start_time": "2024-12-24T22:32:47.080Z"
   },
   {
    "duration": 3,
    "start_time": "2024-12-24T22:33:28.785Z"
   },
   {
    "duration": 1032,
    "start_time": "2024-12-24T22:33:43.716Z"
   },
   {
    "duration": 429,
    "start_time": "2024-12-24T22:33:44.750Z"
   },
   {
    "duration": 13,
    "start_time": "2024-12-24T22:33:45.181Z"
   },
   {
    "duration": 101,
    "start_time": "2024-12-24T22:33:45.196Z"
   },
   {
    "duration": 3,
    "start_time": "2024-12-24T22:33:45.299Z"
   },
   {
    "duration": 19,
    "start_time": "2024-12-24T22:35:19.832Z"
   },
   {
    "duration": 18,
    "start_time": "2024-12-24T22:36:16.045Z"
   },
   {
    "duration": 17,
    "start_time": "2024-12-24T22:36:20.414Z"
   },
   {
    "duration": 93,
    "start_time": "2024-12-24T22:36:30.129Z"
   },
   {
    "duration": 406,
    "start_time": "2024-12-24T22:36:48.992Z"
   },
   {
    "duration": 34,
    "start_time": "2024-12-24T22:36:50.262Z"
   },
   {
    "duration": 18,
    "start_time": "2024-12-24T22:36:51.316Z"
   },
   {
    "duration": 92,
    "start_time": "2024-12-24T22:37:24.054Z"
   },
   {
    "duration": 638,
    "start_time": "2024-12-24T23:56:15.500Z"
   },
   {
    "duration": 347,
    "start_time": "2024-12-24T23:56:23.627Z"
   },
   {
    "duration": 59,
    "start_time": "2024-12-24T23:56:57.913Z"
   },
   {
    "duration": 17,
    "start_time": "2024-12-24T23:57:42.693Z"
   },
   {
    "duration": 48,
    "start_time": "2024-12-25T00:36:14.569Z"
   },
   {
    "duration": 44,
    "start_time": "2024-12-25T00:36:25.448Z"
   },
   {
    "duration": 5,
    "start_time": "2024-12-25T00:36:36.183Z"
   },
   {
    "duration": 43,
    "start_time": "2024-12-25T00:38:00.314Z"
   },
   {
    "duration": 29,
    "start_time": "2024-12-25T00:38:13.890Z"
   },
   {
    "duration": 14,
    "start_time": "2024-12-25T00:48:23.112Z"
   },
   {
    "duration": 125,
    "start_time": "2024-12-25T00:48:30.026Z"
   },
   {
    "duration": 23,
    "start_time": "2024-12-25T00:49:13.847Z"
   },
   {
    "duration": 18,
    "start_time": "2024-12-25T00:49:32.373Z"
   },
   {
    "duration": 20,
    "start_time": "2024-12-25T00:50:18.014Z"
   },
   {
    "duration": 11,
    "start_time": "2024-12-25T00:50:21.296Z"
   },
   {
    "duration": 11,
    "start_time": "2024-12-25T00:57:11.336Z"
   },
   {
    "duration": 30,
    "start_time": "2024-12-25T01:00:06.751Z"
   },
   {
    "duration": 124,
    "start_time": "2024-12-25T01:00:09.440Z"
   },
   {
    "duration": 4,
    "start_time": "2024-12-25T01:00:23.452Z"
   },
   {
    "duration": 60,
    "start_time": "2024-12-25T01:00:45.966Z"
   },
   {
    "duration": 154,
    "start_time": "2024-12-25T01:03:16.152Z"
   },
   {
    "duration": 13,
    "start_time": "2024-12-25T01:08:24.810Z"
   },
   {
    "duration": 35,
    "start_time": "2024-12-25T01:14:29.327Z"
   },
   {
    "duration": 126,
    "start_time": "2024-12-25T01:14:36.840Z"
   },
   {
    "duration": 152,
    "start_time": "2024-12-25T01:14:42.644Z"
   },
   {
    "duration": 13,
    "start_time": "2024-12-25T01:14:56.352Z"
   },
   {
    "duration": 30,
    "start_time": "2024-12-25T01:15:11.147Z"
   },
   {
    "duration": 193,
    "start_time": "2024-12-25T01:15:11.911Z"
   },
   {
    "duration": 148,
    "start_time": "2024-12-25T01:15:13.352Z"
   },
   {
    "duration": 1003,
    "start_time": "2024-12-25T01:27:13.322Z"
   },
   {
    "duration": 422,
    "start_time": "2024-12-25T01:27:14.327Z"
   },
   {
    "duration": 37,
    "start_time": "2024-12-25T01:27:14.751Z"
   },
   {
    "duration": 31,
    "start_time": "2024-12-25T01:27:14.790Z"
   },
   {
    "duration": 99,
    "start_time": "2024-12-25T01:27:14.823Z"
   },
   {
    "duration": 59,
    "start_time": "2024-12-25T01:27:14.924Z"
   },
   {
    "duration": 28,
    "start_time": "2024-12-25T01:27:14.984Z"
   },
   {
    "duration": 41,
    "start_time": "2024-12-25T01:27:15.013Z"
   },
   {
    "duration": 14,
    "start_time": "2024-12-25T01:27:15.056Z"
   },
   {
    "duration": 48,
    "start_time": "2024-12-25T01:27:15.071Z"
   },
   {
    "duration": 35,
    "start_time": "2024-12-25T01:27:15.120Z"
   },
   {
    "duration": 124,
    "start_time": "2024-12-25T01:27:15.157Z"
   },
   {
    "duration": 162,
    "start_time": "2024-12-25T01:27:15.282Z"
   },
   {
    "duration": 233,
    "start_time": "2024-12-25T01:28:09.740Z"
   },
   {
    "duration": 990,
    "start_time": "2024-12-25T01:29:00.333Z"
   },
   {
    "duration": 416,
    "start_time": "2024-12-25T01:29:01.326Z"
   },
   {
    "duration": 30,
    "start_time": "2024-12-25T01:29:01.744Z"
   },
   {
    "duration": 18,
    "start_time": "2024-12-25T01:29:01.778Z"
   },
   {
    "duration": 102,
    "start_time": "2024-12-25T01:29:01.809Z"
   },
   {
    "duration": 60,
    "start_time": "2024-12-25T01:29:01.913Z"
   },
   {
    "duration": 11,
    "start_time": "2024-12-25T01:29:01.975Z"
   },
   {
    "duration": 55,
    "start_time": "2024-12-25T01:29:01.988Z"
   },
   {
    "duration": 12,
    "start_time": "2024-12-25T01:29:02.045Z"
   },
   {
    "duration": 57,
    "start_time": "2024-12-25T01:29:02.059Z"
   },
   {
    "duration": 31,
    "start_time": "2024-12-25T01:29:02.117Z"
   },
   {
    "duration": 126,
    "start_time": "2024-12-25T01:29:02.149Z"
   },
   {
    "duration": 164,
    "start_time": "2024-12-25T01:29:02.277Z"
   },
   {
    "duration": 968,
    "start_time": "2024-12-25T01:30:01.255Z"
   },
   {
    "duration": 414,
    "start_time": "2024-12-25T01:30:02.226Z"
   },
   {
    "duration": 31,
    "start_time": "2024-12-25T01:30:02.641Z"
   },
   {
    "duration": 21,
    "start_time": "2024-12-25T01:30:02.673Z"
   },
   {
    "duration": 100,
    "start_time": "2024-12-25T01:30:02.709Z"
   },
   {
    "duration": 58,
    "start_time": "2024-12-25T01:30:02.810Z"
   },
   {
    "duration": 11,
    "start_time": "2024-12-25T01:30:02.870Z"
   },
   {
    "duration": 56,
    "start_time": "2024-12-25T01:30:02.883Z"
   },
   {
    "duration": 13,
    "start_time": "2024-12-25T01:30:02.940Z"
   },
   {
    "duration": 58,
    "start_time": "2024-12-25T01:30:02.955Z"
   },
   {
    "duration": 3,
    "start_time": "2024-12-25T01:30:03.015Z"
   },
   {
    "duration": 145,
    "start_time": "2024-12-25T01:30:03.020Z"
   },
   {
    "duration": 168,
    "start_time": "2024-12-25T01:30:03.168Z"
   },
   {
    "duration": 155,
    "start_time": "2024-12-25T17:35:58.372Z"
   },
   {
    "duration": 2649,
    "start_time": "2024-12-25T17:36:08.879Z"
   },
   {
    "duration": 451,
    "start_time": "2024-12-25T17:36:11.530Z"
   },
   {
    "duration": 39,
    "start_time": "2024-12-25T17:36:11.983Z"
   },
   {
    "duration": 21,
    "start_time": "2024-12-25T17:36:12.024Z"
   },
   {
    "duration": 101,
    "start_time": "2024-12-25T17:36:12.047Z"
   },
   {
    "duration": 65,
    "start_time": "2024-12-25T17:36:12.150Z"
   },
   {
    "duration": 12,
    "start_time": "2024-12-25T17:36:12.217Z"
   },
   {
    "duration": 35,
    "start_time": "2024-12-25T17:36:12.230Z"
   },
   {
    "duration": 13,
    "start_time": "2024-12-25T17:36:12.267Z"
   },
   {
    "duration": 45,
    "start_time": "2024-12-25T17:36:12.282Z"
   },
   {
    "duration": 3,
    "start_time": "2024-12-25T17:36:12.328Z"
   },
   {
    "duration": 149,
    "start_time": "2024-12-25T17:36:12.332Z"
   },
   {
    "duration": 157,
    "start_time": "2024-12-25T17:36:12.483Z"
   },
   {
    "duration": 4,
    "start_time": "2024-12-25T17:37:52.635Z"
   },
   {
    "duration": 5,
    "start_time": "2024-12-25T17:38:07.812Z"
   },
   {
    "duration": 8,
    "start_time": "2024-12-25T17:38:28.185Z"
   },
   {
    "duration": 42,
    "start_time": "2024-12-25T17:38:54.702Z"
   },
   {
    "duration": 49,
    "start_time": "2024-12-25T17:39:00.920Z"
   },
   {
    "duration": 4,
    "start_time": "2024-12-25T17:39:03.979Z"
   },
   {
    "duration": 4418,
    "start_time": "2024-12-25T17:40:46.142Z"
   },
   {
    "duration": 4465,
    "start_time": "2024-12-25T17:53:55.779Z"
   },
   {
    "duration": 4,
    "start_time": "2024-12-25T17:56:12.486Z"
   },
   {
    "duration": 6,
    "start_time": "2024-12-25T17:56:18.770Z"
   },
   {
    "duration": 5156,
    "start_time": "2024-12-25T17:56:33.416Z"
   },
   {
    "duration": 4418,
    "start_time": "2024-12-25T17:57:31.640Z"
   },
   {
    "duration": 103,
    "start_time": "2024-12-25T17:59:17.793Z"
   },
   {
    "duration": 118,
    "start_time": "2024-12-25T17:59:31.886Z"
   },
   {
    "duration": 10,
    "start_time": "2024-12-25T20:26:54.861Z"
   },
   {
    "duration": 154,
    "start_time": "2024-12-25T20:27:04.143Z"
   },
   {
    "duration": 2627,
    "start_time": "2024-12-25T20:27:18.679Z"
   },
   {
    "duration": 453,
    "start_time": "2024-12-25T20:27:21.309Z"
   },
   {
    "duration": 31,
    "start_time": "2024-12-25T20:27:21.764Z"
   },
   {
    "duration": 20,
    "start_time": "2024-12-25T20:27:21.808Z"
   },
   {
    "duration": 99,
    "start_time": "2024-12-25T20:27:21.831Z"
   },
   {
    "duration": 57,
    "start_time": "2024-12-25T20:27:21.932Z"
   },
   {
    "duration": 22,
    "start_time": "2024-12-25T20:27:21.991Z"
   },
   {
    "duration": 35,
    "start_time": "2024-12-25T20:27:22.015Z"
   },
   {
    "duration": 13,
    "start_time": "2024-12-25T20:27:22.052Z"
   },
   {
    "duration": 65,
    "start_time": "2024-12-25T20:27:22.067Z"
   },
   {
    "duration": 141,
    "start_time": "2024-12-25T20:27:22.134Z"
   },
   {
    "duration": 6,
    "start_time": "2024-12-25T20:27:22.276Z"
   },
   {
    "duration": 4,
    "start_time": "2024-12-25T20:27:22.284Z"
   },
   {
    "duration": 145,
    "start_time": "2024-12-25T20:27:22.290Z"
   },
   {
    "duration": 163,
    "start_time": "2024-12-25T20:27:22.437Z"
   },
   {
    "duration": 8,
    "start_time": "2024-12-25T20:27:39.237Z"
   },
   {
    "duration": 5,
    "start_time": "2024-12-25T20:31:55.341Z"
   },
   {
    "duration": 75,
    "start_time": "2024-12-25T20:33:16.563Z"
   },
   {
    "duration": 197,
    "start_time": "2024-12-25T20:33:35.661Z"
   },
   {
    "duration": 6,
    "start_time": "2024-12-25T20:34:28.585Z"
   },
   {
    "duration": 5,
    "start_time": "2024-12-25T20:37:34.198Z"
   },
   {
    "duration": 4,
    "start_time": "2024-12-25T20:37:51.207Z"
   },
   {
    "duration": 6,
    "start_time": "2024-12-25T20:38:05.113Z"
   },
   {
    "duration": 7,
    "start_time": "2024-12-25T20:39:32.378Z"
   },
   {
    "duration": 8,
    "start_time": "2024-12-25T20:44:14.148Z"
   },
   {
    "duration": 28,
    "start_time": "2024-12-25T20:44:19.490Z"
   },
   {
    "duration": 19,
    "start_time": "2024-12-25T20:44:44.074Z"
   },
   {
    "duration": 18,
    "start_time": "2024-12-25T20:47:18.905Z"
   },
   {
    "duration": 216,
    "start_time": "2024-12-25T20:50:07.098Z"
   },
   {
    "duration": 3,
    "start_time": "2024-12-25T20:50:17.645Z"
   },
   {
    "duration": 13,
    "start_time": "2024-12-25T20:50:24.832Z"
   },
   {
    "duration": 20,
    "start_time": "2024-12-25T20:51:22.692Z"
   },
   {
    "duration": 4,
    "start_time": "2024-12-25T20:52:47.706Z"
   },
   {
    "duration": 4,
    "start_time": "2024-12-25T20:52:54.539Z"
   },
   {
    "duration": 19,
    "start_time": "2024-12-25T20:53:12.956Z"
   },
   {
    "duration": 21,
    "start_time": "2024-12-25T20:53:28.437Z"
   },
   {
    "duration": 18,
    "start_time": "2024-12-25T20:55:08.194Z"
   },
   {
    "duration": 126,
    "start_time": "2024-12-25T20:55:44.552Z"
   },
   {
    "duration": 53,
    "start_time": "2024-12-25T20:56:18.173Z"
   },
   {
    "duration": 251,
    "start_time": "2024-12-25T20:56:44.674Z"
   },
   {
    "duration": 997,
    "start_time": "2024-12-25T20:56:58.008Z"
   },
   {
    "duration": 405,
    "start_time": "2024-12-25T20:56:59.008Z"
   },
   {
    "duration": 31,
    "start_time": "2024-12-25T20:56:59.414Z"
   },
   {
    "duration": 20,
    "start_time": "2024-12-25T20:56:59.446Z"
   },
   {
    "duration": 107,
    "start_time": "2024-12-25T20:56:59.468Z"
   },
   {
    "duration": 69,
    "start_time": "2024-12-25T20:56:59.577Z"
   },
   {
    "duration": 12,
    "start_time": "2024-12-25T20:56:59.647Z"
   },
   {
    "duration": 36,
    "start_time": "2024-12-25T20:56:59.660Z"
   },
   {
    "duration": 24,
    "start_time": "2024-12-25T20:56:59.697Z"
   },
   {
    "duration": 44,
    "start_time": "2024-12-25T20:56:59.723Z"
   },
   {
    "duration": 169,
    "start_time": "2024-12-25T20:56:59.770Z"
   },
   {
    "duration": 5,
    "start_time": "2024-12-25T20:56:59.940Z"
   },
   {
    "duration": 6,
    "start_time": "2024-12-25T20:56:59.947Z"
   },
   {
    "duration": 149,
    "start_time": "2024-12-25T20:56:59.956Z"
   },
   {
    "duration": 12,
    "start_time": "2024-12-25T20:57:00.106Z"
   },
   {
    "duration": 17,
    "start_time": "2024-12-25T20:57:00.120Z"
   },
   {
    "duration": 144,
    "start_time": "2024-12-25T20:57:00.139Z"
   },
   {
    "duration": 150,
    "start_time": "2024-12-25T20:57:00.286Z"
   },
   {
    "duration": 73,
    "start_time": "2024-12-25T20:57:42.482Z"
   },
   {
    "duration": 7,
    "start_time": "2024-12-25T20:58:09.407Z"
   },
   {
    "duration": 12,
    "start_time": "2024-12-25T20:58:31.172Z"
   },
   {
    "duration": 8,
    "start_time": "2024-12-25T20:58:33.689Z"
   },
   {
    "duration": 80,
    "start_time": "2024-12-25T20:58:41.118Z"
   },
   {
    "duration": 9,
    "start_time": "2024-12-25T20:58:47.232Z"
   },
   {
    "duration": 127,
    "start_time": "2024-12-25T20:59:21.912Z"
   },
   {
    "duration": 114,
    "start_time": "2024-12-25T20:59:36.297Z"
   },
   {
    "duration": 970,
    "start_time": "2024-12-25T21:07:42.453Z"
   },
   {
    "duration": 410,
    "start_time": "2024-12-25T21:07:43.425Z"
   },
   {
    "duration": 32,
    "start_time": "2024-12-25T21:07:43.837Z"
   },
   {
    "duration": 20,
    "start_time": "2024-12-25T21:07:43.872Z"
   },
   {
    "duration": 105,
    "start_time": "2024-12-25T21:07:43.893Z"
   },
   {
    "duration": 61,
    "start_time": "2024-12-25T21:07:44.000Z"
   },
   {
    "duration": 11,
    "start_time": "2024-12-25T21:07:44.064Z"
   },
   {
    "duration": 57,
    "start_time": "2024-12-25T21:07:44.077Z"
   },
   {
    "duration": 12,
    "start_time": "2024-12-25T21:07:44.136Z"
   },
   {
    "duration": 43,
    "start_time": "2024-12-25T21:07:44.151Z"
   },
   {
    "duration": 18,
    "start_time": "2024-12-25T21:07:44.209Z"
   },
   {
    "duration": 149,
    "start_time": "2024-12-25T21:07:44.229Z"
   },
   {
    "duration": 5,
    "start_time": "2024-12-25T21:07:44.380Z"
   },
   {
    "duration": 6,
    "start_time": "2024-12-25T21:07:44.387Z"
   },
   {
    "duration": 71,
    "start_time": "2024-12-25T21:07:44.409Z"
   },
   {
    "duration": 13,
    "start_time": "2024-12-25T21:07:44.482Z"
   },
   {
    "duration": 7,
    "start_time": "2024-12-25T21:07:44.509Z"
   },
   {
    "duration": 139,
    "start_time": "2024-12-25T21:07:44.517Z"
   },
   {
    "duration": 124,
    "start_time": "2024-12-25T21:07:44.658Z"
   },
   {
    "duration": 150,
    "start_time": "2024-12-25T21:09:38.920Z"
   },
   {
    "duration": 967,
    "start_time": "2024-12-25T21:10:31.044Z"
   },
   {
    "duration": 412,
    "start_time": "2024-12-25T21:10:32.013Z"
   },
   {
    "duration": 31,
    "start_time": "2024-12-25T21:10:32.426Z"
   },
   {
    "duration": 19,
    "start_time": "2024-12-25T21:10:32.459Z"
   },
   {
    "duration": 105,
    "start_time": "2024-12-25T21:10:32.480Z"
   },
   {
    "duration": 69,
    "start_time": "2024-12-25T21:10:32.587Z"
   },
   {
    "duration": 11,
    "start_time": "2024-12-25T21:10:32.657Z"
   },
   {
    "duration": 47,
    "start_time": "2024-12-25T21:10:32.670Z"
   },
   {
    "duration": 12,
    "start_time": "2024-12-25T21:10:32.719Z"
   },
   {
    "duration": 43,
    "start_time": "2024-12-25T21:10:32.734Z"
   },
   {
    "duration": 41,
    "start_time": "2024-12-25T21:10:32.778Z"
   },
   {
    "duration": 154,
    "start_time": "2024-12-25T21:10:32.821Z"
   },
   {
    "duration": 0,
    "start_time": "2024-12-25T21:10:32.977Z"
   },
   {
    "duration": 0,
    "start_time": "2024-12-25T21:10:32.978Z"
   },
   {
    "duration": 0,
    "start_time": "2024-12-25T21:10:32.979Z"
   },
   {
    "duration": 0,
    "start_time": "2024-12-25T21:10:32.980Z"
   },
   {
    "duration": 79,
    "start_time": "2024-12-25T21:11:13.450Z"
   },
   {
    "duration": 2703,
    "start_time": "2024-12-25T22:12:54.898Z"
   },
   {
    "duration": 462,
    "start_time": "2024-12-25T22:12:57.604Z"
   },
   {
    "duration": 31,
    "start_time": "2024-12-25T22:12:58.068Z"
   },
   {
    "duration": 20,
    "start_time": "2024-12-25T22:12:58.110Z"
   },
   {
    "duration": 108,
    "start_time": "2024-12-25T22:12:58.132Z"
   },
   {
    "duration": 69,
    "start_time": "2024-12-25T22:12:58.242Z"
   },
   {
    "duration": 11,
    "start_time": "2024-12-25T22:12:58.313Z"
   },
   {
    "duration": 34,
    "start_time": "2024-12-25T22:12:58.326Z"
   },
   {
    "duration": 13,
    "start_time": "2024-12-25T22:12:58.362Z"
   },
   {
    "duration": 71,
    "start_time": "2024-12-25T22:12:58.378Z"
   },
   {
    "duration": 284,
    "start_time": "2024-12-25T22:12:58.450Z"
   },
   {
    "duration": 0,
    "start_time": "2024-12-25T22:12:58.736Z"
   },
   {
    "duration": 0,
    "start_time": "2024-12-25T22:12:58.737Z"
   },
   {
    "duration": 0,
    "start_time": "2024-12-25T22:12:58.737Z"
   },
   {
    "duration": 0,
    "start_time": "2024-12-25T22:12:58.739Z"
   },
   {
    "duration": 0,
    "start_time": "2024-12-25T22:12:58.740Z"
   },
   {
    "duration": 0,
    "start_time": "2024-12-25T22:12:58.741Z"
   },
   {
    "duration": 285,
    "start_time": "2024-12-25T22:13:04.759Z"
   },
   {
    "duration": 20,
    "start_time": "2024-12-25T22:13:14.940Z"
   },
   {
    "duration": 19,
    "start_time": "2024-12-25T22:13:46.360Z"
   },
   {
    "duration": 953,
    "start_time": "2024-12-25T22:14:10.562Z"
   },
   {
    "duration": 416,
    "start_time": "2024-12-25T22:14:11.517Z"
   },
   {
    "duration": 32,
    "start_time": "2024-12-25T22:14:11.934Z"
   },
   {
    "duration": 19,
    "start_time": "2024-12-25T22:14:11.969Z"
   },
   {
    "duration": 106,
    "start_time": "2024-12-25T22:14:11.989Z"
   },
   {
    "duration": 63,
    "start_time": "2024-12-25T22:14:12.097Z"
   },
   {
    "duration": 12,
    "start_time": "2024-12-25T22:14:12.161Z"
   },
   {
    "duration": 52,
    "start_time": "2024-12-25T22:14:12.174Z"
   },
   {
    "duration": 13,
    "start_time": "2024-12-25T22:14:12.228Z"
   },
   {
    "duration": 45,
    "start_time": "2024-12-25T22:14:12.245Z"
   },
   {
    "duration": 233,
    "start_time": "2024-12-25T22:14:12.309Z"
   },
   {
    "duration": 0,
    "start_time": "2024-12-25T22:14:12.543Z"
   },
   {
    "duration": 0,
    "start_time": "2024-12-25T22:14:12.545Z"
   },
   {
    "duration": 1,
    "start_time": "2024-12-25T22:14:12.546Z"
   },
   {
    "duration": 0,
    "start_time": "2024-12-25T22:14:12.548Z"
   },
   {
    "duration": 1,
    "start_time": "2024-12-25T22:14:12.549Z"
   },
   {
    "duration": 0,
    "start_time": "2024-12-25T22:14:12.551Z"
   },
   {
    "duration": 29,
    "start_time": "2024-12-25T22:14:30.263Z"
   },
   {
    "duration": 94,
    "start_time": "2024-12-25T22:15:14.737Z"
   },
   {
    "duration": 137,
    "start_time": "2024-12-25T22:18:46.510Z"
   },
   {
    "duration": 26,
    "start_time": "2024-12-25T22:22:19.065Z"
   },
   {
    "duration": 27,
    "start_time": "2024-12-25T22:23:04.562Z"
   },
   {
    "duration": 36,
    "start_time": "2024-12-25T22:26:49.835Z"
   },
   {
    "duration": 145,
    "start_time": "2024-12-25T22:27:06.145Z"
   },
   {
    "duration": 1014,
    "start_time": "2024-12-25T22:30:20.299Z"
   },
   {
    "duration": 454,
    "start_time": "2024-12-25T22:30:21.315Z"
   },
   {
    "duration": 31,
    "start_time": "2024-12-25T22:30:21.771Z"
   },
   {
    "duration": 23,
    "start_time": "2024-12-25T22:30:21.803Z"
   },
   {
    "duration": 97,
    "start_time": "2024-12-25T22:30:21.828Z"
   },
   {
    "duration": 58,
    "start_time": "2024-12-25T22:30:21.927Z"
   },
   {
    "duration": 23,
    "start_time": "2024-12-25T22:30:21.987Z"
   },
   {
    "duration": 35,
    "start_time": "2024-12-25T22:30:22.012Z"
   },
   {
    "duration": 13,
    "start_time": "2024-12-25T22:30:22.049Z"
   },
   {
    "duration": 67,
    "start_time": "2024-12-25T22:30:22.064Z"
   },
   {
    "duration": 28,
    "start_time": "2024-12-25T22:30:22.133Z"
   },
   {
    "duration": 148,
    "start_time": "2024-12-25T22:30:22.163Z"
   },
   {
    "duration": 34,
    "start_time": "2024-12-25T22:30:22.314Z"
   },
   {
    "duration": 161,
    "start_time": "2024-12-25T22:30:22.351Z"
   },
   {
    "duration": 46301,
    "start_time": "2024-12-25T22:30:22.514Z"
   },
   {
    "duration": 213,
    "start_time": "2024-12-25T22:32:18.982Z"
   },
   {
    "duration": 854,
    "start_time": "2024-12-25T22:35:44.684Z"
   },
   {
    "duration": 2709,
    "start_time": "2024-12-25T22:41:50.392Z"
   },
   {
    "duration": 14,
    "start_time": "2024-12-25T22:44:52.131Z"
   },
   {
    "duration": 22,
    "start_time": "2024-12-25T22:45:07.145Z"
   },
   {
    "duration": 140,
    "start_time": "2024-12-25T22:54:17.659Z"
   },
   {
    "duration": 14,
    "start_time": "2024-12-25T22:55:41.699Z"
   },
   {
    "duration": 5,
    "start_time": "2024-12-25T22:55:50.819Z"
   },
   {
    "duration": 37,
    "start_time": "2024-12-25T22:56:19.719Z"
   },
   {
    "duration": 20,
    "start_time": "2024-12-25T22:57:52.189Z"
   },
   {
    "duration": 18,
    "start_time": "2024-12-25T22:57:57.316Z"
   },
   {
    "duration": 48,
    "start_time": "2024-12-25T22:58:34.671Z"
   },
   {
    "duration": 947,
    "start_time": "2024-12-25T22:59:14.868Z"
   },
   {
    "duration": 412,
    "start_time": "2024-12-25T22:59:15.818Z"
   },
   {
    "duration": 32,
    "start_time": "2024-12-25T22:59:16.231Z"
   },
   {
    "duration": 18,
    "start_time": "2024-12-25T22:59:16.265Z"
   },
   {
    "duration": 114,
    "start_time": "2024-12-25T22:59:16.286Z"
   },
   {
    "duration": 56,
    "start_time": "2024-12-25T22:59:16.410Z"
   },
   {
    "duration": 49,
    "start_time": "2024-12-25T22:59:16.468Z"
   },
   {
    "duration": 27,
    "start_time": "2024-12-25T22:59:16.518Z"
   },
   {
    "duration": 49,
    "start_time": "2024-12-25T22:59:16.547Z"
   },
   {
    "duration": 9,
    "start_time": "2024-12-25T22:59:16.609Z"
   },
   {
    "duration": 26,
    "start_time": "2024-12-25T22:59:16.620Z"
   },
   {
    "duration": 13,
    "start_time": "2024-12-25T22:59:16.648Z"
   },
   {
    "duration": 58,
    "start_time": "2024-12-25T22:59:16.663Z"
   },
   {
    "duration": 23,
    "start_time": "2024-12-25T22:59:16.724Z"
   },
   {
    "duration": 149,
    "start_time": "2024-12-25T22:59:16.749Z"
   },
   {
    "duration": 35,
    "start_time": "2024-12-25T22:59:16.899Z"
   },
   {
    "duration": 224,
    "start_time": "2024-12-25T22:59:16.935Z"
   },
   {
    "duration": 857,
    "start_time": "2024-12-25T22:59:17.160Z"
   },
   {
    "duration": 24,
    "start_time": "2024-12-25T22:59:18.019Z"
   },
   {
    "duration": 144,
    "start_time": "2024-12-25T23:04:58.790Z"
   },
   {
    "duration": 20,
    "start_time": "2024-12-25T23:05:12.770Z"
   },
   {
    "duration": 30,
    "start_time": "2024-12-25T23:05:41.161Z"
   },
   {
    "duration": 6,
    "start_time": "2024-12-25T23:07:55.437Z"
   },
   {
    "duration": 22,
    "start_time": "2024-12-25T23:11:28.863Z"
   },
   {
    "duration": 11,
    "start_time": "2024-12-25T23:28:21.875Z"
   },
   {
    "duration": 32,
    "start_time": "2024-12-25T23:46:20.720Z"
   },
   {
    "duration": 99,
    "start_time": "2024-12-25T23:47:21.104Z"
   },
   {
    "duration": 10,
    "start_time": "2024-12-25T23:49:39.339Z"
   },
   {
    "duration": 27,
    "start_time": "2024-12-25T23:50:58.305Z"
   },
   {
    "duration": 75,
    "start_time": "2024-12-25T23:51:07.095Z"
   },
   {
    "duration": 86,
    "start_time": "2024-12-25T23:51:41.196Z"
   },
   {
    "duration": 8,
    "start_time": "2024-12-25T23:53:02.204Z"
   },
   {
    "duration": 19,
    "start_time": "2024-12-25T23:53:17.915Z"
   },
   {
    "duration": 961,
    "start_time": "2024-12-26T00:12:01.573Z"
   },
   {
    "duration": 405,
    "start_time": "2024-12-26T00:12:02.536Z"
   },
   {
    "duration": 30,
    "start_time": "2024-12-26T00:12:02.943Z"
   },
   {
    "duration": 32,
    "start_time": "2024-12-26T00:12:02.977Z"
   },
   {
    "duration": 100,
    "start_time": "2024-12-26T00:12:03.011Z"
   },
   {
    "duration": 57,
    "start_time": "2024-12-26T00:12:03.112Z"
   },
   {
    "duration": 46,
    "start_time": "2024-12-26T00:12:03.171Z"
   },
   {
    "duration": 28,
    "start_time": "2024-12-26T00:12:03.218Z"
   },
   {
    "duration": 7,
    "start_time": "2024-12-26T00:12:03.248Z"
   },
   {
    "duration": 21,
    "start_time": "2024-12-26T00:12:03.258Z"
   },
   {
    "duration": 52,
    "start_time": "2024-12-26T00:12:03.280Z"
   },
   {
    "duration": 122,
    "start_time": "2024-12-26T00:12:03.334Z"
   },
   {
    "duration": 10,
    "start_time": "2024-12-26T00:12:03.457Z"
   },
   {
    "duration": 45,
    "start_time": "2024-12-26T00:12:03.469Z"
   },
   {
    "duration": 103,
    "start_time": "2024-12-26T00:12:03.516Z"
   },
   {
    "duration": 19,
    "start_time": "2024-12-26T00:12:03.621Z"
   },
   {
    "duration": 7,
    "start_time": "2024-12-26T00:12:03.642Z"
   },
   {
    "duration": 24,
    "start_time": "2024-12-26T00:12:03.650Z"
   },
   {
    "duration": 34,
    "start_time": "2024-12-26T00:12:03.675Z"
   },
   {
    "duration": 33,
    "start_time": "2024-12-26T00:12:03.711Z"
   },
   {
    "duration": 23,
    "start_time": "2024-12-26T00:12:03.746Z"
   },
   {
    "duration": 143,
    "start_time": "2024-12-26T00:12:03.770Z"
   },
   {
    "duration": 25,
    "start_time": "2024-12-26T00:12:03.914Z"
   },
   {
    "duration": 217,
    "start_time": "2024-12-26T00:12:03.941Z"
   },
   {
    "duration": 781,
    "start_time": "2024-12-26T00:12:04.160Z"
   },
   {
    "duration": 21,
    "start_time": "2024-12-26T00:12:04.943Z"
   },
   {
    "duration": 1002,
    "start_time": "2024-12-26T00:56:27.812Z"
   },
   {
    "duration": 405,
    "start_time": "2024-12-26T00:56:28.816Z"
   },
   {
    "duration": 30,
    "start_time": "2024-12-26T00:56:29.222Z"
   },
   {
    "duration": 19,
    "start_time": "2024-12-26T00:56:29.254Z"
   },
   {
    "duration": 105,
    "start_time": "2024-12-26T00:56:29.275Z"
   },
   {
    "duration": 70,
    "start_time": "2024-12-26T00:56:29.382Z"
   },
   {
    "duration": 38,
    "start_time": "2024-12-26T00:56:29.453Z"
   },
   {
    "duration": 35,
    "start_time": "2024-12-26T00:56:29.493Z"
   },
   {
    "duration": 7,
    "start_time": "2024-12-26T00:56:29.529Z"
   },
   {
    "duration": 20,
    "start_time": "2024-12-26T00:56:29.538Z"
   },
   {
    "duration": 51,
    "start_time": "2024-12-26T00:56:29.560Z"
   },
   {
    "duration": 115,
    "start_time": "2024-12-26T00:56:29.613Z"
   },
   {
    "duration": 9,
    "start_time": "2024-12-26T00:56:29.730Z"
   },
   {
    "duration": 20,
    "start_time": "2024-12-26T00:56:29.742Z"
   },
   {
    "duration": 45,
    "start_time": "2024-12-26T00:56:29.764Z"
   },
   {
    "duration": 99,
    "start_time": "2024-12-26T00:56:29.811Z"
   },
   {
    "duration": 20,
    "start_time": "2024-12-26T00:56:29.912Z"
   },
   {
    "duration": 8,
    "start_time": "2024-12-26T00:56:29.933Z"
   },
   {
    "duration": 24,
    "start_time": "2024-12-26T00:56:29.942Z"
   },
   {
    "duration": 12,
    "start_time": "2024-12-26T00:56:29.968Z"
   },
   {
    "duration": 59,
    "start_time": "2024-12-26T00:56:29.982Z"
   },
   {
    "duration": 23,
    "start_time": "2024-12-26T00:56:30.043Z"
   },
   {
    "duration": 146,
    "start_time": "2024-12-26T00:56:30.068Z"
   },
   {
    "duration": 25,
    "start_time": "2024-12-26T00:56:30.216Z"
   },
   {
    "duration": 227,
    "start_time": "2024-12-26T00:56:30.243Z"
   },
   {
    "duration": 769,
    "start_time": "2024-12-26T00:56:30.473Z"
   },
   {
    "duration": 22,
    "start_time": "2024-12-26T00:56:31.243Z"
   },
   {
    "duration": 517,
    "start_time": "2024-12-26T01:13:51.250Z"
   },
   {
    "duration": 1053,
    "start_time": "2024-12-26T01:14:13.250Z"
   },
   {
    "duration": 422,
    "start_time": "2024-12-26T01:14:14.306Z"
   },
   {
    "duration": 32,
    "start_time": "2024-12-26T01:14:14.730Z"
   },
   {
    "duration": 36,
    "start_time": "2024-12-26T01:14:14.765Z"
   },
   {
    "duration": 101,
    "start_time": "2024-12-26T01:14:14.810Z"
   },
   {
    "duration": 68,
    "start_time": "2024-12-26T01:14:14.913Z"
   },
   {
    "duration": 62,
    "start_time": "2024-12-26T01:14:14.983Z"
   },
   {
    "duration": 28,
    "start_time": "2024-12-26T01:14:15.047Z"
   },
   {
    "duration": 8,
    "start_time": "2024-12-26T01:14:15.077Z"
   },
   {
    "duration": 35,
    "start_time": "2024-12-26T01:14:15.089Z"
   },
   {
    "duration": 26,
    "start_time": "2024-12-26T01:14:15.126Z"
   },
   {
    "duration": 135,
    "start_time": "2024-12-26T01:14:15.154Z"
   },
   {
    "duration": 10,
    "start_time": "2024-12-26T01:14:15.290Z"
   },
   {
    "duration": 12,
    "start_time": "2024-12-26T01:14:15.309Z"
   },
   {
    "duration": 25,
    "start_time": "2024-12-26T01:14:15.322Z"
   },
   {
    "duration": 112,
    "start_time": "2024-12-26T01:14:15.349Z"
   },
   {
    "duration": 20,
    "start_time": "2024-12-26T01:14:15.465Z"
   },
   {
    "duration": 22,
    "start_time": "2024-12-26T01:14:15.487Z"
   },
   {
    "duration": 31,
    "start_time": "2024-12-26T01:14:15.510Z"
   },
   {
    "duration": 14,
    "start_time": "2024-12-26T01:14:15.543Z"
   },
   {
    "duration": 52,
    "start_time": "2024-12-26T01:14:15.559Z"
   },
   {
    "duration": 29,
    "start_time": "2024-12-26T01:14:15.613Z"
   },
   {
    "duration": 137,
    "start_time": "2024-12-26T01:14:15.645Z"
   },
   {
    "duration": 33,
    "start_time": "2024-12-26T01:14:15.784Z"
   },
   {
    "duration": 216,
    "start_time": "2024-12-26T01:14:15.819Z"
   },
   {
    "duration": 780,
    "start_time": "2024-12-26T01:14:16.037Z"
   },
   {
    "duration": 20,
    "start_time": "2024-12-26T01:14:16.822Z"
   },
   {
    "duration": 5,
    "start_time": "2024-12-26T01:14:51.872Z"
   },
   {
    "duration": 1162,
    "start_time": "2024-12-26T01:15:26.996Z"
   },
   {
    "duration": 417,
    "start_time": "2024-12-26T01:15:28.160Z"
   },
   {
    "duration": 38,
    "start_time": "2024-12-26T01:15:28.578Z"
   },
   {
    "duration": 20,
    "start_time": "2024-12-26T01:15:28.620Z"
   },
   {
    "duration": 129,
    "start_time": "2024-12-26T01:15:28.642Z"
   },
   {
    "duration": 77,
    "start_time": "2024-12-26T01:15:28.774Z"
   },
   {
    "duration": 43,
    "start_time": "2024-12-26T01:15:28.853Z"
   },
   {
    "duration": 34,
    "start_time": "2024-12-26T01:15:28.898Z"
   },
   {
    "duration": 7,
    "start_time": "2024-12-26T01:15:28.934Z"
   },
   {
    "duration": 21,
    "start_time": "2024-12-26T01:15:28.944Z"
   },
   {
    "duration": 51,
    "start_time": "2024-12-26T01:15:28.969Z"
   },
   {
    "duration": 119,
    "start_time": "2024-12-26T01:15:29.022Z"
   },
   {
    "duration": 11,
    "start_time": "2024-12-26T01:15:29.143Z"
   },
   {
    "duration": 13,
    "start_time": "2024-12-26T01:15:29.156Z"
   },
   {
    "duration": 45,
    "start_time": "2024-12-26T01:15:29.173Z"
   },
   {
    "duration": 101,
    "start_time": "2024-12-26T01:15:29.221Z"
   },
   {
    "duration": 19,
    "start_time": "2024-12-26T01:15:29.324Z"
   },
   {
    "duration": 8,
    "start_time": "2024-12-26T01:15:29.346Z"
   },
   {
    "duration": 27,
    "start_time": "2024-12-26T01:15:29.356Z"
   },
   {
    "duration": 35,
    "start_time": "2024-12-26T01:15:29.384Z"
   },
   {
    "duration": 44,
    "start_time": "2024-12-26T01:15:29.420Z"
   },
   {
    "duration": 22,
    "start_time": "2024-12-26T01:15:29.466Z"
   },
   {
    "duration": 149,
    "start_time": "2024-12-26T01:15:29.490Z"
   },
   {
    "duration": 27,
    "start_time": "2024-12-26T01:15:29.640Z"
   },
   {
    "duration": 288,
    "start_time": "2024-12-26T01:15:29.670Z"
   },
   {
    "duration": 795,
    "start_time": "2024-12-26T01:15:29.962Z"
   },
   {
    "duration": 22,
    "start_time": "2024-12-26T01:15:30.759Z"
   },
   {
    "duration": 14,
    "start_time": "2024-12-26T01:16:37.115Z"
   },
   {
    "duration": 7,
    "start_time": "2024-12-26T01:30:16.147Z"
   },
   {
    "duration": 9,
    "start_time": "2024-12-26T01:30:57.644Z"
   },
   {
    "duration": 9,
    "start_time": "2024-12-26T01:32:00.439Z"
   },
   {
    "duration": 22,
    "start_time": "2024-12-26T01:54:59.123Z"
   },
   {
    "duration": 15,
    "start_time": "2024-12-26T02:00:10.357Z"
   },
   {
    "duration": 25,
    "start_time": "2024-12-26T02:06:55.966Z"
   },
   {
    "duration": 31,
    "start_time": "2024-12-26T02:07:14.584Z"
   },
   {
    "duration": 224,
    "start_time": "2024-12-26T04:57:27.462Z"
   },
   {
    "duration": 8,
    "start_time": "2024-12-26T05:22:15.838Z"
   },
   {
    "duration": 2717,
    "start_time": "2024-12-26T05:22:24.775Z"
   },
   {
    "duration": 482,
    "start_time": "2024-12-26T05:22:27.494Z"
   },
   {
    "duration": 32,
    "start_time": "2024-12-26T05:22:27.978Z"
   },
   {
    "duration": 30,
    "start_time": "2024-12-26T05:22:28.012Z"
   },
   {
    "duration": 101,
    "start_time": "2024-12-26T05:22:28.044Z"
   },
   {
    "duration": 59,
    "start_time": "2024-12-26T05:22:28.147Z"
   },
   {
    "duration": 51,
    "start_time": "2024-12-26T05:22:28.208Z"
   },
   {
    "duration": 27,
    "start_time": "2024-12-26T05:22:28.261Z"
   },
   {
    "duration": 7,
    "start_time": "2024-12-26T05:22:28.290Z"
   },
   {
    "duration": 41,
    "start_time": "2024-12-26T05:22:28.299Z"
   },
   {
    "duration": 24,
    "start_time": "2024-12-26T05:22:28.342Z"
   },
   {
    "duration": 122,
    "start_time": "2024-12-26T05:22:28.368Z"
   },
   {
    "duration": 9,
    "start_time": "2024-12-26T05:22:28.492Z"
   },
   {
    "duration": 21,
    "start_time": "2024-12-26T05:22:28.504Z"
   },
   {
    "duration": 24,
    "start_time": "2024-12-26T05:22:28.526Z"
   },
   {
    "duration": 151,
    "start_time": "2024-12-26T05:22:28.552Z"
   },
   {
    "duration": 20,
    "start_time": "2024-12-26T05:22:28.705Z"
   },
   {
    "duration": 7,
    "start_time": "2024-12-26T05:22:28.726Z"
   },
   {
    "duration": 23,
    "start_time": "2024-12-26T05:22:28.734Z"
   },
   {
    "duration": 8,
    "start_time": "2024-12-26T05:22:28.759Z"
   },
   {
    "duration": 24,
    "start_time": "2024-12-26T05:22:28.769Z"
   },
   {
    "duration": 39,
    "start_time": "2024-12-26T05:22:28.794Z"
   },
   {
    "duration": 33,
    "start_time": "2024-12-26T05:22:28.835Z"
   },
   {
    "duration": 23,
    "start_time": "2024-12-26T05:22:28.870Z"
   },
   {
    "duration": 146,
    "start_time": "2024-12-26T05:22:28.894Z"
   },
   {
    "duration": 24,
    "start_time": "2024-12-26T05:22:29.042Z"
   },
   {
    "duration": 223,
    "start_time": "2024-12-26T05:22:29.068Z"
   },
   {
    "duration": 781,
    "start_time": "2024-12-26T05:22:29.292Z"
   },
   {
    "duration": 3,
    "start_time": "2024-12-26T05:22:30.075Z"
   },
   {
    "duration": 11,
    "start_time": "2024-12-26T05:22:52.107Z"
   },
   {
    "duration": 83,
    "start_time": "2024-12-26T05:23:38.335Z"
   },
   {
    "duration": 10,
    "start_time": "2024-12-26T05:24:20.220Z"
   },
   {
    "duration": 322,
    "start_time": "2024-12-26T06:14:47.649Z"
   },
   {
    "duration": 979,
    "start_time": "2024-12-26T06:15:03.943Z"
   },
   {
    "duration": 405,
    "start_time": "2024-12-26T06:15:04.924Z"
   },
   {
    "duration": 32,
    "start_time": "2024-12-26T06:15:05.331Z"
   },
   {
    "duration": 20,
    "start_time": "2024-12-26T06:15:05.366Z"
   },
   {
    "duration": 109,
    "start_time": "2024-12-26T06:15:05.387Z"
   },
   {
    "duration": 68,
    "start_time": "2024-12-26T06:15:05.498Z"
   },
   {
    "duration": 37,
    "start_time": "2024-12-26T06:15:05.567Z"
   },
   {
    "duration": 35,
    "start_time": "2024-12-26T06:15:05.606Z"
   },
   {
    "duration": 7,
    "start_time": "2024-12-26T06:15:05.644Z"
   },
   {
    "duration": 20,
    "start_time": "2024-12-26T06:15:05.654Z"
   },
   {
    "duration": 25,
    "start_time": "2024-12-26T06:15:05.676Z"
   },
   {
    "duration": 112,
    "start_time": "2024-12-26T06:15:05.724Z"
   },
   {
    "duration": 9,
    "start_time": "2024-12-26T06:15:05.838Z"
   },
   {
    "duration": 12,
    "start_time": "2024-12-26T06:15:05.849Z"
   },
   {
    "duration": 24,
    "start_time": "2024-12-26T06:15:05.863Z"
   },
   {
    "duration": 116,
    "start_time": "2024-12-26T06:15:05.889Z"
   },
   {
    "duration": 20,
    "start_time": "2024-12-26T06:15:06.007Z"
   },
   {
    "duration": 6,
    "start_time": "2024-12-26T06:15:06.029Z"
   },
   {
    "duration": 24,
    "start_time": "2024-12-26T06:15:06.038Z"
   },
   {
    "duration": 9,
    "start_time": "2024-12-26T06:15:06.063Z"
   },
   {
    "duration": 53,
    "start_time": "2024-12-26T06:15:06.073Z"
   },
   {
    "duration": 12,
    "start_time": "2024-12-26T06:15:06.128Z"
   },
   {
    "duration": 32,
    "start_time": "2024-12-26T06:15:06.142Z"
   },
   {
    "duration": 22,
    "start_time": "2024-12-26T06:15:06.177Z"
   },
   {
    "duration": 151,
    "start_time": "2024-12-26T06:15:06.201Z"
   },
   {
    "duration": 24,
    "start_time": "2024-12-26T06:15:06.354Z"
   },
   {
    "duration": 217,
    "start_time": "2024-12-26T06:15:06.381Z"
   },
   {
    "duration": 295,
    "start_time": "2024-12-26T06:15:06.602Z"
   },
   {
    "duration": 14,
    "start_time": "2024-12-26T06:15:56.255Z"
   },
   {
    "duration": 11,
    "start_time": "2024-12-26T06:16:04.596Z"
   },
   {
    "duration": 52,
    "start_time": "2024-12-26T06:38:57.241Z"
   },
   {
    "duration": 50,
    "start_time": "2024-12-26T06:41:12.741Z"
   },
   {
    "duration": 51,
    "start_time": "2024-12-26T06:41:25.271Z"
   },
   {
    "duration": 13,
    "start_time": "2024-12-26T06:42:14.702Z"
   },
   {
    "duration": 14,
    "start_time": "2024-12-26T06:42:22.031Z"
   },
   {
    "duration": 3,
    "start_time": "2024-12-26T06:42:34.330Z"
   },
   {
    "duration": 14,
    "start_time": "2024-12-26T06:42:38.958Z"
   },
   {
    "duration": 5,
    "start_time": "2024-12-26T06:46:01.812Z"
   },
   {
    "duration": 3,
    "start_time": "2024-12-26T06:48:33.050Z"
   },
   {
    "duration": 3,
    "start_time": "2024-12-26T06:48:39.182Z"
   },
   {
    "duration": 3,
    "start_time": "2024-12-26T06:49:56.614Z"
   },
   {
    "duration": 116,
    "start_time": "2024-12-26T06:50:01.525Z"
   },
   {
    "duration": 107,
    "start_time": "2024-12-26T06:50:11.850Z"
   },
   {
    "duration": 2711,
    "start_time": "2024-12-27T06:47:05.121Z"
   },
   {
    "duration": 442,
    "start_time": "2024-12-27T06:47:07.834Z"
   },
   {
    "duration": 40,
    "start_time": "2024-12-27T06:47:08.278Z"
   },
   {
    "duration": 19,
    "start_time": "2024-12-27T06:47:08.321Z"
   },
   {
    "duration": 108,
    "start_time": "2024-12-27T06:47:08.342Z"
   },
   {
    "duration": 78,
    "start_time": "2024-12-27T06:47:08.452Z"
   },
   {
    "duration": 36,
    "start_time": "2024-12-27T06:47:08.531Z"
   },
   {
    "duration": 36,
    "start_time": "2024-12-27T06:47:08.569Z"
   },
   {
    "duration": 7,
    "start_time": "2024-12-27T06:47:08.607Z"
   },
   {
    "duration": 23,
    "start_time": "2024-12-27T06:47:08.618Z"
   },
   {
    "duration": 24,
    "start_time": "2024-12-27T06:47:08.642Z"
   },
   {
    "duration": 198,
    "start_time": "2024-12-27T06:47:08.668Z"
   },
   {
    "duration": 9,
    "start_time": "2024-12-27T06:47:08.868Z"
   },
   {
    "duration": 11,
    "start_time": "2024-12-27T06:47:08.879Z"
   },
   {
    "duration": 24,
    "start_time": "2024-12-27T06:47:08.906Z"
   },
   {
    "duration": 102,
    "start_time": "2024-12-27T06:47:08.932Z"
   },
   {
    "duration": 11,
    "start_time": "2024-12-27T06:47:09.035Z"
   },
   {
    "duration": 6,
    "start_time": "2024-12-27T06:47:09.048Z"
   },
   {
    "duration": 24,
    "start_time": "2024-12-27T06:47:09.056Z"
   },
   {
    "duration": 29,
    "start_time": "2024-12-27T06:47:09.082Z"
   },
   {
    "duration": 23,
    "start_time": "2024-12-27T06:47:09.112Z"
   },
   {
    "duration": 12,
    "start_time": "2024-12-27T06:47:09.137Z"
   },
   {
    "duration": 55,
    "start_time": "2024-12-27T06:47:09.151Z"
   },
   {
    "duration": 23,
    "start_time": "2024-12-27T06:47:09.208Z"
   },
   {
    "duration": 139,
    "start_time": "2024-12-27T06:47:09.233Z"
   },
   {
    "duration": 35,
    "start_time": "2024-12-27T06:47:09.373Z"
   },
   {
    "duration": 222,
    "start_time": "2024-12-27T06:47:09.410Z"
   },
   {
    "duration": 14,
    "start_time": "2024-12-27T06:47:09.636Z"
   },
   {
    "duration": 9,
    "start_time": "2024-12-27T06:47:09.651Z"
   },
   {
    "duration": 73,
    "start_time": "2024-12-27T06:47:09.662Z"
   },
   {
    "duration": 54,
    "start_time": "2024-12-27T06:47:09.736Z"
   },
   {
    "duration": 17,
    "start_time": "2024-12-27T06:47:09.791Z"
   },
   {
    "duration": 130,
    "start_time": "2024-12-27T06:47:09.809Z"
   },
   {
    "duration": 2,
    "start_time": "2024-12-27T06:47:09.941Z"
   },
   {
    "duration": 24,
    "start_time": "2024-12-27T06:48:18.874Z"
   },
   {
    "duration": 39,
    "start_time": "2024-12-27T06:49:15.076Z"
   },
   {
    "duration": 2,
    "start_time": "2024-12-27T06:50:36.823Z"
   },
   {
    "duration": 263,
    "start_time": "2024-12-27T06:50:54.546Z"
   },
   {
    "duration": 9,
    "start_time": "2024-12-27T06:53:49.027Z"
   },
   {
    "duration": 13,
    "start_time": "2024-12-27T06:53:54.627Z"
   },
   {
    "duration": 91,
    "start_time": "2024-12-27T06:54:13.978Z"
   },
   {
    "duration": 518,
    "start_time": "2024-12-27T06:56:08.887Z"
   },
   {
    "duration": 2,
    "start_time": "2024-12-27T07:00:46.491Z"
   },
   {
    "duration": 8006,
    "start_time": "2024-12-27T07:00:48.500Z"
   },
   {
    "duration": 8127,
    "start_time": "2024-12-27T07:05:01.378Z"
   },
   {
    "duration": 13,
    "start_time": "2024-12-27T08:10:18.892Z"
   },
   {
    "duration": 3,
    "start_time": "2024-12-27T08:11:33.646Z"
   },
   {
    "duration": 3,
    "start_time": "2024-12-27T08:11:39.307Z"
   },
   {
    "duration": 3,
    "start_time": "2024-12-27T08:11:43.813Z"
   },
   {
    "duration": 2,
    "start_time": "2024-12-27T08:12:39.025Z"
   },
   {
    "duration": 237,
    "start_time": "2024-12-27T08:14:29.235Z"
   },
   {
    "duration": 14,
    "start_time": "2024-12-27T08:14:38.689Z"
   },
   {
    "duration": 14,
    "start_time": "2024-12-27T08:15:10.737Z"
   },
   {
    "duration": 390,
    "start_time": "2024-12-27T08:16:07.510Z"
   },
   {
    "duration": 24,
    "start_time": "2024-12-27T08:26:27.592Z"
   },
   {
    "duration": 532,
    "start_time": "2024-12-27T08:29:43.739Z"
   },
   {
    "duration": 17,
    "start_time": "2024-12-27T08:29:55.208Z"
   },
   {
    "duration": 23,
    "start_time": "2024-12-27T08:34:39.637Z"
   },
   {
    "duration": 41,
    "start_time": "2024-12-27T08:35:52.504Z"
   },
   {
    "duration": 13,
    "start_time": "2024-12-27T08:39:24.457Z"
   },
   {
    "duration": 965,
    "start_time": "2024-12-27T08:54:57.551Z"
   },
   {
    "duration": 410,
    "start_time": "2024-12-27T08:54:58.518Z"
   },
   {
    "duration": 30,
    "start_time": "2024-12-27T08:54:58.929Z"
   },
   {
    "duration": 19,
    "start_time": "2024-12-27T08:54:58.961Z"
   },
   {
    "duration": 107,
    "start_time": "2024-12-27T08:54:58.981Z"
   },
   {
    "duration": 67,
    "start_time": "2024-12-27T08:54:59.089Z"
   },
   {
    "duration": 48,
    "start_time": "2024-12-27T08:54:59.158Z"
   },
   {
    "duration": 22,
    "start_time": "2024-12-27T08:54:59.207Z"
   },
   {
    "duration": 7,
    "start_time": "2024-12-27T08:54:59.231Z"
   },
   {
    "duration": 22,
    "start_time": "2024-12-27T08:54:59.241Z"
   },
   {
    "duration": 49,
    "start_time": "2024-12-27T08:54:59.265Z"
   },
   {
    "duration": 116,
    "start_time": "2024-12-27T08:54:59.316Z"
   },
   {
    "duration": 9,
    "start_time": "2024-12-27T08:54:59.434Z"
   },
   {
    "duration": 11,
    "start_time": "2024-12-27T08:54:59.445Z"
   },
   {
    "duration": 24,
    "start_time": "2024-12-27T08:54:59.458Z"
   },
   {
    "duration": 120,
    "start_time": "2024-12-27T08:54:59.484Z"
   },
   {
    "duration": 12,
    "start_time": "2024-12-27T08:54:59.606Z"
   },
   {
    "duration": 6,
    "start_time": "2024-12-27T08:54:59.620Z"
   },
   {
    "duration": 25,
    "start_time": "2024-12-27T08:54:59.628Z"
   },
   {
    "duration": 8,
    "start_time": "2024-12-27T08:54:59.655Z"
   },
   {
    "duration": 53,
    "start_time": "2024-12-27T08:54:59.664Z"
   },
   {
    "duration": 13,
    "start_time": "2024-12-27T08:54:59.719Z"
   },
   {
    "duration": 32,
    "start_time": "2024-12-27T08:54:59.735Z"
   },
   {
    "duration": 38,
    "start_time": "2024-12-27T08:54:59.768Z"
   },
   {
    "duration": 135,
    "start_time": "2024-12-27T08:54:59.807Z"
   },
   {
    "duration": 24,
    "start_time": "2024-12-27T08:54:59.944Z"
   },
   {
    "duration": 235,
    "start_time": "2024-12-27T08:54:59.970Z"
   },
   {
    "duration": 14,
    "start_time": "2024-12-27T08:55:00.209Z"
   },
   {
    "duration": 10,
    "start_time": "2024-12-27T08:55:00.224Z"
   },
   {
    "duration": 50,
    "start_time": "2024-12-27T08:55:00.235Z"
   },
   {
    "duration": 50,
    "start_time": "2024-12-27T08:55:00.306Z"
   },
   {
    "duration": 4,
    "start_time": "2024-12-27T08:55:00.358Z"
   },
   {
    "duration": 134,
    "start_time": "2024-12-27T08:55:00.364Z"
   },
   {
    "duration": 285,
    "start_time": "2024-12-27T08:55:00.499Z"
   },
   {
    "duration": 97,
    "start_time": "2024-12-27T08:55:00.786Z"
   },
   {
    "duration": 479,
    "start_time": "2024-12-27T08:55:00.884Z"
   },
   {
    "duration": 3,
    "start_time": "2024-12-27T08:55:01.364Z"
   },
   {
    "duration": 7947,
    "start_time": "2024-12-27T08:55:01.368Z"
   },
   {
    "duration": 91,
    "start_time": "2024-12-27T08:55:09.317Z"
   },
   {
    "duration": 532,
    "start_time": "2024-12-27T08:55:09.410Z"
   },
   {
    "duration": 15,
    "start_time": "2024-12-27T08:55:09.944Z"
   },
   {
    "duration": 61,
    "start_time": "2024-12-27T08:55:09.961Z"
   },
   {
    "duration": 45588,
    "start_time": "2024-12-27T08:55:10.023Z"
   },
   {
    "duration": 293,
    "start_time": "2024-12-27T08:55:55.613Z"
   },
   {
    "duration": 0,
    "start_time": "2024-12-27T08:55:55.907Z"
   },
   {
    "duration": 3,
    "start_time": "2024-12-27T08:56:08.220Z"
   },
   {
    "duration": 77128,
    "start_time": "2024-12-27T08:56:42.992Z"
   },
   {
    "duration": 3,
    "start_time": "2024-12-27T08:58:04.545Z"
   },
   {
    "duration": 385807,
    "start_time": "2024-12-27T08:59:54.575Z"
   },
   {
    "duration": 37993,
    "start_time": "2024-12-27T09:08:19.337Z"
   },
   {
    "duration": 2,
    "start_time": "2024-12-27T09:09:29.113Z"
   },
   {
    "duration": 7603,
    "start_time": "2024-12-27T09:09:55.472Z"
   },
   {
    "duration": 5794,
    "start_time": "2024-12-27T09:10:14.241Z"
   },
   {
    "duration": 2683,
    "start_time": "2024-12-27T16:56:01.605Z"
   },
   {
    "duration": 459,
    "start_time": "2024-12-27T16:56:04.290Z"
   },
   {
    "duration": 29,
    "start_time": "2024-12-27T16:56:04.751Z"
   },
   {
    "duration": 19,
    "start_time": "2024-12-27T16:56:04.783Z"
   },
   {
    "duration": 104,
    "start_time": "2024-12-27T16:56:04.803Z"
   },
   {
    "duration": 72,
    "start_time": "2024-12-27T16:56:04.908Z"
   },
   {
    "duration": 36,
    "start_time": "2024-12-27T16:56:04.981Z"
   },
   {
    "duration": 20,
    "start_time": "2024-12-27T16:56:05.019Z"
   },
   {
    "duration": 7,
    "start_time": "2024-12-27T16:56:05.041Z"
   },
   {
    "duration": 38,
    "start_time": "2024-12-27T16:56:05.051Z"
   },
   {
    "duration": 25,
    "start_time": "2024-12-27T16:56:05.091Z"
   },
   {
    "duration": 124,
    "start_time": "2024-12-27T16:56:05.118Z"
   },
   {
    "duration": 10,
    "start_time": "2024-12-27T16:56:05.244Z"
   },
   {
    "duration": 24,
    "start_time": "2024-12-27T16:56:05.255Z"
   },
   {
    "duration": 24,
    "start_time": "2024-12-27T16:56:05.281Z"
   },
   {
    "duration": 159,
    "start_time": "2024-12-27T16:56:05.306Z"
   },
   {
    "duration": 12,
    "start_time": "2024-12-27T16:56:05.470Z"
   },
   {
    "duration": 7,
    "start_time": "2024-12-27T16:56:05.484Z"
   },
   {
    "duration": 24,
    "start_time": "2024-12-27T16:56:05.492Z"
   },
   {
    "duration": 8,
    "start_time": "2024-12-27T16:56:05.518Z"
   },
   {
    "duration": 53,
    "start_time": "2024-12-27T16:56:05.528Z"
   },
   {
    "duration": 13,
    "start_time": "2024-12-27T16:56:05.582Z"
   },
   {
    "duration": 33,
    "start_time": "2024-12-27T16:56:05.596Z"
   },
   {
    "duration": 43,
    "start_time": "2024-12-27T16:56:05.631Z"
   },
   {
    "duration": 127,
    "start_time": "2024-12-27T16:56:05.677Z"
   },
   {
    "duration": 27,
    "start_time": "2024-12-27T16:56:05.806Z"
   },
   {
    "duration": 218,
    "start_time": "2024-12-27T16:56:05.835Z"
   },
   {
    "duration": 18,
    "start_time": "2024-12-27T16:56:06.057Z"
   },
   {
    "duration": 9,
    "start_time": "2024-12-27T16:56:06.077Z"
   },
   {
    "duration": 52,
    "start_time": "2024-12-27T16:56:06.088Z"
   },
   {
    "duration": 71,
    "start_time": "2024-12-27T16:56:06.141Z"
   },
   {
    "duration": 5,
    "start_time": "2024-12-27T16:56:06.214Z"
   },
   {
    "duration": 123,
    "start_time": "2024-12-27T16:56:06.222Z"
   },
   {
    "duration": 301,
    "start_time": "2024-12-27T16:56:06.347Z"
   },
   {
    "duration": 100,
    "start_time": "2024-12-27T16:56:06.650Z"
   },
   {
    "duration": 484,
    "start_time": "2024-12-27T16:56:06.752Z"
   },
   {
    "duration": 2,
    "start_time": "2024-12-27T16:56:07.238Z"
   },
   {
    "duration": 7929,
    "start_time": "2024-12-27T16:56:07.242Z"
   },
   {
    "duration": 15,
    "start_time": "2024-12-27T16:56:15.173Z"
   },
   {
    "duration": 595,
    "start_time": "2024-12-27T16:56:15.190Z"
   },
   {
    "duration": 16,
    "start_time": "2024-12-27T16:56:15.786Z"
   },
   {
    "duration": 52,
    "start_time": "2024-12-27T16:56:15.804Z"
   },
   {
    "duration": 956,
    "start_time": "2024-12-27T17:01:38.531Z"
   },
   {
    "duration": 405,
    "start_time": "2024-12-27T17:01:39.489Z"
   },
   {
    "duration": 31,
    "start_time": "2024-12-27T17:01:39.896Z"
   },
   {
    "duration": 20,
    "start_time": "2024-12-27T17:01:39.929Z"
   },
   {
    "duration": 112,
    "start_time": "2024-12-27T17:01:39.951Z"
   },
   {
    "duration": 57,
    "start_time": "2024-12-27T17:01:40.071Z"
   },
   {
    "duration": 50,
    "start_time": "2024-12-27T17:01:40.129Z"
   },
   {
    "duration": 20,
    "start_time": "2024-12-27T17:01:40.181Z"
   },
   {
    "duration": 8,
    "start_time": "2024-12-27T17:01:40.203Z"
   },
   {
    "duration": 20,
    "start_time": "2024-12-27T17:01:40.213Z"
   },
   {
    "duration": 50,
    "start_time": "2024-12-27T17:01:40.235Z"
   },
   {
    "duration": 116,
    "start_time": "2024-12-27T17:01:40.287Z"
   },
   {
    "duration": 11,
    "start_time": "2024-12-27T17:01:40.405Z"
   },
   {
    "duration": 11,
    "start_time": "2024-12-27T17:01:40.419Z"
   },
   {
    "duration": 41,
    "start_time": "2024-12-27T17:01:40.432Z"
   },
   {
    "duration": 102,
    "start_time": "2024-12-27T17:01:40.475Z"
   },
   {
    "duration": 12,
    "start_time": "2024-12-27T17:01:40.578Z"
   },
   {
    "duration": 6,
    "start_time": "2024-12-27T17:01:40.591Z"
   },
   {
    "duration": 26,
    "start_time": "2024-12-27T17:01:40.598Z"
   },
   {
    "duration": 9,
    "start_time": "2024-12-27T17:01:40.625Z"
   },
   {
    "duration": 53,
    "start_time": "2024-12-27T17:01:40.635Z"
   },
   {
    "duration": 12,
    "start_time": "2024-12-27T17:01:40.691Z"
   },
   {
    "duration": 33,
    "start_time": "2024-12-27T17:01:40.704Z"
   },
   {
    "duration": 40,
    "start_time": "2024-12-27T17:01:40.739Z"
   },
   {
    "duration": 136,
    "start_time": "2024-12-27T17:01:40.781Z"
   },
   {
    "duration": 26,
    "start_time": "2024-12-27T17:01:40.919Z"
   },
   {
    "duration": 224,
    "start_time": "2024-12-27T17:01:40.947Z"
   },
   {
    "duration": 14,
    "start_time": "2024-12-27T17:01:41.174Z"
   },
   {
    "duration": 9,
    "start_time": "2024-12-27T17:01:41.190Z"
   },
   {
    "duration": 70,
    "start_time": "2024-12-27T17:01:41.202Z"
   },
   {
    "duration": 51,
    "start_time": "2024-12-27T17:01:41.274Z"
   },
   {
    "duration": 5,
    "start_time": "2024-12-27T17:01:41.326Z"
   },
   {
    "duration": 130,
    "start_time": "2024-12-27T17:01:41.332Z"
   },
   {
    "duration": 276,
    "start_time": "2024-12-27T17:01:41.465Z"
   },
   {
    "duration": 97,
    "start_time": "2024-12-27T17:01:41.743Z"
   },
   {
    "duration": 449,
    "start_time": "2024-12-27T17:01:41.842Z"
   },
   {
    "duration": 7779,
    "start_time": "2024-12-27T17:01:42.292Z"
   },
   {
    "duration": 16,
    "start_time": "2024-12-27T17:01:50.073Z"
   },
   {
    "duration": 605,
    "start_time": "2024-12-27T17:01:50.091Z"
   },
   {
    "duration": 16,
    "start_time": "2024-12-27T17:01:50.698Z"
   },
   {
    "duration": 65,
    "start_time": "2024-12-27T17:01:50.719Z"
   },
   {
    "duration": 1012,
    "start_time": "2024-12-27T17:02:01.379Z"
   },
   {
    "duration": 398,
    "start_time": "2024-12-27T17:02:02.393Z"
   },
   {
    "duration": 30,
    "start_time": "2024-12-27T17:02:02.792Z"
   },
   {
    "duration": 19,
    "start_time": "2024-12-27T17:02:02.826Z"
   },
   {
    "duration": 103,
    "start_time": "2024-12-27T17:02:02.846Z"
   },
   {
    "duration": 71,
    "start_time": "2024-12-27T17:02:02.951Z"
   },
   {
    "duration": 47,
    "start_time": "2024-12-27T17:02:03.023Z"
   },
   {
    "duration": 21,
    "start_time": "2024-12-27T17:02:03.072Z"
   },
   {
    "duration": 7,
    "start_time": "2024-12-27T17:02:03.095Z"
   },
   {
    "duration": 26,
    "start_time": "2024-12-27T17:02:03.105Z"
   },
   {
    "duration": 46,
    "start_time": "2024-12-27T17:02:03.133Z"
   },
   {
    "duration": 115,
    "start_time": "2024-12-27T17:02:03.181Z"
   },
   {
    "duration": 10,
    "start_time": "2024-12-27T17:02:03.297Z"
   },
   {
    "duration": 11,
    "start_time": "2024-12-27T17:02:03.310Z"
   },
   {
    "duration": 24,
    "start_time": "2024-12-27T17:02:03.323Z"
   },
   {
    "duration": 90,
    "start_time": "2024-12-27T17:02:03.370Z"
   },
   {
    "duration": 12,
    "start_time": "2024-12-27T17:02:03.471Z"
   },
   {
    "duration": 7,
    "start_time": "2024-12-27T17:02:03.484Z"
   },
   {
    "duration": 26,
    "start_time": "2024-12-27T17:02:03.493Z"
   },
   {
    "duration": 8,
    "start_time": "2024-12-27T17:02:03.521Z"
   },
   {
    "duration": 53,
    "start_time": "2024-12-27T17:02:03.530Z"
   },
   {
    "duration": 12,
    "start_time": "2024-12-27T17:02:03.585Z"
   },
   {
    "duration": 35,
    "start_time": "2024-12-27T17:02:03.598Z"
   },
   {
    "duration": 43,
    "start_time": "2024-12-27T17:02:03.635Z"
   },
   {
    "duration": 127,
    "start_time": "2024-12-27T17:02:03.680Z"
   },
   {
    "duration": 26,
    "start_time": "2024-12-27T17:02:03.809Z"
   },
   {
    "duration": 222,
    "start_time": "2024-12-27T17:02:03.836Z"
   },
   {
    "duration": 18,
    "start_time": "2024-12-27T17:02:04.063Z"
   },
   {
    "duration": 10,
    "start_time": "2024-12-27T17:02:04.082Z"
   },
   {
    "duration": 50,
    "start_time": "2024-12-27T17:02:04.094Z"
   },
   {
    "duration": 70,
    "start_time": "2024-12-27T17:02:04.146Z"
   },
   {
    "duration": 5,
    "start_time": "2024-12-27T17:02:04.218Z"
   },
   {
    "duration": 125,
    "start_time": "2024-12-27T17:02:04.224Z"
   },
   {
    "duration": 279,
    "start_time": "2024-12-27T17:02:04.351Z"
   },
   {
    "duration": 100,
    "start_time": "2024-12-27T17:02:04.632Z"
   },
   {
    "duration": 455,
    "start_time": "2024-12-27T17:02:04.734Z"
   },
   {
    "duration": 7988,
    "start_time": "2024-12-27T17:02:05.190Z"
   },
   {
    "duration": 91,
    "start_time": "2024-12-27T17:02:13.179Z"
   },
   {
    "duration": 535,
    "start_time": "2024-12-27T17:02:13.272Z"
   },
   {
    "duration": 17,
    "start_time": "2024-12-27T17:02:13.809Z"
   },
   {
    "duration": 59,
    "start_time": "2024-12-27T17:02:13.827Z"
   },
   {
    "duration": 981,
    "start_time": "2024-12-27T17:04:21.938Z"
   },
   {
    "duration": 412,
    "start_time": "2024-12-27T17:04:22.921Z"
   },
   {
    "duration": 37,
    "start_time": "2024-12-27T17:04:23.335Z"
   },
   {
    "duration": 21,
    "start_time": "2024-12-27T17:04:23.375Z"
   },
   {
    "duration": 107,
    "start_time": "2024-12-27T17:04:23.399Z"
   },
   {
    "duration": 68,
    "start_time": "2024-12-27T17:04:23.508Z"
   },
   {
    "duration": 37,
    "start_time": "2024-12-27T17:04:23.578Z"
   },
   {
    "duration": 28,
    "start_time": "2024-12-27T17:04:23.617Z"
   },
   {
    "duration": 25,
    "start_time": "2024-12-27T17:04:23.647Z"
   },
   {
    "duration": 30,
    "start_time": "2024-12-27T17:04:23.675Z"
   },
   {
    "duration": 26,
    "start_time": "2024-12-27T17:04:23.708Z"
   },
   {
    "duration": 126,
    "start_time": "2024-12-27T17:04:23.736Z"
   },
   {
    "duration": 9,
    "start_time": "2024-12-27T17:04:23.871Z"
   },
   {
    "duration": 11,
    "start_time": "2024-12-27T17:04:23.882Z"
   },
   {
    "duration": 24,
    "start_time": "2024-12-27T17:04:23.895Z"
   },
   {
    "duration": 115,
    "start_time": "2024-12-27T17:04:23.921Z"
   },
   {
    "duration": 11,
    "start_time": "2024-12-27T17:04:24.038Z"
   },
   {
    "duration": 23,
    "start_time": "2024-12-27T17:04:24.050Z"
   },
   {
    "duration": 25,
    "start_time": "2024-12-27T17:04:24.074Z"
   },
   {
    "duration": 9,
    "start_time": "2024-12-27T17:04:24.101Z"
   },
   {
    "duration": 24,
    "start_time": "2024-12-27T17:04:24.111Z"
   },
   {
    "duration": 34,
    "start_time": "2024-12-27T17:04:24.137Z"
   },
   {
    "duration": 33,
    "start_time": "2024-12-27T17:04:24.172Z"
   },
   {
    "duration": 23,
    "start_time": "2024-12-27T17:04:24.206Z"
   },
   {
    "duration": 144,
    "start_time": "2024-12-27T17:04:24.231Z"
   },
   {
    "duration": 28,
    "start_time": "2024-12-27T17:04:24.377Z"
   },
   {
    "duration": 228,
    "start_time": "2024-12-27T17:04:24.406Z"
   },
   {
    "duration": 13,
    "start_time": "2024-12-27T17:04:24.638Z"
   },
   {
    "duration": 18,
    "start_time": "2024-12-27T17:04:24.653Z"
   },
   {
    "duration": 51,
    "start_time": "2024-12-27T17:04:24.673Z"
   },
   {
    "duration": 73,
    "start_time": "2024-12-27T17:04:24.725Z"
   },
   {
    "duration": 4,
    "start_time": "2024-12-27T17:04:24.800Z"
   },
   {
    "duration": 118,
    "start_time": "2024-12-27T17:04:24.806Z"
   },
   {
    "duration": 278,
    "start_time": "2024-12-27T17:04:24.926Z"
   },
   {
    "duration": 98,
    "start_time": "2024-12-27T17:04:25.206Z"
   },
   {
    "duration": 464,
    "start_time": "2024-12-27T17:04:25.306Z"
   },
   {
    "duration": 7897,
    "start_time": "2024-12-27T17:04:25.773Z"
   },
   {
    "duration": 16,
    "start_time": "2024-12-27T17:04:33.673Z"
   },
   {
    "duration": 591,
    "start_time": "2024-12-27T17:04:33.695Z"
   },
   {
    "duration": 15,
    "start_time": "2024-12-27T17:04:34.288Z"
   },
   {
    "duration": 52,
    "start_time": "2024-12-27T17:04:34.304Z"
   },
   {
    "duration": 5800,
    "start_time": "2024-12-27T17:04:34.370Z"
   },
   {
    "duration": 464579,
    "start_time": "2024-12-27T17:04:40.172Z"
   },
   {
    "duration": 2827,
    "start_time": "2024-12-27T23:34:22.455Z"
   },
   {
    "duration": 472,
    "start_time": "2024-12-27T23:34:25.285Z"
   },
   {
    "duration": 32,
    "start_time": "2024-12-27T23:34:25.760Z"
   },
   {
    "duration": 19,
    "start_time": "2024-12-27T23:34:25.794Z"
   },
   {
    "duration": 104,
    "start_time": "2024-12-27T23:34:25.815Z"
   },
   {
    "duration": 66,
    "start_time": "2024-12-27T23:34:25.921Z"
   },
   {
    "duration": 50,
    "start_time": "2024-12-27T23:34:25.988Z"
   },
   {
    "duration": 33,
    "start_time": "2024-12-27T23:34:26.040Z"
   },
   {
    "duration": 7,
    "start_time": "2024-12-27T23:34:26.076Z"
   },
   {
    "duration": 22,
    "start_time": "2024-12-27T23:34:26.086Z"
   },
   {
    "duration": 46,
    "start_time": "2024-12-27T23:34:26.110Z"
   },
   {
    "duration": 125,
    "start_time": "2024-12-27T23:34:26.158Z"
   },
   {
    "duration": 9,
    "start_time": "2024-12-27T23:34:26.285Z"
   },
   {
    "duration": 12,
    "start_time": "2024-12-27T23:34:26.296Z"
   },
   {
    "duration": 45,
    "start_time": "2024-12-27T23:34:26.309Z"
   },
   {
    "duration": 161,
    "start_time": "2024-12-27T23:34:26.355Z"
   },
   {
    "duration": 21,
    "start_time": "2024-12-27T23:34:26.518Z"
   },
   {
    "duration": 7,
    "start_time": "2024-12-27T23:34:26.541Z"
   },
   {
    "duration": 26,
    "start_time": "2024-12-27T23:34:26.549Z"
   },
   {
    "duration": 10,
    "start_time": "2024-12-27T23:34:26.577Z"
   },
   {
    "duration": 50,
    "start_time": "2024-12-27T23:34:26.588Z"
   },
   {
    "duration": 13,
    "start_time": "2024-12-27T23:34:26.640Z"
   },
   {
    "duration": 36,
    "start_time": "2024-12-27T23:34:26.654Z"
   },
   {
    "duration": 40,
    "start_time": "2024-12-27T23:34:26.692Z"
   },
   {
    "duration": 140,
    "start_time": "2024-12-27T23:34:26.734Z"
   },
   {
    "duration": 28,
    "start_time": "2024-12-27T23:34:26.878Z"
   },
   {
    "duration": 239,
    "start_time": "2024-12-27T23:34:26.907Z"
   },
   {
    "duration": 14,
    "start_time": "2024-12-27T23:34:27.151Z"
   },
   {
    "duration": 11,
    "start_time": "2024-12-27T23:34:27.167Z"
   },
   {
    "duration": 71,
    "start_time": "2024-12-27T23:34:27.179Z"
   },
   {
    "duration": 50,
    "start_time": "2024-12-27T23:34:27.252Z"
   },
   {
    "duration": 5,
    "start_time": "2024-12-27T23:34:27.304Z"
   },
   {
    "duration": 132,
    "start_time": "2024-12-27T23:34:27.310Z"
   },
   {
    "duration": 296,
    "start_time": "2024-12-27T23:34:27.444Z"
   },
   {
    "duration": 108,
    "start_time": "2024-12-27T23:34:27.741Z"
   },
   {
    "duration": 488,
    "start_time": "2024-12-27T23:34:27.851Z"
   },
   {
    "duration": 8395,
    "start_time": "2024-12-27T23:34:28.342Z"
   },
   {
    "duration": 93,
    "start_time": "2024-12-27T23:34:36.739Z"
   },
   {
    "duration": 542,
    "start_time": "2024-12-27T23:34:36.835Z"
   },
   {
    "duration": 18,
    "start_time": "2024-12-27T23:34:37.379Z"
   },
   {
    "duration": 65,
    "start_time": "2024-12-27T23:34:37.399Z"
   },
   {
    "duration": 6194,
    "start_time": "2024-12-27T23:34:37.466Z"
   },
   {
    "duration": 237,
    "start_time": "2024-12-27T23:34:43.663Z"
   },
   {
    "duration": 0,
    "start_time": "2024-12-27T23:34:43.901Z"
   },
   {
    "duration": 5,
    "start_time": "2024-12-28T00:02:21.123Z"
   },
   {
    "duration": 40171,
    "start_time": "2024-12-28T00:02:55.799Z"
   },
   {
    "duration": 45,
    "start_time": "2024-12-28T01:37:54.379Z"
   },
   {
    "duration": 483176,
    "start_time": "2024-12-28T02:03:27.093Z"
   },
   {
    "duration": 14,
    "start_time": "2024-12-28T02:22:23.757Z"
   },
   {
    "duration": 17,
    "start_time": "2024-12-28T03:25:45.147Z"
   },
   {
    "duration": 14,
    "start_time": "2024-12-28T03:27:15.486Z"
   },
   {
    "duration": 14,
    "start_time": "2024-12-28T03:27:16.956Z"
   },
   {
    "duration": 68,
    "start_time": "2024-12-28T03:27:28.042Z"
   },
   {
    "duration": 53,
    "start_time": "2024-12-28T03:29:17.359Z"
   },
   {
    "duration": 518,
    "start_time": "2024-12-28T03:29:48.703Z"
   },
   {
    "duration": 98,
    "start_time": "2024-12-28T03:34:39.836Z"
   },
   {
    "duration": 2870,
    "start_time": "2024-12-28T03:34:41.769Z"
   },
   {
    "duration": 111,
    "start_time": "2024-12-28T03:34:56.525Z"
   },
   {
    "duration": 1056,
    "start_time": "2024-12-28T03:37:03.532Z"
   },
   {
    "duration": 410,
    "start_time": "2024-12-28T03:37:04.590Z"
   },
   {
    "duration": 36,
    "start_time": "2024-12-28T03:37:05.002Z"
   },
   {
    "duration": 21,
    "start_time": "2024-12-28T03:37:05.040Z"
   },
   {
    "duration": 108,
    "start_time": "2024-12-28T03:37:05.064Z"
   },
   {
    "duration": 67,
    "start_time": "2024-12-28T03:37:05.174Z"
   },
   {
    "duration": 37,
    "start_time": "2024-12-28T03:37:05.242Z"
   },
   {
    "duration": 22,
    "start_time": "2024-12-28T03:37:05.281Z"
   },
   {
    "duration": 26,
    "start_time": "2024-12-28T03:37:05.305Z"
   },
   {
    "duration": 23,
    "start_time": "2024-12-28T03:37:05.333Z"
   },
   {
    "duration": 26,
    "start_time": "2024-12-28T03:37:05.358Z"
   },
   {
    "duration": 128,
    "start_time": "2024-12-28T03:37:05.385Z"
   },
   {
    "duration": 22,
    "start_time": "2024-12-28T03:37:05.515Z"
   },
   {
    "duration": 12,
    "start_time": "2024-12-28T03:37:05.541Z"
   },
   {
    "duration": 24,
    "start_time": "2024-12-28T03:37:05.554Z"
   },
   {
    "duration": 106,
    "start_time": "2024-12-28T03:37:05.580Z"
   },
   {
    "duration": 13,
    "start_time": "2024-12-28T03:37:05.688Z"
   },
   {
    "duration": 7,
    "start_time": "2024-12-28T03:37:05.702Z"
   },
   {
    "duration": 45,
    "start_time": "2024-12-28T03:37:05.710Z"
   },
   {
    "duration": 8,
    "start_time": "2024-12-28T03:37:05.757Z"
   },
   {
    "duration": 25,
    "start_time": "2024-12-28T03:37:05.767Z"
   },
   {
    "duration": 13,
    "start_time": "2024-12-28T03:37:05.794Z"
   },
   {
    "duration": 57,
    "start_time": "2024-12-28T03:37:05.808Z"
   },
   {
    "duration": 24,
    "start_time": "2024-12-28T03:37:05.867Z"
   },
   {
    "duration": 143,
    "start_time": "2024-12-28T03:37:05.893Z"
   },
   {
    "duration": 26,
    "start_time": "2024-12-28T03:37:06.037Z"
   },
   {
    "duration": 222,
    "start_time": "2024-12-28T03:37:06.065Z"
   },
   {
    "duration": 14,
    "start_time": "2024-12-28T03:37:06.288Z"
   },
   {
    "duration": 11,
    "start_time": "2024-12-28T03:37:06.304Z"
   },
   {
    "duration": 50,
    "start_time": "2024-12-28T03:37:06.332Z"
   },
   {
    "duration": 59,
    "start_time": "2024-12-28T03:37:06.384Z"
   },
   {
    "duration": 5,
    "start_time": "2024-12-28T03:37:06.445Z"
   },
   {
    "duration": 135,
    "start_time": "2024-12-28T03:37:06.452Z"
   },
   {
    "duration": 295,
    "start_time": "2024-12-28T03:37:06.589Z"
   },
   {
    "duration": 106,
    "start_time": "2024-12-28T03:37:06.885Z"
   },
   {
    "duration": 448,
    "start_time": "2024-12-28T03:37:06.993Z"
   },
   {
    "duration": 9291,
    "start_time": "2024-12-28T03:37:07.442Z"
   },
   {
    "duration": 21,
    "start_time": "2024-12-28T03:37:16.735Z"
   },
   {
    "duration": 560,
    "start_time": "2024-12-28T03:37:16.832Z"
   },
   {
    "duration": 19,
    "start_time": "2024-12-28T03:37:17.395Z"
   },
   {
    "duration": 67,
    "start_time": "2024-12-28T03:37:17.430Z"
   },
   {
    "duration": 354,
    "start_time": "2024-12-28T03:37:17.499Z"
   },
   {
    "duration": 0,
    "start_time": "2024-12-28T03:37:17.855Z"
   },
   {
    "duration": 0,
    "start_time": "2024-12-28T03:37:17.856Z"
   },
   {
    "duration": 0,
    "start_time": "2024-12-28T03:37:17.858Z"
   },
   {
    "duration": 0,
    "start_time": "2024-12-28T03:37:17.859Z"
   },
   {
    "duration": 0,
    "start_time": "2024-12-28T03:37:17.860Z"
   },
   {
    "duration": 0,
    "start_time": "2024-12-28T03:37:17.861Z"
   },
   {
    "duration": 0,
    "start_time": "2024-12-28T03:37:17.865Z"
   },
   {
    "duration": 0,
    "start_time": "2024-12-28T03:37:17.866Z"
   },
   {
    "duration": 1,
    "start_time": "2024-12-28T03:37:17.867Z"
   },
   {
    "duration": 0,
    "start_time": "2024-12-28T03:37:17.871Z"
   },
   {
    "duration": 40043,
    "start_time": "2024-12-28T03:37:28.295Z"
   },
   {
    "duration": 14,
    "start_time": "2024-12-28T03:38:20.038Z"
   },
   {
    "duration": 99,
    "start_time": "2024-12-28T03:38:21.637Z"
   },
   {
    "duration": 21,
    "start_time": "2024-12-28T03:38:23.798Z"
   },
   {
    "duration": 5,
    "start_time": "2024-12-28T03:38:31.212Z"
   },
   {
    "duration": 35,
    "start_time": "2024-12-28T03:38:32.582Z"
   },
   {
    "duration": 13,
    "start_time": "2024-12-28T03:38:35.665Z"
   },
   {
    "duration": 1070,
    "start_time": "2024-12-28T03:39:09.979Z"
   },
   {
    "duration": 414,
    "start_time": "2024-12-28T03:39:11.052Z"
   },
   {
    "duration": 32,
    "start_time": "2024-12-28T03:39:11.467Z"
   },
   {
    "duration": 32,
    "start_time": "2024-12-28T03:39:11.501Z"
   },
   {
    "duration": 99,
    "start_time": "2024-12-28T03:39:11.535Z"
   },
   {
    "duration": 65,
    "start_time": "2024-12-28T03:39:11.636Z"
   },
   {
    "duration": 50,
    "start_time": "2024-12-28T03:39:11.703Z"
   },
   {
    "duration": 27,
    "start_time": "2024-12-28T03:39:11.755Z"
   },
   {
    "duration": 8,
    "start_time": "2024-12-28T03:39:11.784Z"
   },
   {
    "duration": 39,
    "start_time": "2024-12-28T03:39:11.796Z"
   },
   {
    "duration": 25,
    "start_time": "2024-12-28T03:39:11.837Z"
   },
   {
    "duration": 129,
    "start_time": "2024-12-28T03:39:11.864Z"
   },
   {
    "duration": 10,
    "start_time": "2024-12-28T03:39:11.995Z"
   },
   {
    "duration": 26,
    "start_time": "2024-12-28T03:39:12.006Z"
   },
   {
    "duration": 26,
    "start_time": "2024-12-28T03:39:12.034Z"
   },
   {
    "duration": 107,
    "start_time": "2024-12-28T03:39:12.062Z"
   },
   {
    "duration": 11,
    "start_time": "2024-12-28T03:39:12.171Z"
   },
   {
    "duration": 7,
    "start_time": "2024-12-28T03:39:12.184Z"
   },
   {
    "duration": 46,
    "start_time": "2024-12-28T03:39:12.192Z"
   },
   {
    "duration": 9,
    "start_time": "2024-12-28T03:39:12.239Z"
   },
   {
    "duration": 25,
    "start_time": "2024-12-28T03:39:12.249Z"
   },
   {
    "duration": 12,
    "start_time": "2024-12-28T03:39:12.277Z"
   },
   {
    "duration": 52,
    "start_time": "2024-12-28T03:39:12.290Z"
   },
   {
    "duration": 24,
    "start_time": "2024-12-28T03:39:12.344Z"
   },
   {
    "duration": 141,
    "start_time": "2024-12-28T03:39:12.369Z"
   },
   {
    "duration": 35,
    "start_time": "2024-12-28T03:39:12.512Z"
   },
   {
    "duration": 244,
    "start_time": "2024-12-28T03:39:12.548Z"
   },
   {
    "duration": 15,
    "start_time": "2024-12-28T03:39:12.796Z"
   },
   {
    "duration": 20,
    "start_time": "2024-12-28T03:39:12.812Z"
   },
   {
    "duration": 50,
    "start_time": "2024-12-28T03:39:12.834Z"
   },
   {
    "duration": 63,
    "start_time": "2024-12-28T03:39:12.886Z"
   },
   {
    "duration": 6,
    "start_time": "2024-12-28T03:39:12.950Z"
   },
   {
    "duration": 132,
    "start_time": "2024-12-28T03:39:12.957Z"
   },
   {
    "duration": 312,
    "start_time": "2024-12-28T03:39:13.091Z"
   },
   {
    "duration": 103,
    "start_time": "2024-12-28T03:39:13.405Z"
   },
   {
    "duration": 467,
    "start_time": "2024-12-28T03:39:13.510Z"
   },
   {
    "duration": 8154,
    "start_time": "2024-12-28T03:39:13.979Z"
   },
   {
    "duration": 16,
    "start_time": "2024-12-28T03:39:22.137Z"
   },
   {
    "duration": 601,
    "start_time": "2024-12-28T03:39:22.154Z"
   },
   {
    "duration": 17,
    "start_time": "2024-12-28T03:39:22.757Z"
   },
   {
    "duration": 61,
    "start_time": "2024-12-28T03:39:22.778Z"
   },
   {
    "duration": 328,
    "start_time": "2024-12-28T03:39:22.841Z"
   },
   {
    "duration": 0,
    "start_time": "2024-12-28T03:39:23.171Z"
   },
   {
    "duration": 0,
    "start_time": "2024-12-28T03:39:23.172Z"
   },
   {
    "duration": 0,
    "start_time": "2024-12-28T03:39:23.173Z"
   },
   {
    "duration": 0,
    "start_time": "2024-12-28T03:39:23.174Z"
   },
   {
    "duration": 0,
    "start_time": "2024-12-28T03:39:23.176Z"
   },
   {
    "duration": 0,
    "start_time": "2024-12-28T03:39:23.177Z"
   },
   {
    "duration": 0,
    "start_time": "2024-12-28T03:39:23.178Z"
   },
   {
    "duration": 0,
    "start_time": "2024-12-28T03:39:23.179Z"
   },
   {
    "duration": 0,
    "start_time": "2024-12-28T03:39:23.180Z"
   },
   {
    "duration": 40251,
    "start_time": "2024-12-28T03:39:37.068Z"
   },
   {
    "duration": 16,
    "start_time": "2024-12-28T03:41:28.040Z"
   },
   {
    "duration": 96,
    "start_time": "2024-12-28T03:41:31.713Z"
   },
   {
    "duration": 18,
    "start_time": "2024-12-28T03:41:32.585Z"
   },
   {
    "duration": 5,
    "start_time": "2024-12-28T03:41:37.991Z"
   },
   {
    "duration": 35,
    "start_time": "2024-12-28T03:41:38.928Z"
   },
   {
    "duration": 3421,
    "start_time": "2024-12-28T03:41:46.026Z"
   },
   {
    "duration": 212,
    "start_time": "2024-12-28T03:41:54.136Z"
   },
   {
    "duration": 4017,
    "start_time": "2024-12-28T03:43:16.028Z"
   },
   {
    "duration": 207,
    "start_time": "2024-12-28T03:43:24.243Z"
   },
   {
    "duration": 8,
    "start_time": "2024-12-28T04:24:42.801Z"
   },
   {
    "duration": 4,
    "start_time": "2024-12-28T04:25:45.136Z"
   },
   {
    "duration": 16258,
    "start_time": "2024-12-28T04:25:56.096Z"
   },
   {
    "duration": 1675,
    "start_time": "2024-12-28T04:26:50.575Z"
   },
   {
    "duration": 18162,
    "start_time": "2024-12-28T05:07:26.396Z"
   },
   {
    "duration": 15905,
    "start_time": "2024-12-28T05:10:57.842Z"
   },
   {
    "duration": 20847,
    "start_time": "2024-12-28T05:15:08.304Z"
   },
   {
    "duration": 2811,
    "start_time": "2024-12-28T05:15:38.641Z"
   },
   {
    "duration": 15852,
    "start_time": "2024-12-28T05:17:46.495Z"
   },
   {
    "duration": 1729,
    "start_time": "2024-12-28T05:18:07.502Z"
   },
   {
    "duration": 1996,
    "start_time": "2024-12-28T06:07:01.571Z"
   },
   {
    "duration": 1818,
    "start_time": "2024-12-28T06:07:48.630Z"
   },
   {
    "duration": 17227,
    "start_time": "2024-12-28T06:09:59.928Z"
   },
   {
    "duration": 12466,
    "start_time": "2024-12-28T06:15:34.070Z"
   },
   {
    "duration": 12876,
    "start_time": "2024-12-28T06:16:04.710Z"
   },
   {
    "duration": 18738,
    "start_time": "2024-12-28T06:16:48.203Z"
   },
   {
    "duration": 25741,
    "start_time": "2024-12-28T06:17:12.699Z"
   },
   {
    "duration": 1020,
    "start_time": "2024-12-28T06:30:39.994Z"
   },
   {
    "duration": 416,
    "start_time": "2024-12-28T06:30:41.016Z"
   },
   {
    "duration": 33,
    "start_time": "2024-12-28T06:30:41.435Z"
   },
   {
    "duration": 21,
    "start_time": "2024-12-28T06:30:41.470Z"
   },
   {
    "duration": 108,
    "start_time": "2024-12-28T06:30:41.493Z"
   },
   {
    "duration": 67,
    "start_time": "2024-12-28T06:30:41.603Z"
   },
   {
    "duration": 41,
    "start_time": "2024-12-28T06:30:41.672Z"
   },
   {
    "duration": 41,
    "start_time": "2024-12-28T06:30:41.715Z"
   },
   {
    "duration": 7,
    "start_time": "2024-12-28T06:30:41.758Z"
   },
   {
    "duration": 22,
    "start_time": "2024-12-28T06:30:41.768Z"
   },
   {
    "duration": 46,
    "start_time": "2024-12-28T06:30:41.792Z"
   },
   {
    "duration": 120,
    "start_time": "2024-12-28T06:30:41.839Z"
   },
   {
    "duration": 11,
    "start_time": "2024-12-28T06:30:41.961Z"
   },
   {
    "duration": 14,
    "start_time": "2024-12-28T06:30:41.973Z"
   },
   {
    "duration": 47,
    "start_time": "2024-12-28T06:30:41.991Z"
   },
   {
    "duration": 100,
    "start_time": "2024-12-28T06:30:42.040Z"
   },
   {
    "duration": 12,
    "start_time": "2024-12-28T06:30:42.142Z"
   },
   {
    "duration": 7,
    "start_time": "2024-12-28T06:30:42.155Z"
   },
   {
    "duration": 24,
    "start_time": "2024-12-28T06:30:42.164Z"
   },
   {
    "duration": 10,
    "start_time": "2024-12-28T06:30:42.190Z"
   },
   {
    "duration": 49,
    "start_time": "2024-12-28T06:30:42.202Z"
   },
   {
    "duration": 12,
    "start_time": "2024-12-28T06:30:42.252Z"
   },
   {
    "duration": 35,
    "start_time": "2024-12-28T06:30:42.266Z"
   },
   {
    "duration": 45,
    "start_time": "2024-12-28T06:30:42.302Z"
   },
   {
    "duration": 137,
    "start_time": "2024-12-28T06:30:42.349Z"
   },
   {
    "duration": 28,
    "start_time": "2024-12-28T06:30:42.488Z"
   },
   {
    "duration": 227,
    "start_time": "2024-12-28T06:30:42.518Z"
   },
   {
    "duration": 15,
    "start_time": "2024-12-28T06:30:42.750Z"
   },
   {
    "duration": 11,
    "start_time": "2024-12-28T06:30:42.766Z"
   },
   {
    "duration": 65,
    "start_time": "2024-12-28T06:30:42.779Z"
   },
   {
    "duration": 53,
    "start_time": "2024-12-28T06:30:42.845Z"
   },
   {
    "duration": 4,
    "start_time": "2024-12-28T06:30:42.900Z"
   },
   {
    "duration": 130,
    "start_time": "2024-12-28T06:30:42.906Z"
   },
   {
    "duration": 294,
    "start_time": "2024-12-28T06:30:43.038Z"
   },
   {
    "duration": 99,
    "start_time": "2024-12-28T06:30:43.334Z"
   },
   {
    "duration": 465,
    "start_time": "2024-12-28T06:30:43.435Z"
   },
   {
    "duration": 7739,
    "start_time": "2024-12-28T06:30:43.902Z"
   },
   {
    "duration": 486,
    "start_time": "2024-12-28T06:30:51.646Z"
   },
   {
    "duration": 5,
    "start_time": "2024-12-28T06:30:52.134Z"
   },
   {
    "duration": 90,
    "start_time": "2024-12-28T06:30:52.142Z"
   },
   {
    "duration": 533,
    "start_time": "2024-12-28T06:30:52.234Z"
   },
   {
    "duration": 17,
    "start_time": "2024-12-28T06:30:52.769Z"
   },
   {
    "duration": 60,
    "start_time": "2024-12-28T06:30:52.788Z"
   },
   {
    "duration": 470990,
    "start_time": "2024-12-28T06:30:52.849Z"
   },
   {
    "duration": 32860,
    "start_time": "2024-12-28T06:38:43.841Z"
   },
   {
    "duration": 6191,
    "start_time": "2024-12-28T06:39:16.703Z"
   },
   {
    "duration": 5,
    "start_time": "2024-12-28T06:39:22.896Z"
   },
   {
    "duration": 28,
    "start_time": "2024-12-28T06:39:22.903Z"
   },
   {
    "duration": 99,
    "start_time": "2024-12-28T06:39:22.933Z"
   },
   {
    "duration": 19,
    "start_time": "2024-12-28T06:39:23.034Z"
   },
   {
    "duration": 4,
    "start_time": "2024-12-28T06:39:23.054Z"
   },
   {
    "duration": 36,
    "start_time": "2024-12-28T06:39:23.059Z"
   },
   {
    "duration": 20538,
    "start_time": "2024-12-28T06:39:23.097Z"
   },
   {
    "duration": 2904,
    "start_time": "2024-12-28T06:39:43.637Z"
   },
   {
    "duration": 5900,
    "start_time": "2024-12-28T06:39:46.543Z"
   },
   {
    "duration": 20388,
    "start_time": "2024-12-28T06:39:52.445Z"
   },
   {
    "duration": 3,
    "start_time": "2024-12-28T06:40:12.835Z"
   },
   {
    "duration": 19108,
    "start_time": "2024-12-28T06:40:12.840Z"
   },
   {
    "duration": 2699,
    "start_time": "2024-12-28T06:40:31.950Z"
   },
   {
    "duration": 5392,
    "start_time": "2024-12-28T06:40:34.653Z"
   },
   {
    "duration": 18591,
    "start_time": "2024-12-28T06:40:40.046Z"
   },
   {
    "duration": 3,
    "start_time": "2024-12-28T06:40:58.640Z"
   },
   {
    "duration": 1128,
    "start_time": "2024-12-28T07:55:22.149Z"
   },
   {
    "duration": 411,
    "start_time": "2024-12-28T07:55:23.279Z"
   },
   {
    "duration": 31,
    "start_time": "2024-12-28T07:55:23.692Z"
   },
   {
    "duration": 26,
    "start_time": "2024-12-28T07:55:23.725Z"
   },
   {
    "duration": 106,
    "start_time": "2024-12-28T07:55:23.753Z"
   },
   {
    "duration": 71,
    "start_time": "2024-12-28T07:55:23.861Z"
   },
   {
    "duration": 37,
    "start_time": "2024-12-28T07:55:23.934Z"
   },
   {
    "duration": 27,
    "start_time": "2024-12-28T07:55:23.973Z"
   },
   {
    "duration": 7,
    "start_time": "2024-12-28T07:55:24.001Z"
   },
   {
    "duration": 23,
    "start_time": "2024-12-28T07:55:24.032Z"
   },
   {
    "duration": 25,
    "start_time": "2024-12-28T07:55:24.056Z"
   },
   {
    "duration": 124,
    "start_time": "2024-12-28T07:55:24.083Z"
   },
   {
    "duration": 9,
    "start_time": "2024-12-28T07:55:24.208Z"
   },
   {
    "duration": 22,
    "start_time": "2024-12-28T07:55:24.219Z"
   },
   {
    "duration": 25,
    "start_time": "2024-12-28T07:55:24.243Z"
   },
   {
    "duration": 109,
    "start_time": "2024-12-28T07:55:24.270Z"
   },
   {
    "duration": 12,
    "start_time": "2024-12-28T07:55:24.381Z"
   },
   {
    "duration": 7,
    "start_time": "2024-12-28T07:55:24.395Z"
   },
   {
    "duration": 45,
    "start_time": "2024-12-28T07:55:24.404Z"
   },
   {
    "duration": 9,
    "start_time": "2024-12-28T07:55:24.451Z"
   },
   {
    "duration": 25,
    "start_time": "2024-12-28T07:55:24.462Z"
   },
   {
    "duration": 12,
    "start_time": "2024-12-28T07:55:24.489Z"
   },
   {
    "duration": 56,
    "start_time": "2024-12-28T07:55:24.503Z"
   },
   {
    "duration": 24,
    "start_time": "2024-12-28T07:55:24.561Z"
   },
   {
    "duration": 144,
    "start_time": "2024-12-28T07:55:24.587Z"
   },
   {
    "duration": 28,
    "start_time": "2024-12-28T07:55:24.732Z"
   },
   {
    "duration": 222,
    "start_time": "2024-12-28T07:55:24.762Z"
   },
   {
    "duration": 14,
    "start_time": "2024-12-28T07:55:24.989Z"
   },
   {
    "duration": 10,
    "start_time": "2024-12-28T07:55:25.005Z"
   },
   {
    "duration": 50,
    "start_time": "2024-12-28T07:55:25.031Z"
   },
   {
    "duration": 60,
    "start_time": "2024-12-28T07:55:25.083Z"
   },
   {
    "duration": 5,
    "start_time": "2024-12-28T07:55:25.145Z"
   },
   {
    "duration": 123,
    "start_time": "2024-12-28T07:55:25.152Z"
   },
   {
    "duration": 287,
    "start_time": "2024-12-28T07:55:25.277Z"
   },
   {
    "duration": 100,
    "start_time": "2024-12-28T07:55:25.566Z"
   },
   {
    "duration": 466,
    "start_time": "2024-12-28T07:55:25.668Z"
   },
   {
    "duration": 7818,
    "start_time": "2024-12-28T07:55:26.136Z"
   },
   {
    "duration": 576,
    "start_time": "2024-12-28T07:55:33.956Z"
   },
   {
    "duration": 6,
    "start_time": "2024-12-28T07:55:34.534Z"
   },
   {
    "duration": 88,
    "start_time": "2024-12-28T07:55:34.544Z"
   },
   {
    "duration": 541,
    "start_time": "2024-12-28T07:55:34.635Z"
   },
   {
    "duration": 16,
    "start_time": "2024-12-28T07:55:35.178Z"
   },
   {
    "duration": 66,
    "start_time": "2024-12-28T07:55:35.197Z"
   },
   {
    "duration": 295,
    "start_time": "2024-12-28T07:55:35.265Z"
   },
   {
    "duration": 0,
    "start_time": "2024-12-28T07:55:35.561Z"
   },
   {
    "duration": 0,
    "start_time": "2024-12-28T07:55:35.563Z"
   },
   {
    "duration": 0,
    "start_time": "2024-12-28T07:55:35.564Z"
   },
   {
    "duration": 0,
    "start_time": "2024-12-28T07:55:35.564Z"
   },
   {
    "duration": 0,
    "start_time": "2024-12-28T07:55:35.565Z"
   },
   {
    "duration": 0,
    "start_time": "2024-12-28T07:55:35.566Z"
   },
   {
    "duration": 0,
    "start_time": "2024-12-28T07:55:35.568Z"
   },
   {
    "duration": 0,
    "start_time": "2024-12-28T07:55:35.569Z"
   },
   {
    "duration": 0,
    "start_time": "2024-12-28T07:55:35.570Z"
   },
   {
    "duration": 0,
    "start_time": "2024-12-28T07:55:35.571Z"
   },
   {
    "duration": 0,
    "start_time": "2024-12-28T07:55:35.572Z"
   },
   {
    "duration": 0,
    "start_time": "2024-12-28T07:55:35.573Z"
   },
   {
    "duration": 0,
    "start_time": "2024-12-28T07:55:35.574Z"
   },
   {
    "duration": 0,
    "start_time": "2024-12-28T07:55:35.576Z"
   },
   {
    "duration": 0,
    "start_time": "2024-12-28T07:55:35.577Z"
   },
   {
    "duration": 0,
    "start_time": "2024-12-28T07:55:35.578Z"
   },
   {
    "duration": 0,
    "start_time": "2024-12-28T07:55:35.580Z"
   },
   {
    "duration": 0,
    "start_time": "2024-12-28T07:55:35.581Z"
   },
   {
    "duration": 0,
    "start_time": "2024-12-28T07:55:35.582Z"
   },
   {
    "duration": 0,
    "start_time": "2024-12-28T07:55:35.583Z"
   },
   {
    "duration": 33521,
    "start_time": "2024-12-28T07:56:58.829Z"
   },
   {
    "duration": 1910,
    "start_time": "2024-12-28T07:57:45.236Z"
   },
   {
    "duration": 4365,
    "start_time": "2024-12-28T07:58:00.350Z"
   },
   {
    "duration": 5,
    "start_time": "2024-12-28T07:59:26.072Z"
   },
   {
    "duration": 14,
    "start_time": "2024-12-28T08:00:09.004Z"
   },
   {
    "duration": 96,
    "start_time": "2024-12-28T08:00:13.903Z"
   },
   {
    "duration": 16,
    "start_time": "2024-12-28T08:00:15.377Z"
   },
   {
    "duration": 4,
    "start_time": "2024-12-28T08:00:16.433Z"
   },
   {
    "duration": 41,
    "start_time": "2024-12-28T08:00:18.216Z"
   },
   {
    "duration": 20526,
    "start_time": "2024-12-28T08:00:20.508Z"
   },
   {
    "duration": 2938,
    "start_time": "2024-12-28T08:01:06.213Z"
   },
   {
    "duration": 5869,
    "start_time": "2024-12-28T08:01:17.204Z"
   },
   {
    "duration": 20487,
    "start_time": "2024-12-28T08:02:03.970Z"
   },
   {
    "duration": 4,
    "start_time": "2024-12-28T08:02:31.861Z"
   },
   {
    "duration": 16102,
    "start_time": "2024-12-28T08:09:05.042Z"
   },
   {
    "duration": 1989,
    "start_time": "2024-12-28T08:09:35.367Z"
   },
   {
    "duration": 4098,
    "start_time": "2024-12-28T08:09:43.193Z"
   },
   {
    "duration": 14297,
    "start_time": "2024-12-28T08:09:49.088Z"
   },
   {
    "duration": 3,
    "start_time": "2024-12-28T08:10:18.480Z"
   },
   {
    "duration": 19127,
    "start_time": "2024-12-28T08:10:50.410Z"
   },
   {
    "duration": 20862,
    "start_time": "2024-12-28T08:11:35.485Z"
   },
   {
    "duration": 2992,
    "start_time": "2024-12-28T08:12:23.448Z"
   },
   {
    "duration": 6063,
    "start_time": "2024-12-28T08:12:28.695Z"
   },
   {
    "duration": 21213,
    "start_time": "2024-12-28T08:12:38.920Z"
   },
   {
    "duration": 3,
    "start_time": "2024-12-28T08:13:40.965Z"
   },
   {
    "duration": 1031,
    "start_time": "2024-12-28T08:35:55.200Z"
   },
   {
    "duration": 414,
    "start_time": "2024-12-28T08:35:56.233Z"
   },
   {
    "duration": 34,
    "start_time": "2024-12-28T08:35:56.648Z"
   },
   {
    "duration": 20,
    "start_time": "2024-12-28T08:35:56.685Z"
   },
   {
    "duration": 108,
    "start_time": "2024-12-28T08:35:56.707Z"
   },
   {
    "duration": 65,
    "start_time": "2024-12-28T08:35:56.816Z"
   },
   {
    "duration": 50,
    "start_time": "2024-12-28T08:35:56.883Z"
   },
   {
    "duration": 20,
    "start_time": "2024-12-28T08:35:56.935Z"
   },
   {
    "duration": 7,
    "start_time": "2024-12-28T08:35:56.956Z"
   },
   {
    "duration": 23,
    "start_time": "2024-12-28T08:35:56.966Z"
   },
   {
    "duration": 45,
    "start_time": "2024-12-28T08:35:56.991Z"
   },
   {
    "duration": 116,
    "start_time": "2024-12-28T08:35:57.038Z"
   },
   {
    "duration": 10,
    "start_time": "2024-12-28T08:35:57.156Z"
   },
   {
    "duration": 11,
    "start_time": "2024-12-28T08:35:57.168Z"
   },
   {
    "duration": 24,
    "start_time": "2024-12-28T08:35:57.181Z"
   },
   {
    "duration": 115,
    "start_time": "2024-12-28T08:35:57.206Z"
   },
   {
    "duration": 11,
    "start_time": "2024-12-28T08:35:57.331Z"
   },
   {
    "duration": 7,
    "start_time": "2024-12-28T08:35:57.343Z"
   },
   {
    "duration": 27,
    "start_time": "2024-12-28T08:35:57.351Z"
   },
   {
    "duration": 9,
    "start_time": "2024-12-28T08:35:57.380Z"
   },
   {
    "duration": 48,
    "start_time": "2024-12-28T08:35:57.390Z"
   },
   {
    "duration": 11,
    "start_time": "2024-12-28T08:35:57.440Z"
   },
   {
    "duration": 33,
    "start_time": "2024-12-28T08:35:57.453Z"
   },
   {
    "duration": 22,
    "start_time": "2024-12-28T08:35:57.488Z"
   },
   {
    "duration": 139,
    "start_time": "2024-12-28T08:35:57.532Z"
   },
   {
    "duration": 25,
    "start_time": "2024-12-28T08:35:57.673Z"
   },
   {
    "duration": 218,
    "start_time": "2024-12-28T08:35:57.700Z"
   },
   {
    "duration": 19,
    "start_time": "2024-12-28T08:35:57.923Z"
   },
   {
    "duration": 9,
    "start_time": "2024-12-28T08:35:57.945Z"
   },
   {
    "duration": 50,
    "start_time": "2024-12-28T08:35:57.956Z"
   },
   {
    "duration": 74,
    "start_time": "2024-12-28T08:35:58.008Z"
   },
   {
    "duration": 6,
    "start_time": "2024-12-28T08:35:58.083Z"
   },
   {
    "duration": 124,
    "start_time": "2024-12-28T08:35:58.091Z"
   },
   {
    "duration": 290,
    "start_time": "2024-12-28T08:35:58.217Z"
   },
   {
    "duration": 101,
    "start_time": "2024-12-28T08:35:58.509Z"
   },
   {
    "duration": 469,
    "start_time": "2024-12-28T08:35:58.612Z"
   },
   {
    "duration": 7455,
    "start_time": "2024-12-28T08:35:59.083Z"
   },
   {
    "duration": 494,
    "start_time": "2024-12-28T08:36:06.541Z"
   },
   {
    "duration": 4,
    "start_time": "2024-12-28T08:36:07.036Z"
   },
   {
    "duration": 91,
    "start_time": "2024-12-28T08:36:07.042Z"
   },
   {
    "duration": 554,
    "start_time": "2024-12-28T08:36:07.135Z"
   },
   {
    "duration": 16,
    "start_time": "2024-12-28T08:36:07.691Z"
   },
   {
    "duration": 64,
    "start_time": "2024-12-28T08:36:07.708Z"
   },
   {
    "duration": 476180,
    "start_time": "2024-12-28T08:36:07.774Z"
   },
   {
    "duration": 32785,
    "start_time": "2024-12-28T08:44:03.956Z"
   },
   {
    "duration": 1935,
    "start_time": "2024-12-28T08:44:36.743Z"
   },
   {
    "duration": 4287,
    "start_time": "2024-12-28T08:44:38.679Z"
   },
   {
    "duration": 5,
    "start_time": "2024-12-28T08:44:42.968Z"
   },
   {
    "duration": 14,
    "start_time": "2024-12-28T08:44:42.974Z"
   },
   {
    "duration": 121,
    "start_time": "2024-12-28T08:44:42.989Z"
   },
   {
    "duration": 20,
    "start_time": "2024-12-28T08:44:43.112Z"
   },
   {
    "duration": 4,
    "start_time": "2024-12-28T08:44:43.133Z"
   },
   {
    "duration": 35,
    "start_time": "2024-12-28T08:44:43.139Z"
   },
   {
    "duration": 20776,
    "start_time": "2024-12-28T08:44:43.176Z"
   },
   {
    "duration": 2992,
    "start_time": "2024-12-28T08:45:03.953Z"
   },
   {
    "duration": 5922,
    "start_time": "2024-12-28T08:45:06.948Z"
   },
   {
    "duration": 20631,
    "start_time": "2024-12-28T08:45:12.932Z"
   },
   {
    "duration": 3,
    "start_time": "2024-12-28T08:45:33.565Z"
   },
   {
    "duration": 20587,
    "start_time": "2024-12-28T08:45:33.570Z"
   },
   {
    "duration": 2999,
    "start_time": "2024-12-28T08:45:54.159Z"
   },
   {
    "duration": 6019,
    "start_time": "2024-12-28T08:45:57.231Z"
   },
   {
    "duration": 20806,
    "start_time": "2024-12-28T08:46:03.252Z"
   },
   {
    "duration": 3,
    "start_time": "2024-12-28T08:46:24.060Z"
   }
  ],
  "kernelspec": {
   "display_name": "Python 3 (ipykernel)",
   "language": "python",
   "name": "python3"
  },
  "language_info": {
   "codemirror_mode": {
    "name": "ipython",
    "version": 3
   },
   "file_extension": ".py",
   "mimetype": "text/x-python",
   "name": "python",
   "nbconvert_exporter": "python",
   "pygments_lexer": "ipython3",
   "version": "3.10.9"
  },
  "toc": {
   "base_numbering": 1,
   "nav_menu": {},
   "number_sections": true,
   "sideBar": true,
   "skip_h1_title": true,
   "title_cell": "Table of Contents",
   "title_sidebar": "Contents",
   "toc_cell": false,
   "toc_position": {},
   "toc_section_display": true,
   "toc_window_display": false
  }
 },
 "nbformat": 4,
 "nbformat_minor": 2
}
